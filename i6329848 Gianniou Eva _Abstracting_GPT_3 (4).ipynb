{
  "nbformat": 4,
  "nbformat_minor": 0,
  "metadata": {
    "colab": {
      "provenance": [],
      "toc_visible": true,
      "collapsed_sections": [
        "F1kk30M18gW7"
      ]
    },
    "kernelspec": {
      "name": "python3",
      "display_name": "Python 3"
    },
    "language_info": {
      "name": "python"
    },
    "accelerator": "TPU",
    "gpuClass": "standard",
    "widgets": {
      "application/vnd.jupyter.widget-state+json": {
        "15bfdeaeea804f7da4d07cf70bee0066": {
          "model_module": "@jupyter-widgets/controls",
          "model_name": "HBoxModel",
          "model_module_version": "1.5.0",
          "state": {
            "_dom_classes": [],
            "_model_module": "@jupyter-widgets/controls",
            "_model_module_version": "1.5.0",
            "_model_name": "HBoxModel",
            "_view_count": null,
            "_view_module": "@jupyter-widgets/controls",
            "_view_module_version": "1.5.0",
            "_view_name": "HBoxView",
            "box_style": "",
            "children": [
              "IPY_MODEL_5edd29056fe3482bbdec69e36a89130c",
              "IPY_MODEL_bcd564a60fd8426bb2be009e78a8cd2b",
              "IPY_MODEL_9d09cce98c4a4c0ba41cc516becfe5f0"
            ],
            "layout": "IPY_MODEL_b13f2dd2294d436693e0d5b7ee4b0955"
          }
        },
        "5edd29056fe3482bbdec69e36a89130c": {
          "model_module": "@jupyter-widgets/controls",
          "model_name": "HTMLModel",
          "model_module_version": "1.5.0",
          "state": {
            "_dom_classes": [],
            "_model_module": "@jupyter-widgets/controls",
            "_model_module_version": "1.5.0",
            "_model_name": "HTMLModel",
            "_view_count": null,
            "_view_module": "@jupyter-widgets/controls",
            "_view_module_version": "1.5.0",
            "_view_name": "HTMLView",
            "description": "",
            "description_tooltip": null,
            "layout": "IPY_MODEL_0e93c551a8d84eef9d4331a0037ed937",
            "placeholder": "​",
            "style": "IPY_MODEL_f152bf971e244b31b2e54ee58e620be5",
            "value": "Downloading: 100%"
          }
        },
        "bcd564a60fd8426bb2be009e78a8cd2b": {
          "model_module": "@jupyter-widgets/controls",
          "model_name": "FloatProgressModel",
          "model_module_version": "1.5.0",
          "state": {
            "_dom_classes": [],
            "_model_module": "@jupyter-widgets/controls",
            "_model_module_version": "1.5.0",
            "_model_name": "FloatProgressModel",
            "_view_count": null,
            "_view_module": "@jupyter-widgets/controls",
            "_view_module_version": "1.5.0",
            "_view_name": "ProgressView",
            "bar_style": "success",
            "description": "",
            "description_tooltip": null,
            "layout": "IPY_MODEL_230113c32f694ca28fd180e42510abda",
            "max": 1912529,
            "min": 0,
            "orientation": "horizontal",
            "style": "IPY_MODEL_fdb7bbd8b3b44a34a05d1067641704f5",
            "value": 1912529
          }
        },
        "9d09cce98c4a4c0ba41cc516becfe5f0": {
          "model_module": "@jupyter-widgets/controls",
          "model_name": "HTMLModel",
          "model_module_version": "1.5.0",
          "state": {
            "_dom_classes": [],
            "_model_module": "@jupyter-widgets/controls",
            "_model_module_version": "1.5.0",
            "_model_name": "HTMLModel",
            "_view_count": null,
            "_view_module": "@jupyter-widgets/controls",
            "_view_module_version": "1.5.0",
            "_view_name": "HTMLView",
            "description": "",
            "description_tooltip": null,
            "layout": "IPY_MODEL_ec0be40079084b4fb7cf15bca7fa6ae4",
            "placeholder": "​",
            "style": "IPY_MODEL_20e16f2c6e554a8aa4651da0a8646dd0",
            "value": " 1.91M/1.91M [00:00&lt;00:00, 2.75MB/s]"
          }
        },
        "b13f2dd2294d436693e0d5b7ee4b0955": {
          "model_module": "@jupyter-widgets/base",
          "model_name": "LayoutModel",
          "model_module_version": "1.2.0",
          "state": {
            "_model_module": "@jupyter-widgets/base",
            "_model_module_version": "1.2.0",
            "_model_name": "LayoutModel",
            "_view_count": null,
            "_view_module": "@jupyter-widgets/base",
            "_view_module_version": "1.2.0",
            "_view_name": "LayoutView",
            "align_content": null,
            "align_items": null,
            "align_self": null,
            "border": null,
            "bottom": null,
            "display": null,
            "flex": null,
            "flex_flow": null,
            "grid_area": null,
            "grid_auto_columns": null,
            "grid_auto_flow": null,
            "grid_auto_rows": null,
            "grid_column": null,
            "grid_gap": null,
            "grid_row": null,
            "grid_template_areas": null,
            "grid_template_columns": null,
            "grid_template_rows": null,
            "height": null,
            "justify_content": null,
            "justify_items": null,
            "left": null,
            "margin": null,
            "max_height": null,
            "max_width": null,
            "min_height": null,
            "min_width": null,
            "object_fit": null,
            "object_position": null,
            "order": null,
            "overflow": null,
            "overflow_x": null,
            "overflow_y": null,
            "padding": null,
            "right": null,
            "top": null,
            "visibility": null,
            "width": null
          }
        },
        "0e93c551a8d84eef9d4331a0037ed937": {
          "model_module": "@jupyter-widgets/base",
          "model_name": "LayoutModel",
          "model_module_version": "1.2.0",
          "state": {
            "_model_module": "@jupyter-widgets/base",
            "_model_module_version": "1.2.0",
            "_model_name": "LayoutModel",
            "_view_count": null,
            "_view_module": "@jupyter-widgets/base",
            "_view_module_version": "1.2.0",
            "_view_name": "LayoutView",
            "align_content": null,
            "align_items": null,
            "align_self": null,
            "border": null,
            "bottom": null,
            "display": null,
            "flex": null,
            "flex_flow": null,
            "grid_area": null,
            "grid_auto_columns": null,
            "grid_auto_flow": null,
            "grid_auto_rows": null,
            "grid_column": null,
            "grid_gap": null,
            "grid_row": null,
            "grid_template_areas": null,
            "grid_template_columns": null,
            "grid_template_rows": null,
            "height": null,
            "justify_content": null,
            "justify_items": null,
            "left": null,
            "margin": null,
            "max_height": null,
            "max_width": null,
            "min_height": null,
            "min_width": null,
            "object_fit": null,
            "object_position": null,
            "order": null,
            "overflow": null,
            "overflow_x": null,
            "overflow_y": null,
            "padding": null,
            "right": null,
            "top": null,
            "visibility": null,
            "width": null
          }
        },
        "f152bf971e244b31b2e54ee58e620be5": {
          "model_module": "@jupyter-widgets/controls",
          "model_name": "DescriptionStyleModel",
          "model_module_version": "1.5.0",
          "state": {
            "_model_module": "@jupyter-widgets/controls",
            "_model_module_version": "1.5.0",
            "_model_name": "DescriptionStyleModel",
            "_view_count": null,
            "_view_module": "@jupyter-widgets/base",
            "_view_module_version": "1.2.0",
            "_view_name": "StyleView",
            "description_width": ""
          }
        },
        "230113c32f694ca28fd180e42510abda": {
          "model_module": "@jupyter-widgets/base",
          "model_name": "LayoutModel",
          "model_module_version": "1.2.0",
          "state": {
            "_model_module": "@jupyter-widgets/base",
            "_model_module_version": "1.2.0",
            "_model_name": "LayoutModel",
            "_view_count": null,
            "_view_module": "@jupyter-widgets/base",
            "_view_module_version": "1.2.0",
            "_view_name": "LayoutView",
            "align_content": null,
            "align_items": null,
            "align_self": null,
            "border": null,
            "bottom": null,
            "display": null,
            "flex": null,
            "flex_flow": null,
            "grid_area": null,
            "grid_auto_columns": null,
            "grid_auto_flow": null,
            "grid_auto_rows": null,
            "grid_column": null,
            "grid_gap": null,
            "grid_row": null,
            "grid_template_areas": null,
            "grid_template_columns": null,
            "grid_template_rows": null,
            "height": null,
            "justify_content": null,
            "justify_items": null,
            "left": null,
            "margin": null,
            "max_height": null,
            "max_width": null,
            "min_height": null,
            "min_width": null,
            "object_fit": null,
            "object_position": null,
            "order": null,
            "overflow": null,
            "overflow_x": null,
            "overflow_y": null,
            "padding": null,
            "right": null,
            "top": null,
            "visibility": null,
            "width": null
          }
        },
        "fdb7bbd8b3b44a34a05d1067641704f5": {
          "model_module": "@jupyter-widgets/controls",
          "model_name": "ProgressStyleModel",
          "model_module_version": "1.5.0",
          "state": {
            "_model_module": "@jupyter-widgets/controls",
            "_model_module_version": "1.5.0",
            "_model_name": "ProgressStyleModel",
            "_view_count": null,
            "_view_module": "@jupyter-widgets/base",
            "_view_module_version": "1.2.0",
            "_view_name": "StyleView",
            "bar_color": null,
            "description_width": ""
          }
        },
        "ec0be40079084b4fb7cf15bca7fa6ae4": {
          "model_module": "@jupyter-widgets/base",
          "model_name": "LayoutModel",
          "model_module_version": "1.2.0",
          "state": {
            "_model_module": "@jupyter-widgets/base",
            "_model_module_version": "1.2.0",
            "_model_name": "LayoutModel",
            "_view_count": null,
            "_view_module": "@jupyter-widgets/base",
            "_view_module_version": "1.2.0",
            "_view_name": "LayoutView",
            "align_content": null,
            "align_items": null,
            "align_self": null,
            "border": null,
            "bottom": null,
            "display": null,
            "flex": null,
            "flex_flow": null,
            "grid_area": null,
            "grid_auto_columns": null,
            "grid_auto_flow": null,
            "grid_auto_rows": null,
            "grid_column": null,
            "grid_gap": null,
            "grid_row": null,
            "grid_template_areas": null,
            "grid_template_columns": null,
            "grid_template_rows": null,
            "height": null,
            "justify_content": null,
            "justify_items": null,
            "left": null,
            "margin": null,
            "max_height": null,
            "max_width": null,
            "min_height": null,
            "min_width": null,
            "object_fit": null,
            "object_position": null,
            "order": null,
            "overflow": null,
            "overflow_x": null,
            "overflow_y": null,
            "padding": null,
            "right": null,
            "top": null,
            "visibility": null,
            "width": null
          }
        },
        "20e16f2c6e554a8aa4651da0a8646dd0": {
          "model_module": "@jupyter-widgets/controls",
          "model_name": "DescriptionStyleModel",
          "model_module_version": "1.5.0",
          "state": {
            "_model_module": "@jupyter-widgets/controls",
            "_model_module_version": "1.5.0",
            "_model_name": "DescriptionStyleModel",
            "_view_count": null,
            "_view_module": "@jupyter-widgets/base",
            "_view_module_version": "1.2.0",
            "_view_name": "StyleView",
            "description_width": ""
          }
        },
        "8832109d14d14ccaad8fef76ab7f4122": {
          "model_module": "@jupyter-widgets/controls",
          "model_name": "HBoxModel",
          "model_module_version": "1.5.0",
          "state": {
            "_dom_classes": [],
            "_model_module": "@jupyter-widgets/controls",
            "_model_module_version": "1.5.0",
            "_model_name": "HBoxModel",
            "_view_count": null,
            "_view_module": "@jupyter-widgets/controls",
            "_view_module_version": "1.5.0",
            "_view_name": "HBoxView",
            "box_style": "",
            "children": [
              "IPY_MODEL_bd07e8f86ba54fbc8f0f5352d5d2fe73",
              "IPY_MODEL_847195d8698e49bbba2d673cbfcae5ed",
              "IPY_MODEL_a3e282ef0273409d8da14cf297e5912f"
            ],
            "layout": "IPY_MODEL_ce8a364c6ecb4f968582a2376fa50a5d"
          }
        },
        "bd07e8f86ba54fbc8f0f5352d5d2fe73": {
          "model_module": "@jupyter-widgets/controls",
          "model_name": "HTMLModel",
          "model_module_version": "1.5.0",
          "state": {
            "_dom_classes": [],
            "_model_module": "@jupyter-widgets/controls",
            "_model_module_version": "1.5.0",
            "_model_name": "HTMLModel",
            "_view_count": null,
            "_view_module": "@jupyter-widgets/controls",
            "_view_module_version": "1.5.0",
            "_view_name": "HTMLView",
            "description": "",
            "description_tooltip": null,
            "layout": "IPY_MODEL_90842c96b9474838bfb8b2a0360e7713",
            "placeholder": "​",
            "style": "IPY_MODEL_06d6f8653306468299cf0eb4262286b0",
            "value": "Downloading: 100%"
          }
        },
        "847195d8698e49bbba2d673cbfcae5ed": {
          "model_module": "@jupyter-widgets/controls",
          "model_name": "FloatProgressModel",
          "model_module_version": "1.5.0",
          "state": {
            "_dom_classes": [],
            "_model_module": "@jupyter-widgets/controls",
            "_model_module_version": "1.5.0",
            "_model_name": "FloatProgressModel",
            "_view_count": null,
            "_view_module": "@jupyter-widgets/controls",
            "_view_module_version": "1.5.0",
            "_view_name": "ProgressView",
            "bar_style": "success",
            "description": "",
            "description_tooltip": null,
            "layout": "IPY_MODEL_ff7f64236f8d4f5896fd4717640dcd8c",
            "max": 65,
            "min": 0,
            "orientation": "horizontal",
            "style": "IPY_MODEL_cb7678c7196d4f38aaae78ee3e5b818a",
            "value": 65
          }
        },
        "a3e282ef0273409d8da14cf297e5912f": {
          "model_module": "@jupyter-widgets/controls",
          "model_name": "HTMLModel",
          "model_module_version": "1.5.0",
          "state": {
            "_dom_classes": [],
            "_model_module": "@jupyter-widgets/controls",
            "_model_module_version": "1.5.0",
            "_model_name": "HTMLModel",
            "_view_count": null,
            "_view_module": "@jupyter-widgets/controls",
            "_view_module_version": "1.5.0",
            "_view_name": "HTMLView",
            "description": "",
            "description_tooltip": null,
            "layout": "IPY_MODEL_a563be2ef55e4d90a960330e4831c559",
            "placeholder": "​",
            "style": "IPY_MODEL_05541d7d9edb4dc9912eed7ba5354b7b",
            "value": " 65.0/65.0 [00:00&lt;00:00, 125B/s]"
          }
        },
        "ce8a364c6ecb4f968582a2376fa50a5d": {
          "model_module": "@jupyter-widgets/base",
          "model_name": "LayoutModel",
          "model_module_version": "1.2.0",
          "state": {
            "_model_module": "@jupyter-widgets/base",
            "_model_module_version": "1.2.0",
            "_model_name": "LayoutModel",
            "_view_count": null,
            "_view_module": "@jupyter-widgets/base",
            "_view_module_version": "1.2.0",
            "_view_name": "LayoutView",
            "align_content": null,
            "align_items": null,
            "align_self": null,
            "border": null,
            "bottom": null,
            "display": null,
            "flex": null,
            "flex_flow": null,
            "grid_area": null,
            "grid_auto_columns": null,
            "grid_auto_flow": null,
            "grid_auto_rows": null,
            "grid_column": null,
            "grid_gap": null,
            "grid_row": null,
            "grid_template_areas": null,
            "grid_template_columns": null,
            "grid_template_rows": null,
            "height": null,
            "justify_content": null,
            "justify_items": null,
            "left": null,
            "margin": null,
            "max_height": null,
            "max_width": null,
            "min_height": null,
            "min_width": null,
            "object_fit": null,
            "object_position": null,
            "order": null,
            "overflow": null,
            "overflow_x": null,
            "overflow_y": null,
            "padding": null,
            "right": null,
            "top": null,
            "visibility": null,
            "width": null
          }
        },
        "90842c96b9474838bfb8b2a0360e7713": {
          "model_module": "@jupyter-widgets/base",
          "model_name": "LayoutModel",
          "model_module_version": "1.2.0",
          "state": {
            "_model_module": "@jupyter-widgets/base",
            "_model_module_version": "1.2.0",
            "_model_name": "LayoutModel",
            "_view_count": null,
            "_view_module": "@jupyter-widgets/base",
            "_view_module_version": "1.2.0",
            "_view_name": "LayoutView",
            "align_content": null,
            "align_items": null,
            "align_self": null,
            "border": null,
            "bottom": null,
            "display": null,
            "flex": null,
            "flex_flow": null,
            "grid_area": null,
            "grid_auto_columns": null,
            "grid_auto_flow": null,
            "grid_auto_rows": null,
            "grid_column": null,
            "grid_gap": null,
            "grid_row": null,
            "grid_template_areas": null,
            "grid_template_columns": null,
            "grid_template_rows": null,
            "height": null,
            "justify_content": null,
            "justify_items": null,
            "left": null,
            "margin": null,
            "max_height": null,
            "max_width": null,
            "min_height": null,
            "min_width": null,
            "object_fit": null,
            "object_position": null,
            "order": null,
            "overflow": null,
            "overflow_x": null,
            "overflow_y": null,
            "padding": null,
            "right": null,
            "top": null,
            "visibility": null,
            "width": null
          }
        },
        "06d6f8653306468299cf0eb4262286b0": {
          "model_module": "@jupyter-widgets/controls",
          "model_name": "DescriptionStyleModel",
          "model_module_version": "1.5.0",
          "state": {
            "_model_module": "@jupyter-widgets/controls",
            "_model_module_version": "1.5.0",
            "_model_name": "DescriptionStyleModel",
            "_view_count": null,
            "_view_module": "@jupyter-widgets/base",
            "_view_module_version": "1.2.0",
            "_view_name": "StyleView",
            "description_width": ""
          }
        },
        "ff7f64236f8d4f5896fd4717640dcd8c": {
          "model_module": "@jupyter-widgets/base",
          "model_name": "LayoutModel",
          "model_module_version": "1.2.0",
          "state": {
            "_model_module": "@jupyter-widgets/base",
            "_model_module_version": "1.2.0",
            "_model_name": "LayoutModel",
            "_view_count": null,
            "_view_module": "@jupyter-widgets/base",
            "_view_module_version": "1.2.0",
            "_view_name": "LayoutView",
            "align_content": null,
            "align_items": null,
            "align_self": null,
            "border": null,
            "bottom": null,
            "display": null,
            "flex": null,
            "flex_flow": null,
            "grid_area": null,
            "grid_auto_columns": null,
            "grid_auto_flow": null,
            "grid_auto_rows": null,
            "grid_column": null,
            "grid_gap": null,
            "grid_row": null,
            "grid_template_areas": null,
            "grid_template_columns": null,
            "grid_template_rows": null,
            "height": null,
            "justify_content": null,
            "justify_items": null,
            "left": null,
            "margin": null,
            "max_height": null,
            "max_width": null,
            "min_height": null,
            "min_width": null,
            "object_fit": null,
            "object_position": null,
            "order": null,
            "overflow": null,
            "overflow_x": null,
            "overflow_y": null,
            "padding": null,
            "right": null,
            "top": null,
            "visibility": null,
            "width": null
          }
        },
        "cb7678c7196d4f38aaae78ee3e5b818a": {
          "model_module": "@jupyter-widgets/controls",
          "model_name": "ProgressStyleModel",
          "model_module_version": "1.5.0",
          "state": {
            "_model_module": "@jupyter-widgets/controls",
            "_model_module_version": "1.5.0",
            "_model_name": "ProgressStyleModel",
            "_view_count": null,
            "_view_module": "@jupyter-widgets/base",
            "_view_module_version": "1.2.0",
            "_view_name": "StyleView",
            "bar_color": null,
            "description_width": ""
          }
        },
        "a563be2ef55e4d90a960330e4831c559": {
          "model_module": "@jupyter-widgets/base",
          "model_name": "LayoutModel",
          "model_module_version": "1.2.0",
          "state": {
            "_model_module": "@jupyter-widgets/base",
            "_model_module_version": "1.2.0",
            "_model_name": "LayoutModel",
            "_view_count": null,
            "_view_module": "@jupyter-widgets/base",
            "_view_module_version": "1.2.0",
            "_view_name": "LayoutView",
            "align_content": null,
            "align_items": null,
            "align_self": null,
            "border": null,
            "bottom": null,
            "display": null,
            "flex": null,
            "flex_flow": null,
            "grid_area": null,
            "grid_auto_columns": null,
            "grid_auto_flow": null,
            "grid_auto_rows": null,
            "grid_column": null,
            "grid_gap": null,
            "grid_row": null,
            "grid_template_areas": null,
            "grid_template_columns": null,
            "grid_template_rows": null,
            "height": null,
            "justify_content": null,
            "justify_items": null,
            "left": null,
            "margin": null,
            "max_height": null,
            "max_width": null,
            "min_height": null,
            "min_width": null,
            "object_fit": null,
            "object_position": null,
            "order": null,
            "overflow": null,
            "overflow_x": null,
            "overflow_y": null,
            "padding": null,
            "right": null,
            "top": null,
            "visibility": null,
            "width": null
          }
        },
        "05541d7d9edb4dc9912eed7ba5354b7b": {
          "model_module": "@jupyter-widgets/controls",
          "model_name": "DescriptionStyleModel",
          "model_module_version": "1.5.0",
          "state": {
            "_model_module": "@jupyter-widgets/controls",
            "_model_module_version": "1.5.0",
            "_model_name": "DescriptionStyleModel",
            "_view_count": null,
            "_view_module": "@jupyter-widgets/base",
            "_view_module_version": "1.2.0",
            "_view_name": "StyleView",
            "description_width": ""
          }
        },
        "e173b263bd904cf986de3600885fcf5f": {
          "model_module": "@jupyter-widgets/controls",
          "model_name": "HBoxModel",
          "model_module_version": "1.5.0",
          "state": {
            "_dom_classes": [],
            "_model_module": "@jupyter-widgets/controls",
            "_model_module_version": "1.5.0",
            "_model_name": "HBoxModel",
            "_view_count": null,
            "_view_module": "@jupyter-widgets/controls",
            "_view_module_version": "1.5.0",
            "_view_name": "HBoxView",
            "box_style": "",
            "children": [
              "IPY_MODEL_9ecd143e32c24c4588fc8499c125cb2a",
              "IPY_MODEL_669e5a86d228424d8a47ceb57b9e3a8e",
              "IPY_MODEL_dddc2c004c2046b2b46d2fe838bd3a0f"
            ],
            "layout": "IPY_MODEL_71a5700b13254242a28e32d04e426320"
          }
        },
        "9ecd143e32c24c4588fc8499c125cb2a": {
          "model_module": "@jupyter-widgets/controls",
          "model_name": "HTMLModel",
          "model_module_version": "1.5.0",
          "state": {
            "_dom_classes": [],
            "_model_module": "@jupyter-widgets/controls",
            "_model_module_version": "1.5.0",
            "_model_name": "HTMLModel",
            "_view_count": null,
            "_view_module": "@jupyter-widgets/controls",
            "_view_module_version": "1.5.0",
            "_view_name": "HTMLView",
            "description": "",
            "description_tooltip": null,
            "layout": "IPY_MODEL_97fa7315d388407d8c38e6f927fe66e7",
            "placeholder": "​",
            "style": "IPY_MODEL_ad2a0458fcf94fc49228e82bd091cd03",
            "value": "Downloading: 100%"
          }
        },
        "669e5a86d228424d8a47ceb57b9e3a8e": {
          "model_module": "@jupyter-widgets/controls",
          "model_name": "FloatProgressModel",
          "model_module_version": "1.5.0",
          "state": {
            "_dom_classes": [],
            "_model_module": "@jupyter-widgets/controls",
            "_model_module_version": "1.5.0",
            "_model_name": "FloatProgressModel",
            "_view_count": null,
            "_view_module": "@jupyter-widgets/controls",
            "_view_module_version": "1.5.0",
            "_view_name": "ProgressView",
            "bar_style": "success",
            "description": "",
            "description_tooltip": null,
            "layout": "IPY_MODEL_f9233a92a9454262952d072450f29023",
            "max": 87,
            "min": 0,
            "orientation": "horizontal",
            "style": "IPY_MODEL_63d11b0714ab4fb5b97e1573522fc068",
            "value": 87
          }
        },
        "dddc2c004c2046b2b46d2fe838bd3a0f": {
          "model_module": "@jupyter-widgets/controls",
          "model_name": "HTMLModel",
          "model_module_version": "1.5.0",
          "state": {
            "_dom_classes": [],
            "_model_module": "@jupyter-widgets/controls",
            "_model_module_version": "1.5.0",
            "_model_name": "HTMLModel",
            "_view_count": null,
            "_view_module": "@jupyter-widgets/controls",
            "_view_module_version": "1.5.0",
            "_view_name": "HTMLView",
            "description": "",
            "description_tooltip": null,
            "layout": "IPY_MODEL_dc87b2bbe5ee487dabdf6fd8c02ffb78",
            "placeholder": "​",
            "style": "IPY_MODEL_57f3e4a00d4045c88cf864fa0847bddd",
            "value": " 87.0/87.0 [00:00&lt;00:00, 1.89kB/s]"
          }
        },
        "71a5700b13254242a28e32d04e426320": {
          "model_module": "@jupyter-widgets/base",
          "model_name": "LayoutModel",
          "model_module_version": "1.2.0",
          "state": {
            "_model_module": "@jupyter-widgets/base",
            "_model_module_version": "1.2.0",
            "_model_name": "LayoutModel",
            "_view_count": null,
            "_view_module": "@jupyter-widgets/base",
            "_view_module_version": "1.2.0",
            "_view_name": "LayoutView",
            "align_content": null,
            "align_items": null,
            "align_self": null,
            "border": null,
            "bottom": null,
            "display": null,
            "flex": null,
            "flex_flow": null,
            "grid_area": null,
            "grid_auto_columns": null,
            "grid_auto_flow": null,
            "grid_auto_rows": null,
            "grid_column": null,
            "grid_gap": null,
            "grid_row": null,
            "grid_template_areas": null,
            "grid_template_columns": null,
            "grid_template_rows": null,
            "height": null,
            "justify_content": null,
            "justify_items": null,
            "left": null,
            "margin": null,
            "max_height": null,
            "max_width": null,
            "min_height": null,
            "min_width": null,
            "object_fit": null,
            "object_position": null,
            "order": null,
            "overflow": null,
            "overflow_x": null,
            "overflow_y": null,
            "padding": null,
            "right": null,
            "top": null,
            "visibility": null,
            "width": null
          }
        },
        "97fa7315d388407d8c38e6f927fe66e7": {
          "model_module": "@jupyter-widgets/base",
          "model_name": "LayoutModel",
          "model_module_version": "1.2.0",
          "state": {
            "_model_module": "@jupyter-widgets/base",
            "_model_module_version": "1.2.0",
            "_model_name": "LayoutModel",
            "_view_count": null,
            "_view_module": "@jupyter-widgets/base",
            "_view_module_version": "1.2.0",
            "_view_name": "LayoutView",
            "align_content": null,
            "align_items": null,
            "align_self": null,
            "border": null,
            "bottom": null,
            "display": null,
            "flex": null,
            "flex_flow": null,
            "grid_area": null,
            "grid_auto_columns": null,
            "grid_auto_flow": null,
            "grid_auto_rows": null,
            "grid_column": null,
            "grid_gap": null,
            "grid_row": null,
            "grid_template_areas": null,
            "grid_template_columns": null,
            "grid_template_rows": null,
            "height": null,
            "justify_content": null,
            "justify_items": null,
            "left": null,
            "margin": null,
            "max_height": null,
            "max_width": null,
            "min_height": null,
            "min_width": null,
            "object_fit": null,
            "object_position": null,
            "order": null,
            "overflow": null,
            "overflow_x": null,
            "overflow_y": null,
            "padding": null,
            "right": null,
            "top": null,
            "visibility": null,
            "width": null
          }
        },
        "ad2a0458fcf94fc49228e82bd091cd03": {
          "model_module": "@jupyter-widgets/controls",
          "model_name": "DescriptionStyleModel",
          "model_module_version": "1.5.0",
          "state": {
            "_model_module": "@jupyter-widgets/controls",
            "_model_module_version": "1.5.0",
            "_model_name": "DescriptionStyleModel",
            "_view_count": null,
            "_view_module": "@jupyter-widgets/base",
            "_view_module_version": "1.2.0",
            "_view_name": "StyleView",
            "description_width": ""
          }
        },
        "f9233a92a9454262952d072450f29023": {
          "model_module": "@jupyter-widgets/base",
          "model_name": "LayoutModel",
          "model_module_version": "1.2.0",
          "state": {
            "_model_module": "@jupyter-widgets/base",
            "_model_module_version": "1.2.0",
            "_model_name": "LayoutModel",
            "_view_count": null,
            "_view_module": "@jupyter-widgets/base",
            "_view_module_version": "1.2.0",
            "_view_name": "LayoutView",
            "align_content": null,
            "align_items": null,
            "align_self": null,
            "border": null,
            "bottom": null,
            "display": null,
            "flex": null,
            "flex_flow": null,
            "grid_area": null,
            "grid_auto_columns": null,
            "grid_auto_flow": null,
            "grid_auto_rows": null,
            "grid_column": null,
            "grid_gap": null,
            "grid_row": null,
            "grid_template_areas": null,
            "grid_template_columns": null,
            "grid_template_rows": null,
            "height": null,
            "justify_content": null,
            "justify_items": null,
            "left": null,
            "margin": null,
            "max_height": null,
            "max_width": null,
            "min_height": null,
            "min_width": null,
            "object_fit": null,
            "object_position": null,
            "order": null,
            "overflow": null,
            "overflow_x": null,
            "overflow_y": null,
            "padding": null,
            "right": null,
            "top": null,
            "visibility": null,
            "width": null
          }
        },
        "63d11b0714ab4fb5b97e1573522fc068": {
          "model_module": "@jupyter-widgets/controls",
          "model_name": "ProgressStyleModel",
          "model_module_version": "1.5.0",
          "state": {
            "_model_module": "@jupyter-widgets/controls",
            "_model_module_version": "1.5.0",
            "_model_name": "ProgressStyleModel",
            "_view_count": null,
            "_view_module": "@jupyter-widgets/base",
            "_view_module_version": "1.2.0",
            "_view_name": "StyleView",
            "bar_color": null,
            "description_width": ""
          }
        },
        "dc87b2bbe5ee487dabdf6fd8c02ffb78": {
          "model_module": "@jupyter-widgets/base",
          "model_name": "LayoutModel",
          "model_module_version": "1.2.0",
          "state": {
            "_model_module": "@jupyter-widgets/base",
            "_model_module_version": "1.2.0",
            "_model_name": "LayoutModel",
            "_view_count": null,
            "_view_module": "@jupyter-widgets/base",
            "_view_module_version": "1.2.0",
            "_view_name": "LayoutView",
            "align_content": null,
            "align_items": null,
            "align_self": null,
            "border": null,
            "bottom": null,
            "display": null,
            "flex": null,
            "flex_flow": null,
            "grid_area": null,
            "grid_auto_columns": null,
            "grid_auto_flow": null,
            "grid_auto_rows": null,
            "grid_column": null,
            "grid_gap": null,
            "grid_row": null,
            "grid_template_areas": null,
            "grid_template_columns": null,
            "grid_template_rows": null,
            "height": null,
            "justify_content": null,
            "justify_items": null,
            "left": null,
            "margin": null,
            "max_height": null,
            "max_width": null,
            "min_height": null,
            "min_width": null,
            "object_fit": null,
            "object_position": null,
            "order": null,
            "overflow": null,
            "overflow_x": null,
            "overflow_y": null,
            "padding": null,
            "right": null,
            "top": null,
            "visibility": null,
            "width": null
          }
        },
        "57f3e4a00d4045c88cf864fa0847bddd": {
          "model_module": "@jupyter-widgets/controls",
          "model_name": "DescriptionStyleModel",
          "model_module_version": "1.5.0",
          "state": {
            "_model_module": "@jupyter-widgets/controls",
            "_model_module_version": "1.5.0",
            "_model_name": "DescriptionStyleModel",
            "_view_count": null,
            "_view_module": "@jupyter-widgets/base",
            "_view_module_version": "1.2.0",
            "_view_name": "StyleView",
            "description_width": ""
          }
        },
        "46da3167732e41029d22c454f7259cbf": {
          "model_module": "@jupyter-widgets/controls",
          "model_name": "HBoxModel",
          "model_module_version": "1.5.0",
          "state": {
            "_dom_classes": [],
            "_model_module": "@jupyter-widgets/controls",
            "_model_module_version": "1.5.0",
            "_model_name": "HBoxModel",
            "_view_count": null,
            "_view_module": "@jupyter-widgets/controls",
            "_view_module_version": "1.5.0",
            "_view_name": "HBoxView",
            "box_style": "",
            "children": [
              "IPY_MODEL_e067698d7ff34b65b2eea9ab079ecffa",
              "IPY_MODEL_22f1ee001ac24bf8869b3da742907e8b",
              "IPY_MODEL_2bdac38e1ca44deb8fb53370aee17a61"
            ],
            "layout": "IPY_MODEL_460600fc553e498da0da15b3fceeacc0"
          }
        },
        "e067698d7ff34b65b2eea9ab079ecffa": {
          "model_module": "@jupyter-widgets/controls",
          "model_name": "HTMLModel",
          "model_module_version": "1.5.0",
          "state": {
            "_dom_classes": [],
            "_model_module": "@jupyter-widgets/controls",
            "_model_module_version": "1.5.0",
            "_model_name": "HTMLModel",
            "_view_count": null,
            "_view_module": "@jupyter-widgets/controls",
            "_view_module_version": "1.5.0",
            "_view_name": "HTMLView",
            "description": "",
            "description_tooltip": null,
            "layout": "IPY_MODEL_afb2a5fff94540a3a1ee468f76a141c5",
            "placeholder": "​",
            "style": "IPY_MODEL_491720ec90aa446ab4ee1ff17830eca6",
            "value": "Downloading: 100%"
          }
        },
        "22f1ee001ac24bf8869b3da742907e8b": {
          "model_module": "@jupyter-widgets/controls",
          "model_name": "FloatProgressModel",
          "model_module_version": "1.5.0",
          "state": {
            "_dom_classes": [],
            "_model_module": "@jupyter-widgets/controls",
            "_model_module_version": "1.5.0",
            "_model_name": "FloatProgressModel",
            "_view_count": null,
            "_view_module": "@jupyter-widgets/controls",
            "_view_module_version": "1.5.0",
            "_view_name": "ProgressView",
            "bar_style": "success",
            "description": "",
            "description_tooltip": null,
            "layout": "IPY_MODEL_849d2065728040889f9ef4d4d68bdeed",
            "max": 1392,
            "min": 0,
            "orientation": "horizontal",
            "style": "IPY_MODEL_ba16a088caa94125a325cee7fe7c9333",
            "value": 1392
          }
        },
        "2bdac38e1ca44deb8fb53370aee17a61": {
          "model_module": "@jupyter-widgets/controls",
          "model_name": "HTMLModel",
          "model_module_version": "1.5.0",
          "state": {
            "_dom_classes": [],
            "_model_module": "@jupyter-widgets/controls",
            "_model_module_version": "1.5.0",
            "_model_name": "HTMLModel",
            "_view_count": null,
            "_view_module": "@jupyter-widgets/controls",
            "_view_module_version": "1.5.0",
            "_view_name": "HTMLView",
            "description": "",
            "description_tooltip": null,
            "layout": "IPY_MODEL_229870020ef34e79b40cccc0a3073361",
            "placeholder": "​",
            "style": "IPY_MODEL_12c200f25fcc4a7882166ed9626a6f31",
            "value": " 1.39k/1.39k [00:00&lt;00:00, 9.08kB/s]"
          }
        },
        "460600fc553e498da0da15b3fceeacc0": {
          "model_module": "@jupyter-widgets/base",
          "model_name": "LayoutModel",
          "model_module_version": "1.2.0",
          "state": {
            "_model_module": "@jupyter-widgets/base",
            "_model_module_version": "1.2.0",
            "_model_name": "LayoutModel",
            "_view_count": null,
            "_view_module": "@jupyter-widgets/base",
            "_view_module_version": "1.2.0",
            "_view_name": "LayoutView",
            "align_content": null,
            "align_items": null,
            "align_self": null,
            "border": null,
            "bottom": null,
            "display": null,
            "flex": null,
            "flex_flow": null,
            "grid_area": null,
            "grid_auto_columns": null,
            "grid_auto_flow": null,
            "grid_auto_rows": null,
            "grid_column": null,
            "grid_gap": null,
            "grid_row": null,
            "grid_template_areas": null,
            "grid_template_columns": null,
            "grid_template_rows": null,
            "height": null,
            "justify_content": null,
            "justify_items": null,
            "left": null,
            "margin": null,
            "max_height": null,
            "max_width": null,
            "min_height": null,
            "min_width": null,
            "object_fit": null,
            "object_position": null,
            "order": null,
            "overflow": null,
            "overflow_x": null,
            "overflow_y": null,
            "padding": null,
            "right": null,
            "top": null,
            "visibility": null,
            "width": null
          }
        },
        "afb2a5fff94540a3a1ee468f76a141c5": {
          "model_module": "@jupyter-widgets/base",
          "model_name": "LayoutModel",
          "model_module_version": "1.2.0",
          "state": {
            "_model_module": "@jupyter-widgets/base",
            "_model_module_version": "1.2.0",
            "_model_name": "LayoutModel",
            "_view_count": null,
            "_view_module": "@jupyter-widgets/base",
            "_view_module_version": "1.2.0",
            "_view_name": "LayoutView",
            "align_content": null,
            "align_items": null,
            "align_self": null,
            "border": null,
            "bottom": null,
            "display": null,
            "flex": null,
            "flex_flow": null,
            "grid_area": null,
            "grid_auto_columns": null,
            "grid_auto_flow": null,
            "grid_auto_rows": null,
            "grid_column": null,
            "grid_gap": null,
            "grid_row": null,
            "grid_template_areas": null,
            "grid_template_columns": null,
            "grid_template_rows": null,
            "height": null,
            "justify_content": null,
            "justify_items": null,
            "left": null,
            "margin": null,
            "max_height": null,
            "max_width": null,
            "min_height": null,
            "min_width": null,
            "object_fit": null,
            "object_position": null,
            "order": null,
            "overflow": null,
            "overflow_x": null,
            "overflow_y": null,
            "padding": null,
            "right": null,
            "top": null,
            "visibility": null,
            "width": null
          }
        },
        "491720ec90aa446ab4ee1ff17830eca6": {
          "model_module": "@jupyter-widgets/controls",
          "model_name": "DescriptionStyleModel",
          "model_module_version": "1.5.0",
          "state": {
            "_model_module": "@jupyter-widgets/controls",
            "_model_module_version": "1.5.0",
            "_model_name": "DescriptionStyleModel",
            "_view_count": null,
            "_view_module": "@jupyter-widgets/base",
            "_view_module_version": "1.2.0",
            "_view_name": "StyleView",
            "description_width": ""
          }
        },
        "849d2065728040889f9ef4d4d68bdeed": {
          "model_module": "@jupyter-widgets/base",
          "model_name": "LayoutModel",
          "model_module_version": "1.2.0",
          "state": {
            "_model_module": "@jupyter-widgets/base",
            "_model_module_version": "1.2.0",
            "_model_name": "LayoutModel",
            "_view_count": null,
            "_view_module": "@jupyter-widgets/base",
            "_view_module_version": "1.2.0",
            "_view_name": "LayoutView",
            "align_content": null,
            "align_items": null,
            "align_self": null,
            "border": null,
            "bottom": null,
            "display": null,
            "flex": null,
            "flex_flow": null,
            "grid_area": null,
            "grid_auto_columns": null,
            "grid_auto_flow": null,
            "grid_auto_rows": null,
            "grid_column": null,
            "grid_gap": null,
            "grid_row": null,
            "grid_template_areas": null,
            "grid_template_columns": null,
            "grid_template_rows": null,
            "height": null,
            "justify_content": null,
            "justify_items": null,
            "left": null,
            "margin": null,
            "max_height": null,
            "max_width": null,
            "min_height": null,
            "min_width": null,
            "object_fit": null,
            "object_position": null,
            "order": null,
            "overflow": null,
            "overflow_x": null,
            "overflow_y": null,
            "padding": null,
            "right": null,
            "top": null,
            "visibility": null,
            "width": null
          }
        },
        "ba16a088caa94125a325cee7fe7c9333": {
          "model_module": "@jupyter-widgets/controls",
          "model_name": "ProgressStyleModel",
          "model_module_version": "1.5.0",
          "state": {
            "_model_module": "@jupyter-widgets/controls",
            "_model_module_version": "1.5.0",
            "_model_name": "ProgressStyleModel",
            "_view_count": null,
            "_view_module": "@jupyter-widgets/base",
            "_view_module_version": "1.2.0",
            "_view_name": "StyleView",
            "bar_color": null,
            "description_width": ""
          }
        },
        "229870020ef34e79b40cccc0a3073361": {
          "model_module": "@jupyter-widgets/base",
          "model_name": "LayoutModel",
          "model_module_version": "1.2.0",
          "state": {
            "_model_module": "@jupyter-widgets/base",
            "_model_module_version": "1.2.0",
            "_model_name": "LayoutModel",
            "_view_count": null,
            "_view_module": "@jupyter-widgets/base",
            "_view_module_version": "1.2.0",
            "_view_name": "LayoutView",
            "align_content": null,
            "align_items": null,
            "align_self": null,
            "border": null,
            "bottom": null,
            "display": null,
            "flex": null,
            "flex_flow": null,
            "grid_area": null,
            "grid_auto_columns": null,
            "grid_auto_flow": null,
            "grid_auto_rows": null,
            "grid_column": null,
            "grid_gap": null,
            "grid_row": null,
            "grid_template_areas": null,
            "grid_template_columns": null,
            "grid_template_rows": null,
            "height": null,
            "justify_content": null,
            "justify_items": null,
            "left": null,
            "margin": null,
            "max_height": null,
            "max_width": null,
            "min_height": null,
            "min_width": null,
            "object_fit": null,
            "object_position": null,
            "order": null,
            "overflow": null,
            "overflow_x": null,
            "overflow_y": null,
            "padding": null,
            "right": null,
            "top": null,
            "visibility": null,
            "width": null
          }
        },
        "12c200f25fcc4a7882166ed9626a6f31": {
          "model_module": "@jupyter-widgets/controls",
          "model_name": "DescriptionStyleModel",
          "model_module_version": "1.5.0",
          "state": {
            "_model_module": "@jupyter-widgets/controls",
            "_model_module_version": "1.5.0",
            "_model_name": "DescriptionStyleModel",
            "_view_count": null,
            "_view_module": "@jupyter-widgets/base",
            "_view_module_version": "1.2.0",
            "_view_name": "StyleView",
            "description_width": ""
          }
        },
        "ffcf9d83f08746038356ee2d0c0bedae": {
          "model_module": "@jupyter-widgets/controls",
          "model_name": "HBoxModel",
          "model_module_version": "1.5.0",
          "state": {
            "_dom_classes": [],
            "_model_module": "@jupyter-widgets/controls",
            "_model_module_version": "1.5.0",
            "_model_name": "HBoxModel",
            "_view_count": null,
            "_view_module": "@jupyter-widgets/controls",
            "_view_module_version": "1.5.0",
            "_view_name": "HBoxView",
            "box_style": "",
            "children": [
              "IPY_MODEL_6ebcff9b49e643b89810af449504e740",
              "IPY_MODEL_5098042e07ee4129ba8023a3b048adde",
              "IPY_MODEL_2de7cfc0fe7947cba3f8e3e1ae929dfe"
            ],
            "layout": "IPY_MODEL_00ad96e05ed94aa1acf8fb63ced3d55c"
          }
        },
        "6ebcff9b49e643b89810af449504e740": {
          "model_module": "@jupyter-widgets/controls",
          "model_name": "HTMLModel",
          "model_module_version": "1.5.0",
          "state": {
            "_dom_classes": [],
            "_model_module": "@jupyter-widgets/controls",
            "_model_module_version": "1.5.0",
            "_model_name": "HTMLModel",
            "_view_count": null,
            "_view_module": "@jupyter-widgets/controls",
            "_view_module_version": "1.5.0",
            "_view_name": "HTMLView",
            "description": "",
            "description_tooltip": null,
            "layout": "IPY_MODEL_bb4554b9a37248569e8896ebab064d1f",
            "placeholder": "​",
            "style": "IPY_MODEL_68cab29dd1b3436a8a811660c1803ef1",
            "value": "Downloading: 100%"
          }
        },
        "5098042e07ee4129ba8023a3b048adde": {
          "model_module": "@jupyter-widgets/controls",
          "model_name": "FloatProgressModel",
          "model_module_version": "1.5.0",
          "state": {
            "_dom_classes": [],
            "_model_module": "@jupyter-widgets/controls",
            "_model_module_version": "1.5.0",
            "_model_name": "FloatProgressModel",
            "_view_count": null,
            "_view_module": "@jupyter-widgets/controls",
            "_view_module_version": "1.5.0",
            "_view_name": "ProgressView",
            "bar_style": "success",
            "description": "",
            "description_tooltip": null,
            "layout": "IPY_MODEL_3a564a9836c14bf39ff41a2e7494772a",
            "max": 2275329241,
            "min": 0,
            "orientation": "horizontal",
            "style": "IPY_MODEL_2ac37d41c2714b05b4975524691bcf36",
            "value": 2275329241
          }
        },
        "2de7cfc0fe7947cba3f8e3e1ae929dfe": {
          "model_module": "@jupyter-widgets/controls",
          "model_name": "HTMLModel",
          "model_module_version": "1.5.0",
          "state": {
            "_dom_classes": [],
            "_model_module": "@jupyter-widgets/controls",
            "_model_module_version": "1.5.0",
            "_model_name": "HTMLModel",
            "_view_count": null,
            "_view_module": "@jupyter-widgets/controls",
            "_view_module_version": "1.5.0",
            "_view_name": "HTMLView",
            "description": "",
            "description_tooltip": null,
            "layout": "IPY_MODEL_4c1599fc40aa40ab98fd365b4d401ecf",
            "placeholder": "​",
            "style": "IPY_MODEL_1f97b06364ef43539d82ca38bf1def98",
            "value": " 2.28G/2.28G [01:16&lt;00:00, 51.0MB/s]"
          }
        },
        "00ad96e05ed94aa1acf8fb63ced3d55c": {
          "model_module": "@jupyter-widgets/base",
          "model_name": "LayoutModel",
          "model_module_version": "1.2.0",
          "state": {
            "_model_module": "@jupyter-widgets/base",
            "_model_module_version": "1.2.0",
            "_model_name": "LayoutModel",
            "_view_count": null,
            "_view_module": "@jupyter-widgets/base",
            "_view_module_version": "1.2.0",
            "_view_name": "LayoutView",
            "align_content": null,
            "align_items": null,
            "align_self": null,
            "border": null,
            "bottom": null,
            "display": null,
            "flex": null,
            "flex_flow": null,
            "grid_area": null,
            "grid_auto_columns": null,
            "grid_auto_flow": null,
            "grid_auto_rows": null,
            "grid_column": null,
            "grid_gap": null,
            "grid_row": null,
            "grid_template_areas": null,
            "grid_template_columns": null,
            "grid_template_rows": null,
            "height": null,
            "justify_content": null,
            "justify_items": null,
            "left": null,
            "margin": null,
            "max_height": null,
            "max_width": null,
            "min_height": null,
            "min_width": null,
            "object_fit": null,
            "object_position": null,
            "order": null,
            "overflow": null,
            "overflow_x": null,
            "overflow_y": null,
            "padding": null,
            "right": null,
            "top": null,
            "visibility": null,
            "width": null
          }
        },
        "bb4554b9a37248569e8896ebab064d1f": {
          "model_module": "@jupyter-widgets/base",
          "model_name": "LayoutModel",
          "model_module_version": "1.2.0",
          "state": {
            "_model_module": "@jupyter-widgets/base",
            "_model_module_version": "1.2.0",
            "_model_name": "LayoutModel",
            "_view_count": null,
            "_view_module": "@jupyter-widgets/base",
            "_view_module_version": "1.2.0",
            "_view_name": "LayoutView",
            "align_content": null,
            "align_items": null,
            "align_self": null,
            "border": null,
            "bottom": null,
            "display": null,
            "flex": null,
            "flex_flow": null,
            "grid_area": null,
            "grid_auto_columns": null,
            "grid_auto_flow": null,
            "grid_auto_rows": null,
            "grid_column": null,
            "grid_gap": null,
            "grid_row": null,
            "grid_template_areas": null,
            "grid_template_columns": null,
            "grid_template_rows": null,
            "height": null,
            "justify_content": null,
            "justify_items": null,
            "left": null,
            "margin": null,
            "max_height": null,
            "max_width": null,
            "min_height": null,
            "min_width": null,
            "object_fit": null,
            "object_position": null,
            "order": null,
            "overflow": null,
            "overflow_x": null,
            "overflow_y": null,
            "padding": null,
            "right": null,
            "top": null,
            "visibility": null,
            "width": null
          }
        },
        "68cab29dd1b3436a8a811660c1803ef1": {
          "model_module": "@jupyter-widgets/controls",
          "model_name": "DescriptionStyleModel",
          "model_module_version": "1.5.0",
          "state": {
            "_model_module": "@jupyter-widgets/controls",
            "_model_module_version": "1.5.0",
            "_model_name": "DescriptionStyleModel",
            "_view_count": null,
            "_view_module": "@jupyter-widgets/base",
            "_view_module_version": "1.2.0",
            "_view_name": "StyleView",
            "description_width": ""
          }
        },
        "3a564a9836c14bf39ff41a2e7494772a": {
          "model_module": "@jupyter-widgets/base",
          "model_name": "LayoutModel",
          "model_module_version": "1.2.0",
          "state": {
            "_model_module": "@jupyter-widgets/base",
            "_model_module_version": "1.2.0",
            "_model_name": "LayoutModel",
            "_view_count": null,
            "_view_module": "@jupyter-widgets/base",
            "_view_module_version": "1.2.0",
            "_view_name": "LayoutView",
            "align_content": null,
            "align_items": null,
            "align_self": null,
            "border": null,
            "bottom": null,
            "display": null,
            "flex": null,
            "flex_flow": null,
            "grid_area": null,
            "grid_auto_columns": null,
            "grid_auto_flow": null,
            "grid_auto_rows": null,
            "grid_column": null,
            "grid_gap": null,
            "grid_row": null,
            "grid_template_areas": null,
            "grid_template_columns": null,
            "grid_template_rows": null,
            "height": null,
            "justify_content": null,
            "justify_items": null,
            "left": null,
            "margin": null,
            "max_height": null,
            "max_width": null,
            "min_height": null,
            "min_width": null,
            "object_fit": null,
            "object_position": null,
            "order": null,
            "overflow": null,
            "overflow_x": null,
            "overflow_y": null,
            "padding": null,
            "right": null,
            "top": null,
            "visibility": null,
            "width": null
          }
        },
        "2ac37d41c2714b05b4975524691bcf36": {
          "model_module": "@jupyter-widgets/controls",
          "model_name": "ProgressStyleModel",
          "model_module_version": "1.5.0",
          "state": {
            "_model_module": "@jupyter-widgets/controls",
            "_model_module_version": "1.5.0",
            "_model_name": "ProgressStyleModel",
            "_view_count": null,
            "_view_module": "@jupyter-widgets/base",
            "_view_module_version": "1.2.0",
            "_view_name": "StyleView",
            "bar_color": null,
            "description_width": ""
          }
        },
        "4c1599fc40aa40ab98fd365b4d401ecf": {
          "model_module": "@jupyter-widgets/base",
          "model_name": "LayoutModel",
          "model_module_version": "1.2.0",
          "state": {
            "_model_module": "@jupyter-widgets/base",
            "_model_module_version": "1.2.0",
            "_model_name": "LayoutModel",
            "_view_count": null,
            "_view_module": "@jupyter-widgets/base",
            "_view_module_version": "1.2.0",
            "_view_name": "LayoutView",
            "align_content": null,
            "align_items": null,
            "align_self": null,
            "border": null,
            "bottom": null,
            "display": null,
            "flex": null,
            "flex_flow": null,
            "grid_area": null,
            "grid_auto_columns": null,
            "grid_auto_flow": null,
            "grid_auto_rows": null,
            "grid_column": null,
            "grid_gap": null,
            "grid_row": null,
            "grid_template_areas": null,
            "grid_template_columns": null,
            "grid_template_rows": null,
            "height": null,
            "justify_content": null,
            "justify_items": null,
            "left": null,
            "margin": null,
            "max_height": null,
            "max_width": null,
            "min_height": null,
            "min_width": null,
            "object_fit": null,
            "object_position": null,
            "order": null,
            "overflow": null,
            "overflow_x": null,
            "overflow_y": null,
            "padding": null,
            "right": null,
            "top": null,
            "visibility": null,
            "width": null
          }
        },
        "1f97b06364ef43539d82ca38bf1def98": {
          "model_module": "@jupyter-widgets/controls",
          "model_name": "DescriptionStyleModel",
          "model_module_version": "1.5.0",
          "state": {
            "_model_module": "@jupyter-widgets/controls",
            "_model_module_version": "1.5.0",
            "_model_name": "DescriptionStyleModel",
            "_view_count": null,
            "_view_module": "@jupyter-widgets/base",
            "_view_module_version": "1.2.0",
            "_view_name": "StyleView",
            "description_width": ""
          }
        },
        "41641b77b68047219ce098511b70e800": {
          "model_module": "@jupyter-widgets/controls",
          "model_name": "HBoxModel",
          "model_module_version": "1.5.0",
          "state": {
            "_dom_classes": [],
            "_model_module": "@jupyter-widgets/controls",
            "_model_module_version": "1.5.0",
            "_model_name": "HBoxModel",
            "_view_count": null,
            "_view_module": "@jupyter-widgets/controls",
            "_view_module_version": "1.5.0",
            "_view_name": "HBoxView",
            "box_style": "",
            "children": [
              "IPY_MODEL_ef36d37ae6ad47fba6b22ba6b246389f",
              "IPY_MODEL_910e52b49f76407e8b080fc7568a8a4d",
              "IPY_MODEL_371cb9ebb897494eb1a885f5c6ddf449"
            ],
            "layout": "IPY_MODEL_40619357add8485385bb776ee5a2abc2"
          }
        },
        "ef36d37ae6ad47fba6b22ba6b246389f": {
          "model_module": "@jupyter-widgets/controls",
          "model_name": "HTMLModel",
          "model_module_version": "1.5.0",
          "state": {
            "_dom_classes": [],
            "_model_module": "@jupyter-widgets/controls",
            "_model_module_version": "1.5.0",
            "_model_name": "HTMLModel",
            "_view_count": null,
            "_view_module": "@jupyter-widgets/controls",
            "_view_module_version": "1.5.0",
            "_view_name": "HTMLView",
            "description": "",
            "description_tooltip": null,
            "layout": "IPY_MODEL_54978fa56a994a1991e71d84bcf30ab4",
            "placeholder": "​",
            "style": "IPY_MODEL_46afdf750f3f4d9ca2abd9194256a7cd",
            "value": "Downloading: 100%"
          }
        },
        "910e52b49f76407e8b080fc7568a8a4d": {
          "model_module": "@jupyter-widgets/controls",
          "model_name": "FloatProgressModel",
          "model_module_version": "1.5.0",
          "state": {
            "_dom_classes": [],
            "_model_module": "@jupyter-widgets/controls",
            "_model_module_version": "1.5.0",
            "_model_name": "FloatProgressModel",
            "_view_count": null,
            "_view_module": "@jupyter-widgets/controls",
            "_view_module_version": "1.5.0",
            "_view_name": "ProgressView",
            "bar_style": "success",
            "description": "",
            "description_tooltip": null,
            "layout": "IPY_MODEL_572ed39d005846569aaaa8601a902b82",
            "max": 1912529,
            "min": 0,
            "orientation": "horizontal",
            "style": "IPY_MODEL_5c560ed30f1f46d59d5625d31a2bdcd2",
            "value": 1912529
          }
        },
        "371cb9ebb897494eb1a885f5c6ddf449": {
          "model_module": "@jupyter-widgets/controls",
          "model_name": "HTMLModel",
          "model_module_version": "1.5.0",
          "state": {
            "_dom_classes": [],
            "_model_module": "@jupyter-widgets/controls",
            "_model_module_version": "1.5.0",
            "_model_name": "HTMLModel",
            "_view_count": null,
            "_view_module": "@jupyter-widgets/controls",
            "_view_module_version": "1.5.0",
            "_view_name": "HTMLView",
            "description": "",
            "description_tooltip": null,
            "layout": "IPY_MODEL_532b50d2e8474e5a993390604ca9b375",
            "placeholder": "​",
            "style": "IPY_MODEL_dd59bf2f1bcb408991eb3d8bf316b87d",
            "value": " 1.91M/1.91M [00:00&lt;00:00, 5.07MB/s]"
          }
        },
        "40619357add8485385bb776ee5a2abc2": {
          "model_module": "@jupyter-widgets/base",
          "model_name": "LayoutModel",
          "model_module_version": "1.2.0",
          "state": {
            "_model_module": "@jupyter-widgets/base",
            "_model_module_version": "1.2.0",
            "_model_name": "LayoutModel",
            "_view_count": null,
            "_view_module": "@jupyter-widgets/base",
            "_view_module_version": "1.2.0",
            "_view_name": "LayoutView",
            "align_content": null,
            "align_items": null,
            "align_self": null,
            "border": null,
            "bottom": null,
            "display": null,
            "flex": null,
            "flex_flow": null,
            "grid_area": null,
            "grid_auto_columns": null,
            "grid_auto_flow": null,
            "grid_auto_rows": null,
            "grid_column": null,
            "grid_gap": null,
            "grid_row": null,
            "grid_template_areas": null,
            "grid_template_columns": null,
            "grid_template_rows": null,
            "height": null,
            "justify_content": null,
            "justify_items": null,
            "left": null,
            "margin": null,
            "max_height": null,
            "max_width": null,
            "min_height": null,
            "min_width": null,
            "object_fit": null,
            "object_position": null,
            "order": null,
            "overflow": null,
            "overflow_x": null,
            "overflow_y": null,
            "padding": null,
            "right": null,
            "top": null,
            "visibility": null,
            "width": null
          }
        },
        "54978fa56a994a1991e71d84bcf30ab4": {
          "model_module": "@jupyter-widgets/base",
          "model_name": "LayoutModel",
          "model_module_version": "1.2.0",
          "state": {
            "_model_module": "@jupyter-widgets/base",
            "_model_module_version": "1.2.0",
            "_model_name": "LayoutModel",
            "_view_count": null,
            "_view_module": "@jupyter-widgets/base",
            "_view_module_version": "1.2.0",
            "_view_name": "LayoutView",
            "align_content": null,
            "align_items": null,
            "align_self": null,
            "border": null,
            "bottom": null,
            "display": null,
            "flex": null,
            "flex_flow": null,
            "grid_area": null,
            "grid_auto_columns": null,
            "grid_auto_flow": null,
            "grid_auto_rows": null,
            "grid_column": null,
            "grid_gap": null,
            "grid_row": null,
            "grid_template_areas": null,
            "grid_template_columns": null,
            "grid_template_rows": null,
            "height": null,
            "justify_content": null,
            "justify_items": null,
            "left": null,
            "margin": null,
            "max_height": null,
            "max_width": null,
            "min_height": null,
            "min_width": null,
            "object_fit": null,
            "object_position": null,
            "order": null,
            "overflow": null,
            "overflow_x": null,
            "overflow_y": null,
            "padding": null,
            "right": null,
            "top": null,
            "visibility": null,
            "width": null
          }
        },
        "46afdf750f3f4d9ca2abd9194256a7cd": {
          "model_module": "@jupyter-widgets/controls",
          "model_name": "DescriptionStyleModel",
          "model_module_version": "1.5.0",
          "state": {
            "_model_module": "@jupyter-widgets/controls",
            "_model_module_version": "1.5.0",
            "_model_name": "DescriptionStyleModel",
            "_view_count": null,
            "_view_module": "@jupyter-widgets/base",
            "_view_module_version": "1.2.0",
            "_view_name": "StyleView",
            "description_width": ""
          }
        },
        "572ed39d005846569aaaa8601a902b82": {
          "model_module": "@jupyter-widgets/base",
          "model_name": "LayoutModel",
          "model_module_version": "1.2.0",
          "state": {
            "_model_module": "@jupyter-widgets/base",
            "_model_module_version": "1.2.0",
            "_model_name": "LayoutModel",
            "_view_count": null,
            "_view_module": "@jupyter-widgets/base",
            "_view_module_version": "1.2.0",
            "_view_name": "LayoutView",
            "align_content": null,
            "align_items": null,
            "align_self": null,
            "border": null,
            "bottom": null,
            "display": null,
            "flex": null,
            "flex_flow": null,
            "grid_area": null,
            "grid_auto_columns": null,
            "grid_auto_flow": null,
            "grid_auto_rows": null,
            "grid_column": null,
            "grid_gap": null,
            "grid_row": null,
            "grid_template_areas": null,
            "grid_template_columns": null,
            "grid_template_rows": null,
            "height": null,
            "justify_content": null,
            "justify_items": null,
            "left": null,
            "margin": null,
            "max_height": null,
            "max_width": null,
            "min_height": null,
            "min_width": null,
            "object_fit": null,
            "object_position": null,
            "order": null,
            "overflow": null,
            "overflow_x": null,
            "overflow_y": null,
            "padding": null,
            "right": null,
            "top": null,
            "visibility": null,
            "width": null
          }
        },
        "5c560ed30f1f46d59d5625d31a2bdcd2": {
          "model_module": "@jupyter-widgets/controls",
          "model_name": "ProgressStyleModel",
          "model_module_version": "1.5.0",
          "state": {
            "_model_module": "@jupyter-widgets/controls",
            "_model_module_version": "1.5.0",
            "_model_name": "ProgressStyleModel",
            "_view_count": null,
            "_view_module": "@jupyter-widgets/base",
            "_view_module_version": "1.2.0",
            "_view_name": "StyleView",
            "bar_color": null,
            "description_width": ""
          }
        },
        "532b50d2e8474e5a993390604ca9b375": {
          "model_module": "@jupyter-widgets/base",
          "model_name": "LayoutModel",
          "model_module_version": "1.2.0",
          "state": {
            "_model_module": "@jupyter-widgets/base",
            "_model_module_version": "1.2.0",
            "_model_name": "LayoutModel",
            "_view_count": null,
            "_view_module": "@jupyter-widgets/base",
            "_view_module_version": "1.2.0",
            "_view_name": "LayoutView",
            "align_content": null,
            "align_items": null,
            "align_self": null,
            "border": null,
            "bottom": null,
            "display": null,
            "flex": null,
            "flex_flow": null,
            "grid_area": null,
            "grid_auto_columns": null,
            "grid_auto_flow": null,
            "grid_auto_rows": null,
            "grid_column": null,
            "grid_gap": null,
            "grid_row": null,
            "grid_template_areas": null,
            "grid_template_columns": null,
            "grid_template_rows": null,
            "height": null,
            "justify_content": null,
            "justify_items": null,
            "left": null,
            "margin": null,
            "max_height": null,
            "max_width": null,
            "min_height": null,
            "min_width": null,
            "object_fit": null,
            "object_position": null,
            "order": null,
            "overflow": null,
            "overflow_x": null,
            "overflow_y": null,
            "padding": null,
            "right": null,
            "top": null,
            "visibility": null,
            "width": null
          }
        },
        "dd59bf2f1bcb408991eb3d8bf316b87d": {
          "model_module": "@jupyter-widgets/controls",
          "model_name": "DescriptionStyleModel",
          "model_module_version": "1.5.0",
          "state": {
            "_model_module": "@jupyter-widgets/controls",
            "_model_module_version": "1.5.0",
            "_model_name": "DescriptionStyleModel",
            "_view_count": null,
            "_view_module": "@jupyter-widgets/base",
            "_view_module_version": "1.2.0",
            "_view_name": "StyleView",
            "description_width": ""
          }
        },
        "c6e8d27b306c4d54a8576cb244d540d3": {
          "model_module": "@jupyter-widgets/controls",
          "model_name": "HBoxModel",
          "model_module_version": "1.5.0",
          "state": {
            "_dom_classes": [],
            "_model_module": "@jupyter-widgets/controls",
            "_model_module_version": "1.5.0",
            "_model_name": "HBoxModel",
            "_view_count": null,
            "_view_module": "@jupyter-widgets/controls",
            "_view_module_version": "1.5.0",
            "_view_name": "HBoxView",
            "box_style": "",
            "children": [
              "IPY_MODEL_6f59b3f918ce42bb97280ddeb622e6f6",
              "IPY_MODEL_03ea52956b1945f6b95d8dbefd806469",
              "IPY_MODEL_77f5ad4f31254876bcec4bbbf36a62dd"
            ],
            "layout": "IPY_MODEL_dce3a991a0d34b198ef88e152f89a100"
          }
        },
        "6f59b3f918ce42bb97280ddeb622e6f6": {
          "model_module": "@jupyter-widgets/controls",
          "model_name": "HTMLModel",
          "model_module_version": "1.5.0",
          "state": {
            "_dom_classes": [],
            "_model_module": "@jupyter-widgets/controls",
            "_model_module_version": "1.5.0",
            "_model_name": "HTMLModel",
            "_view_count": null,
            "_view_module": "@jupyter-widgets/controls",
            "_view_module_version": "1.5.0",
            "_view_name": "HTMLView",
            "description": "",
            "description_tooltip": null,
            "layout": "IPY_MODEL_e087db245028454592b931bf47e41614",
            "placeholder": "​",
            "style": "IPY_MODEL_5204c38ca4e44370b75b08526c62dfec",
            "value": "Downloading: 100%"
          }
        },
        "03ea52956b1945f6b95d8dbefd806469": {
          "model_module": "@jupyter-widgets/controls",
          "model_name": "FloatProgressModel",
          "model_module_version": "1.5.0",
          "state": {
            "_dom_classes": [],
            "_model_module": "@jupyter-widgets/controls",
            "_model_module_version": "1.5.0",
            "_model_name": "FloatProgressModel",
            "_view_count": null,
            "_view_module": "@jupyter-widgets/controls",
            "_view_module_version": "1.5.0",
            "_view_name": "ProgressView",
            "bar_style": "success",
            "description": "",
            "description_tooltip": null,
            "layout": "IPY_MODEL_c363afe0f6f44be799665613ba89b52e",
            "max": 65,
            "min": 0,
            "orientation": "horizontal",
            "style": "IPY_MODEL_3ad7846bc632402a94c0f65933e554cf",
            "value": 65
          }
        },
        "77f5ad4f31254876bcec4bbbf36a62dd": {
          "model_module": "@jupyter-widgets/controls",
          "model_name": "HTMLModel",
          "model_module_version": "1.5.0",
          "state": {
            "_dom_classes": [],
            "_model_module": "@jupyter-widgets/controls",
            "_model_module_version": "1.5.0",
            "_model_name": "HTMLModel",
            "_view_count": null,
            "_view_module": "@jupyter-widgets/controls",
            "_view_module_version": "1.5.0",
            "_view_name": "HTMLView",
            "description": "",
            "description_tooltip": null,
            "layout": "IPY_MODEL_3e6b8f7b62ab492698b882bb78d7283b",
            "placeholder": "​",
            "style": "IPY_MODEL_c1f6d9b9a0dc4de7ab45fec5a5e85d56",
            "value": " 65.0/65.0 [00:00&lt;00:00, 490B/s]"
          }
        },
        "dce3a991a0d34b198ef88e152f89a100": {
          "model_module": "@jupyter-widgets/base",
          "model_name": "LayoutModel",
          "model_module_version": "1.2.0",
          "state": {
            "_model_module": "@jupyter-widgets/base",
            "_model_module_version": "1.2.0",
            "_model_name": "LayoutModel",
            "_view_count": null,
            "_view_module": "@jupyter-widgets/base",
            "_view_module_version": "1.2.0",
            "_view_name": "LayoutView",
            "align_content": null,
            "align_items": null,
            "align_self": null,
            "border": null,
            "bottom": null,
            "display": null,
            "flex": null,
            "flex_flow": null,
            "grid_area": null,
            "grid_auto_columns": null,
            "grid_auto_flow": null,
            "grid_auto_rows": null,
            "grid_column": null,
            "grid_gap": null,
            "grid_row": null,
            "grid_template_areas": null,
            "grid_template_columns": null,
            "grid_template_rows": null,
            "height": null,
            "justify_content": null,
            "justify_items": null,
            "left": null,
            "margin": null,
            "max_height": null,
            "max_width": null,
            "min_height": null,
            "min_width": null,
            "object_fit": null,
            "object_position": null,
            "order": null,
            "overflow": null,
            "overflow_x": null,
            "overflow_y": null,
            "padding": null,
            "right": null,
            "top": null,
            "visibility": null,
            "width": null
          }
        },
        "e087db245028454592b931bf47e41614": {
          "model_module": "@jupyter-widgets/base",
          "model_name": "LayoutModel",
          "model_module_version": "1.2.0",
          "state": {
            "_model_module": "@jupyter-widgets/base",
            "_model_module_version": "1.2.0",
            "_model_name": "LayoutModel",
            "_view_count": null,
            "_view_module": "@jupyter-widgets/base",
            "_view_module_version": "1.2.0",
            "_view_name": "LayoutView",
            "align_content": null,
            "align_items": null,
            "align_self": null,
            "border": null,
            "bottom": null,
            "display": null,
            "flex": null,
            "flex_flow": null,
            "grid_area": null,
            "grid_auto_columns": null,
            "grid_auto_flow": null,
            "grid_auto_rows": null,
            "grid_column": null,
            "grid_gap": null,
            "grid_row": null,
            "grid_template_areas": null,
            "grid_template_columns": null,
            "grid_template_rows": null,
            "height": null,
            "justify_content": null,
            "justify_items": null,
            "left": null,
            "margin": null,
            "max_height": null,
            "max_width": null,
            "min_height": null,
            "min_width": null,
            "object_fit": null,
            "object_position": null,
            "order": null,
            "overflow": null,
            "overflow_x": null,
            "overflow_y": null,
            "padding": null,
            "right": null,
            "top": null,
            "visibility": null,
            "width": null
          }
        },
        "5204c38ca4e44370b75b08526c62dfec": {
          "model_module": "@jupyter-widgets/controls",
          "model_name": "DescriptionStyleModel",
          "model_module_version": "1.5.0",
          "state": {
            "_model_module": "@jupyter-widgets/controls",
            "_model_module_version": "1.5.0",
            "_model_name": "DescriptionStyleModel",
            "_view_count": null,
            "_view_module": "@jupyter-widgets/base",
            "_view_module_version": "1.2.0",
            "_view_name": "StyleView",
            "description_width": ""
          }
        },
        "c363afe0f6f44be799665613ba89b52e": {
          "model_module": "@jupyter-widgets/base",
          "model_name": "LayoutModel",
          "model_module_version": "1.2.0",
          "state": {
            "_model_module": "@jupyter-widgets/base",
            "_model_module_version": "1.2.0",
            "_model_name": "LayoutModel",
            "_view_count": null,
            "_view_module": "@jupyter-widgets/base",
            "_view_module_version": "1.2.0",
            "_view_name": "LayoutView",
            "align_content": null,
            "align_items": null,
            "align_self": null,
            "border": null,
            "bottom": null,
            "display": null,
            "flex": null,
            "flex_flow": null,
            "grid_area": null,
            "grid_auto_columns": null,
            "grid_auto_flow": null,
            "grid_auto_rows": null,
            "grid_column": null,
            "grid_gap": null,
            "grid_row": null,
            "grid_template_areas": null,
            "grid_template_columns": null,
            "grid_template_rows": null,
            "height": null,
            "justify_content": null,
            "justify_items": null,
            "left": null,
            "margin": null,
            "max_height": null,
            "max_width": null,
            "min_height": null,
            "min_width": null,
            "object_fit": null,
            "object_position": null,
            "order": null,
            "overflow": null,
            "overflow_x": null,
            "overflow_y": null,
            "padding": null,
            "right": null,
            "top": null,
            "visibility": null,
            "width": null
          }
        },
        "3ad7846bc632402a94c0f65933e554cf": {
          "model_module": "@jupyter-widgets/controls",
          "model_name": "ProgressStyleModel",
          "model_module_version": "1.5.0",
          "state": {
            "_model_module": "@jupyter-widgets/controls",
            "_model_module_version": "1.5.0",
            "_model_name": "ProgressStyleModel",
            "_view_count": null,
            "_view_module": "@jupyter-widgets/base",
            "_view_module_version": "1.2.0",
            "_view_name": "StyleView",
            "bar_color": null,
            "description_width": ""
          }
        },
        "3e6b8f7b62ab492698b882bb78d7283b": {
          "model_module": "@jupyter-widgets/base",
          "model_name": "LayoutModel",
          "model_module_version": "1.2.0",
          "state": {
            "_model_module": "@jupyter-widgets/base",
            "_model_module_version": "1.2.0",
            "_model_name": "LayoutModel",
            "_view_count": null,
            "_view_module": "@jupyter-widgets/base",
            "_view_module_version": "1.2.0",
            "_view_name": "LayoutView",
            "align_content": null,
            "align_items": null,
            "align_self": null,
            "border": null,
            "bottom": null,
            "display": null,
            "flex": null,
            "flex_flow": null,
            "grid_area": null,
            "grid_auto_columns": null,
            "grid_auto_flow": null,
            "grid_auto_rows": null,
            "grid_column": null,
            "grid_gap": null,
            "grid_row": null,
            "grid_template_areas": null,
            "grid_template_columns": null,
            "grid_template_rows": null,
            "height": null,
            "justify_content": null,
            "justify_items": null,
            "left": null,
            "margin": null,
            "max_height": null,
            "max_width": null,
            "min_height": null,
            "min_width": null,
            "object_fit": null,
            "object_position": null,
            "order": null,
            "overflow": null,
            "overflow_x": null,
            "overflow_y": null,
            "padding": null,
            "right": null,
            "top": null,
            "visibility": null,
            "width": null
          }
        },
        "c1f6d9b9a0dc4de7ab45fec5a5e85d56": {
          "model_module": "@jupyter-widgets/controls",
          "model_name": "DescriptionStyleModel",
          "model_module_version": "1.5.0",
          "state": {
            "_model_module": "@jupyter-widgets/controls",
            "_model_module_version": "1.5.0",
            "_model_name": "DescriptionStyleModel",
            "_view_count": null,
            "_view_module": "@jupyter-widgets/base",
            "_view_module_version": "1.2.0",
            "_view_name": "StyleView",
            "description_width": ""
          }
        },
        "c3fb510382034b568f347a8898e5cb6b": {
          "model_module": "@jupyter-widgets/controls",
          "model_name": "HBoxModel",
          "model_module_version": "1.5.0",
          "state": {
            "_dom_classes": [],
            "_model_module": "@jupyter-widgets/controls",
            "_model_module_version": "1.5.0",
            "_model_name": "HBoxModel",
            "_view_count": null,
            "_view_module": "@jupyter-widgets/controls",
            "_view_module_version": "1.5.0",
            "_view_name": "HBoxView",
            "box_style": "",
            "children": [
              "IPY_MODEL_2d7132ae10264df598632c32a4227152",
              "IPY_MODEL_e53a674ac9054383951853f67c02c214",
              "IPY_MODEL_31fa0aadb53040d6969a6cb36e6ad303"
            ],
            "layout": "IPY_MODEL_657a6598f7c24bb19827416064aa4f88"
          }
        },
        "2d7132ae10264df598632c32a4227152": {
          "model_module": "@jupyter-widgets/controls",
          "model_name": "HTMLModel",
          "model_module_version": "1.5.0",
          "state": {
            "_dom_classes": [],
            "_model_module": "@jupyter-widgets/controls",
            "_model_module_version": "1.5.0",
            "_model_name": "HTMLModel",
            "_view_count": null,
            "_view_module": "@jupyter-widgets/controls",
            "_view_module_version": "1.5.0",
            "_view_name": "HTMLView",
            "description": "",
            "description_tooltip": null,
            "layout": "IPY_MODEL_8e03dd1b79784516812763c15c79f714",
            "placeholder": "​",
            "style": "IPY_MODEL_6a73722267b84398b8b5d2f5ce44ff1b",
            "value": "Downloading: 100%"
          }
        },
        "e53a674ac9054383951853f67c02c214": {
          "model_module": "@jupyter-widgets/controls",
          "model_name": "FloatProgressModel",
          "model_module_version": "1.5.0",
          "state": {
            "_dom_classes": [],
            "_model_module": "@jupyter-widgets/controls",
            "_model_module_version": "1.5.0",
            "_model_name": "FloatProgressModel",
            "_view_count": null,
            "_view_module": "@jupyter-widgets/controls",
            "_view_module_version": "1.5.0",
            "_view_name": "ProgressView",
            "bar_style": "success",
            "description": "",
            "description_tooltip": null,
            "layout": "IPY_MODEL_4e7e7852e4404a658d97f699c592d40a",
            "max": 88,
            "min": 0,
            "orientation": "horizontal",
            "style": "IPY_MODEL_9ae5e38e0c8b40ce81850aa70b022fd8",
            "value": 88
          }
        },
        "31fa0aadb53040d6969a6cb36e6ad303": {
          "model_module": "@jupyter-widgets/controls",
          "model_name": "HTMLModel",
          "model_module_version": "1.5.0",
          "state": {
            "_dom_classes": [],
            "_model_module": "@jupyter-widgets/controls",
            "_model_module_version": "1.5.0",
            "_model_name": "HTMLModel",
            "_view_count": null,
            "_view_module": "@jupyter-widgets/controls",
            "_view_module_version": "1.5.0",
            "_view_name": "HTMLView",
            "description": "",
            "description_tooltip": null,
            "layout": "IPY_MODEL_26a8267b1d58497c9be9dca12c24fc18",
            "placeholder": "​",
            "style": "IPY_MODEL_f52a1b7ee3c343bc92e50a73ba5251fb",
            "value": " 88.0/88.0 [00:00&lt;00:00, 874B/s]"
          }
        },
        "657a6598f7c24bb19827416064aa4f88": {
          "model_module": "@jupyter-widgets/base",
          "model_name": "LayoutModel",
          "model_module_version": "1.2.0",
          "state": {
            "_model_module": "@jupyter-widgets/base",
            "_model_module_version": "1.2.0",
            "_model_name": "LayoutModel",
            "_view_count": null,
            "_view_module": "@jupyter-widgets/base",
            "_view_module_version": "1.2.0",
            "_view_name": "LayoutView",
            "align_content": null,
            "align_items": null,
            "align_self": null,
            "border": null,
            "bottom": null,
            "display": null,
            "flex": null,
            "flex_flow": null,
            "grid_area": null,
            "grid_auto_columns": null,
            "grid_auto_flow": null,
            "grid_auto_rows": null,
            "grid_column": null,
            "grid_gap": null,
            "grid_row": null,
            "grid_template_areas": null,
            "grid_template_columns": null,
            "grid_template_rows": null,
            "height": null,
            "justify_content": null,
            "justify_items": null,
            "left": null,
            "margin": null,
            "max_height": null,
            "max_width": null,
            "min_height": null,
            "min_width": null,
            "object_fit": null,
            "object_position": null,
            "order": null,
            "overflow": null,
            "overflow_x": null,
            "overflow_y": null,
            "padding": null,
            "right": null,
            "top": null,
            "visibility": null,
            "width": null
          }
        },
        "8e03dd1b79784516812763c15c79f714": {
          "model_module": "@jupyter-widgets/base",
          "model_name": "LayoutModel",
          "model_module_version": "1.2.0",
          "state": {
            "_model_module": "@jupyter-widgets/base",
            "_model_module_version": "1.2.0",
            "_model_name": "LayoutModel",
            "_view_count": null,
            "_view_module": "@jupyter-widgets/base",
            "_view_module_version": "1.2.0",
            "_view_name": "LayoutView",
            "align_content": null,
            "align_items": null,
            "align_self": null,
            "border": null,
            "bottom": null,
            "display": null,
            "flex": null,
            "flex_flow": null,
            "grid_area": null,
            "grid_auto_columns": null,
            "grid_auto_flow": null,
            "grid_auto_rows": null,
            "grid_column": null,
            "grid_gap": null,
            "grid_row": null,
            "grid_template_areas": null,
            "grid_template_columns": null,
            "grid_template_rows": null,
            "height": null,
            "justify_content": null,
            "justify_items": null,
            "left": null,
            "margin": null,
            "max_height": null,
            "max_width": null,
            "min_height": null,
            "min_width": null,
            "object_fit": null,
            "object_position": null,
            "order": null,
            "overflow": null,
            "overflow_x": null,
            "overflow_y": null,
            "padding": null,
            "right": null,
            "top": null,
            "visibility": null,
            "width": null
          }
        },
        "6a73722267b84398b8b5d2f5ce44ff1b": {
          "model_module": "@jupyter-widgets/controls",
          "model_name": "DescriptionStyleModel",
          "model_module_version": "1.5.0",
          "state": {
            "_model_module": "@jupyter-widgets/controls",
            "_model_module_version": "1.5.0",
            "_model_name": "DescriptionStyleModel",
            "_view_count": null,
            "_view_module": "@jupyter-widgets/base",
            "_view_module_version": "1.2.0",
            "_view_name": "StyleView",
            "description_width": ""
          }
        },
        "4e7e7852e4404a658d97f699c592d40a": {
          "model_module": "@jupyter-widgets/base",
          "model_name": "LayoutModel",
          "model_module_version": "1.2.0",
          "state": {
            "_model_module": "@jupyter-widgets/base",
            "_model_module_version": "1.2.0",
            "_model_name": "LayoutModel",
            "_view_count": null,
            "_view_module": "@jupyter-widgets/base",
            "_view_module_version": "1.2.0",
            "_view_name": "LayoutView",
            "align_content": null,
            "align_items": null,
            "align_self": null,
            "border": null,
            "bottom": null,
            "display": null,
            "flex": null,
            "flex_flow": null,
            "grid_area": null,
            "grid_auto_columns": null,
            "grid_auto_flow": null,
            "grid_auto_rows": null,
            "grid_column": null,
            "grid_gap": null,
            "grid_row": null,
            "grid_template_areas": null,
            "grid_template_columns": null,
            "grid_template_rows": null,
            "height": null,
            "justify_content": null,
            "justify_items": null,
            "left": null,
            "margin": null,
            "max_height": null,
            "max_width": null,
            "min_height": null,
            "min_width": null,
            "object_fit": null,
            "object_position": null,
            "order": null,
            "overflow": null,
            "overflow_x": null,
            "overflow_y": null,
            "padding": null,
            "right": null,
            "top": null,
            "visibility": null,
            "width": null
          }
        },
        "9ae5e38e0c8b40ce81850aa70b022fd8": {
          "model_module": "@jupyter-widgets/controls",
          "model_name": "ProgressStyleModel",
          "model_module_version": "1.5.0",
          "state": {
            "_model_module": "@jupyter-widgets/controls",
            "_model_module_version": "1.5.0",
            "_model_name": "ProgressStyleModel",
            "_view_count": null,
            "_view_module": "@jupyter-widgets/base",
            "_view_module_version": "1.2.0",
            "_view_name": "StyleView",
            "bar_color": null,
            "description_width": ""
          }
        },
        "26a8267b1d58497c9be9dca12c24fc18": {
          "model_module": "@jupyter-widgets/base",
          "model_name": "LayoutModel",
          "model_module_version": "1.2.0",
          "state": {
            "_model_module": "@jupyter-widgets/base",
            "_model_module_version": "1.2.0",
            "_model_name": "LayoutModel",
            "_view_count": null,
            "_view_module": "@jupyter-widgets/base",
            "_view_module_version": "1.2.0",
            "_view_name": "LayoutView",
            "align_content": null,
            "align_items": null,
            "align_self": null,
            "border": null,
            "bottom": null,
            "display": null,
            "flex": null,
            "flex_flow": null,
            "grid_area": null,
            "grid_auto_columns": null,
            "grid_auto_flow": null,
            "grid_auto_rows": null,
            "grid_column": null,
            "grid_gap": null,
            "grid_row": null,
            "grid_template_areas": null,
            "grid_template_columns": null,
            "grid_template_rows": null,
            "height": null,
            "justify_content": null,
            "justify_items": null,
            "left": null,
            "margin": null,
            "max_height": null,
            "max_width": null,
            "min_height": null,
            "min_width": null,
            "object_fit": null,
            "object_position": null,
            "order": null,
            "overflow": null,
            "overflow_x": null,
            "overflow_y": null,
            "padding": null,
            "right": null,
            "top": null,
            "visibility": null,
            "width": null
          }
        },
        "f52a1b7ee3c343bc92e50a73ba5251fb": {
          "model_module": "@jupyter-widgets/controls",
          "model_name": "DescriptionStyleModel",
          "model_module_version": "1.5.0",
          "state": {
            "_model_module": "@jupyter-widgets/controls",
            "_model_module_version": "1.5.0",
            "_model_name": "DescriptionStyleModel",
            "_view_count": null,
            "_view_module": "@jupyter-widgets/base",
            "_view_module_version": "1.2.0",
            "_view_name": "StyleView",
            "description_width": ""
          }
        },
        "13be57b4290243dda5b225967aeacc8d": {
          "model_module": "@jupyter-widgets/controls",
          "model_name": "HBoxModel",
          "model_module_version": "1.5.0",
          "state": {
            "_dom_classes": [],
            "_model_module": "@jupyter-widgets/controls",
            "_model_module_version": "1.5.0",
            "_model_name": "HBoxModel",
            "_view_count": null,
            "_view_module": "@jupyter-widgets/controls",
            "_view_module_version": "1.5.0",
            "_view_name": "HBoxView",
            "box_style": "",
            "children": [
              "IPY_MODEL_ddfadc07566c4a62b2bfe232290d8f1a",
              "IPY_MODEL_db909a78e06e46a1826bd09f5e8ed3b6",
              "IPY_MODEL_4b50eee7c8d54011935ce075d2bf7fbf"
            ],
            "layout": "IPY_MODEL_7ffdad5fcb3b4961a4e782c74463970b"
          }
        },
        "ddfadc07566c4a62b2bfe232290d8f1a": {
          "model_module": "@jupyter-widgets/controls",
          "model_name": "HTMLModel",
          "model_module_version": "1.5.0",
          "state": {
            "_dom_classes": [],
            "_model_module": "@jupyter-widgets/controls",
            "_model_module_version": "1.5.0",
            "_model_name": "HTMLModel",
            "_view_count": null,
            "_view_module": "@jupyter-widgets/controls",
            "_view_module_version": "1.5.0",
            "_view_name": "HTMLView",
            "description": "",
            "description_tooltip": null,
            "layout": "IPY_MODEL_d460d761cc2c47f5a6e76b15bc4fa103",
            "placeholder": "​",
            "style": "IPY_MODEL_d4d4ffc069044d2eb6a95623acb2f4f9",
            "value": "Downloading: 100%"
          }
        },
        "db909a78e06e46a1826bd09f5e8ed3b6": {
          "model_module": "@jupyter-widgets/controls",
          "model_name": "FloatProgressModel",
          "model_module_version": "1.5.0",
          "state": {
            "_dom_classes": [],
            "_model_module": "@jupyter-widgets/controls",
            "_model_module_version": "1.5.0",
            "_model_name": "FloatProgressModel",
            "_view_count": null,
            "_view_module": "@jupyter-widgets/controls",
            "_view_module_version": "1.5.0",
            "_view_name": "ProgressView",
            "bar_style": "success",
            "description": "",
            "description_tooltip": null,
            "layout": "IPY_MODEL_7dd392be6b0741569062da2b109c9f1e",
            "max": 1120,
            "min": 0,
            "orientation": "horizontal",
            "style": "IPY_MODEL_2d18f4b82cd94169b4f72150f8ff1edd",
            "value": 1120
          }
        },
        "4b50eee7c8d54011935ce075d2bf7fbf": {
          "model_module": "@jupyter-widgets/controls",
          "model_name": "HTMLModel",
          "model_module_version": "1.5.0",
          "state": {
            "_dom_classes": [],
            "_model_module": "@jupyter-widgets/controls",
            "_model_module_version": "1.5.0",
            "_model_name": "HTMLModel",
            "_view_count": null,
            "_view_module": "@jupyter-widgets/controls",
            "_view_module_version": "1.5.0",
            "_view_name": "HTMLView",
            "description": "",
            "description_tooltip": null,
            "layout": "IPY_MODEL_fa22ccbe67e04a23a42069375d1edac1",
            "placeholder": "​",
            "style": "IPY_MODEL_bd211543a4424b5d894c06359369058a",
            "value": " 1.12k/1.12k [00:00&lt;00:00, 11.7kB/s]"
          }
        },
        "7ffdad5fcb3b4961a4e782c74463970b": {
          "model_module": "@jupyter-widgets/base",
          "model_name": "LayoutModel",
          "model_module_version": "1.2.0",
          "state": {
            "_model_module": "@jupyter-widgets/base",
            "_model_module_version": "1.2.0",
            "_model_name": "LayoutModel",
            "_view_count": null,
            "_view_module": "@jupyter-widgets/base",
            "_view_module_version": "1.2.0",
            "_view_name": "LayoutView",
            "align_content": null,
            "align_items": null,
            "align_self": null,
            "border": null,
            "bottom": null,
            "display": null,
            "flex": null,
            "flex_flow": null,
            "grid_area": null,
            "grid_auto_columns": null,
            "grid_auto_flow": null,
            "grid_auto_rows": null,
            "grid_column": null,
            "grid_gap": null,
            "grid_row": null,
            "grid_template_areas": null,
            "grid_template_columns": null,
            "grid_template_rows": null,
            "height": null,
            "justify_content": null,
            "justify_items": null,
            "left": null,
            "margin": null,
            "max_height": null,
            "max_width": null,
            "min_height": null,
            "min_width": null,
            "object_fit": null,
            "object_position": null,
            "order": null,
            "overflow": null,
            "overflow_x": null,
            "overflow_y": null,
            "padding": null,
            "right": null,
            "top": null,
            "visibility": null,
            "width": null
          }
        },
        "d460d761cc2c47f5a6e76b15bc4fa103": {
          "model_module": "@jupyter-widgets/base",
          "model_name": "LayoutModel",
          "model_module_version": "1.2.0",
          "state": {
            "_model_module": "@jupyter-widgets/base",
            "_model_module_version": "1.2.0",
            "_model_name": "LayoutModel",
            "_view_count": null,
            "_view_module": "@jupyter-widgets/base",
            "_view_module_version": "1.2.0",
            "_view_name": "LayoutView",
            "align_content": null,
            "align_items": null,
            "align_self": null,
            "border": null,
            "bottom": null,
            "display": null,
            "flex": null,
            "flex_flow": null,
            "grid_area": null,
            "grid_auto_columns": null,
            "grid_auto_flow": null,
            "grid_auto_rows": null,
            "grid_column": null,
            "grid_gap": null,
            "grid_row": null,
            "grid_template_areas": null,
            "grid_template_columns": null,
            "grid_template_rows": null,
            "height": null,
            "justify_content": null,
            "justify_items": null,
            "left": null,
            "margin": null,
            "max_height": null,
            "max_width": null,
            "min_height": null,
            "min_width": null,
            "object_fit": null,
            "object_position": null,
            "order": null,
            "overflow": null,
            "overflow_x": null,
            "overflow_y": null,
            "padding": null,
            "right": null,
            "top": null,
            "visibility": null,
            "width": null
          }
        },
        "d4d4ffc069044d2eb6a95623acb2f4f9": {
          "model_module": "@jupyter-widgets/controls",
          "model_name": "DescriptionStyleModel",
          "model_module_version": "1.5.0",
          "state": {
            "_model_module": "@jupyter-widgets/controls",
            "_model_module_version": "1.5.0",
            "_model_name": "DescriptionStyleModel",
            "_view_count": null,
            "_view_module": "@jupyter-widgets/base",
            "_view_module_version": "1.2.0",
            "_view_name": "StyleView",
            "description_width": ""
          }
        },
        "7dd392be6b0741569062da2b109c9f1e": {
          "model_module": "@jupyter-widgets/base",
          "model_name": "LayoutModel",
          "model_module_version": "1.2.0",
          "state": {
            "_model_module": "@jupyter-widgets/base",
            "_model_module_version": "1.2.0",
            "_model_name": "LayoutModel",
            "_view_count": null,
            "_view_module": "@jupyter-widgets/base",
            "_view_module_version": "1.2.0",
            "_view_name": "LayoutView",
            "align_content": null,
            "align_items": null,
            "align_self": null,
            "border": null,
            "bottom": null,
            "display": null,
            "flex": null,
            "flex_flow": null,
            "grid_area": null,
            "grid_auto_columns": null,
            "grid_auto_flow": null,
            "grid_auto_rows": null,
            "grid_column": null,
            "grid_gap": null,
            "grid_row": null,
            "grid_template_areas": null,
            "grid_template_columns": null,
            "grid_template_rows": null,
            "height": null,
            "justify_content": null,
            "justify_items": null,
            "left": null,
            "margin": null,
            "max_height": null,
            "max_width": null,
            "min_height": null,
            "min_width": null,
            "object_fit": null,
            "object_position": null,
            "order": null,
            "overflow": null,
            "overflow_x": null,
            "overflow_y": null,
            "padding": null,
            "right": null,
            "top": null,
            "visibility": null,
            "width": null
          }
        },
        "2d18f4b82cd94169b4f72150f8ff1edd": {
          "model_module": "@jupyter-widgets/controls",
          "model_name": "ProgressStyleModel",
          "model_module_version": "1.5.0",
          "state": {
            "_model_module": "@jupyter-widgets/controls",
            "_model_module_version": "1.5.0",
            "_model_name": "ProgressStyleModel",
            "_view_count": null,
            "_view_module": "@jupyter-widgets/base",
            "_view_module_version": "1.2.0",
            "_view_name": "StyleView",
            "bar_color": null,
            "description_width": ""
          }
        },
        "fa22ccbe67e04a23a42069375d1edac1": {
          "model_module": "@jupyter-widgets/base",
          "model_name": "LayoutModel",
          "model_module_version": "1.2.0",
          "state": {
            "_model_module": "@jupyter-widgets/base",
            "_model_module_version": "1.2.0",
            "_model_name": "LayoutModel",
            "_view_count": null,
            "_view_module": "@jupyter-widgets/base",
            "_view_module_version": "1.2.0",
            "_view_name": "LayoutView",
            "align_content": null,
            "align_items": null,
            "align_self": null,
            "border": null,
            "bottom": null,
            "display": null,
            "flex": null,
            "flex_flow": null,
            "grid_area": null,
            "grid_auto_columns": null,
            "grid_auto_flow": null,
            "grid_auto_rows": null,
            "grid_column": null,
            "grid_gap": null,
            "grid_row": null,
            "grid_template_areas": null,
            "grid_template_columns": null,
            "grid_template_rows": null,
            "height": null,
            "justify_content": null,
            "justify_items": null,
            "left": null,
            "margin": null,
            "max_height": null,
            "max_width": null,
            "min_height": null,
            "min_width": null,
            "object_fit": null,
            "object_position": null,
            "order": null,
            "overflow": null,
            "overflow_x": null,
            "overflow_y": null,
            "padding": null,
            "right": null,
            "top": null,
            "visibility": null,
            "width": null
          }
        },
        "bd211543a4424b5d894c06359369058a": {
          "model_module": "@jupyter-widgets/controls",
          "model_name": "DescriptionStyleModel",
          "model_module_version": "1.5.0",
          "state": {
            "_model_module": "@jupyter-widgets/controls",
            "_model_module_version": "1.5.0",
            "_model_name": "DescriptionStyleModel",
            "_view_count": null,
            "_view_module": "@jupyter-widgets/base",
            "_view_module_version": "1.2.0",
            "_view_name": "StyleView",
            "description_width": ""
          }
        },
        "5e164c93dd8646d6bedcdf468833730b": {
          "model_module": "@jupyter-widgets/controls",
          "model_name": "HBoxModel",
          "model_module_version": "1.5.0",
          "state": {
            "_dom_classes": [],
            "_model_module": "@jupyter-widgets/controls",
            "_model_module_version": "1.5.0",
            "_model_name": "HBoxModel",
            "_view_count": null,
            "_view_module": "@jupyter-widgets/controls",
            "_view_module_version": "1.5.0",
            "_view_name": "HBoxView",
            "box_style": "",
            "children": [
              "IPY_MODEL_cc30b4a3957648e0a65c4aa04db631cb",
              "IPY_MODEL_ddcc1646dd5947c4ba2561d667127f9d",
              "IPY_MODEL_edabb6d3a5fe4eb8a30e6c1ec6d69574"
            ],
            "layout": "IPY_MODEL_f751cbf3d99c4093a2beb954a7b0f53a"
          }
        },
        "cc30b4a3957648e0a65c4aa04db631cb": {
          "model_module": "@jupyter-widgets/controls",
          "model_name": "HTMLModel",
          "model_module_version": "1.5.0",
          "state": {
            "_dom_classes": [],
            "_model_module": "@jupyter-widgets/controls",
            "_model_module_version": "1.5.0",
            "_model_name": "HTMLModel",
            "_view_count": null,
            "_view_module": "@jupyter-widgets/controls",
            "_view_module_version": "1.5.0",
            "_view_name": "HTMLView",
            "description": "",
            "description_tooltip": null,
            "layout": "IPY_MODEL_f94df61d73904ddbb0f3cbe582deaedd",
            "placeholder": "​",
            "style": "IPY_MODEL_386504672b7d41a49b73d742b277e93f",
            "value": "Downloading: 100%"
          }
        },
        "ddcc1646dd5947c4ba2561d667127f9d": {
          "model_module": "@jupyter-widgets/controls",
          "model_name": "FloatProgressModel",
          "model_module_version": "1.5.0",
          "state": {
            "_dom_classes": [],
            "_model_module": "@jupyter-widgets/controls",
            "_model_module_version": "1.5.0",
            "_model_name": "FloatProgressModel",
            "_view_count": null,
            "_view_module": "@jupyter-widgets/controls",
            "_view_module_version": "1.5.0",
            "_view_name": "ProgressView",
            "bar_style": "success",
            "description": "",
            "description_tooltip": null,
            "layout": "IPY_MODEL_e9e8a9765d8b4c36840b5afce9f79912",
            "max": 2275327883,
            "min": 0,
            "orientation": "horizontal",
            "style": "IPY_MODEL_db017aa36a854c64bc083db841c953c3",
            "value": 2275327883
          }
        },
        "edabb6d3a5fe4eb8a30e6c1ec6d69574": {
          "model_module": "@jupyter-widgets/controls",
          "model_name": "HTMLModel",
          "model_module_version": "1.5.0",
          "state": {
            "_dom_classes": [],
            "_model_module": "@jupyter-widgets/controls",
            "_model_module_version": "1.5.0",
            "_model_name": "HTMLModel",
            "_view_count": null,
            "_view_module": "@jupyter-widgets/controls",
            "_view_module_version": "1.5.0",
            "_view_name": "HTMLView",
            "description": "",
            "description_tooltip": null,
            "layout": "IPY_MODEL_8013a3d0e7b04f539f51eeda57bc625d",
            "placeholder": "​",
            "style": "IPY_MODEL_4656b14afc7849d1a7762e2f14e96218",
            "value": " 2.28G/2.28G [01:04&lt;00:00, 32.3MB/s]"
          }
        },
        "f751cbf3d99c4093a2beb954a7b0f53a": {
          "model_module": "@jupyter-widgets/base",
          "model_name": "LayoutModel",
          "model_module_version": "1.2.0",
          "state": {
            "_model_module": "@jupyter-widgets/base",
            "_model_module_version": "1.2.0",
            "_model_name": "LayoutModel",
            "_view_count": null,
            "_view_module": "@jupyter-widgets/base",
            "_view_module_version": "1.2.0",
            "_view_name": "LayoutView",
            "align_content": null,
            "align_items": null,
            "align_self": null,
            "border": null,
            "bottom": null,
            "display": null,
            "flex": null,
            "flex_flow": null,
            "grid_area": null,
            "grid_auto_columns": null,
            "grid_auto_flow": null,
            "grid_auto_rows": null,
            "grid_column": null,
            "grid_gap": null,
            "grid_row": null,
            "grid_template_areas": null,
            "grid_template_columns": null,
            "grid_template_rows": null,
            "height": null,
            "justify_content": null,
            "justify_items": null,
            "left": null,
            "margin": null,
            "max_height": null,
            "max_width": null,
            "min_height": null,
            "min_width": null,
            "object_fit": null,
            "object_position": null,
            "order": null,
            "overflow": null,
            "overflow_x": null,
            "overflow_y": null,
            "padding": null,
            "right": null,
            "top": null,
            "visibility": null,
            "width": null
          }
        },
        "f94df61d73904ddbb0f3cbe582deaedd": {
          "model_module": "@jupyter-widgets/base",
          "model_name": "LayoutModel",
          "model_module_version": "1.2.0",
          "state": {
            "_model_module": "@jupyter-widgets/base",
            "_model_module_version": "1.2.0",
            "_model_name": "LayoutModel",
            "_view_count": null,
            "_view_module": "@jupyter-widgets/base",
            "_view_module_version": "1.2.0",
            "_view_name": "LayoutView",
            "align_content": null,
            "align_items": null,
            "align_self": null,
            "border": null,
            "bottom": null,
            "display": null,
            "flex": null,
            "flex_flow": null,
            "grid_area": null,
            "grid_auto_columns": null,
            "grid_auto_flow": null,
            "grid_auto_rows": null,
            "grid_column": null,
            "grid_gap": null,
            "grid_row": null,
            "grid_template_areas": null,
            "grid_template_columns": null,
            "grid_template_rows": null,
            "height": null,
            "justify_content": null,
            "justify_items": null,
            "left": null,
            "margin": null,
            "max_height": null,
            "max_width": null,
            "min_height": null,
            "min_width": null,
            "object_fit": null,
            "object_position": null,
            "order": null,
            "overflow": null,
            "overflow_x": null,
            "overflow_y": null,
            "padding": null,
            "right": null,
            "top": null,
            "visibility": null,
            "width": null
          }
        },
        "386504672b7d41a49b73d742b277e93f": {
          "model_module": "@jupyter-widgets/controls",
          "model_name": "DescriptionStyleModel",
          "model_module_version": "1.5.0",
          "state": {
            "_model_module": "@jupyter-widgets/controls",
            "_model_module_version": "1.5.0",
            "_model_name": "DescriptionStyleModel",
            "_view_count": null,
            "_view_module": "@jupyter-widgets/base",
            "_view_module_version": "1.2.0",
            "_view_name": "StyleView",
            "description_width": ""
          }
        },
        "e9e8a9765d8b4c36840b5afce9f79912": {
          "model_module": "@jupyter-widgets/base",
          "model_name": "LayoutModel",
          "model_module_version": "1.2.0",
          "state": {
            "_model_module": "@jupyter-widgets/base",
            "_model_module_version": "1.2.0",
            "_model_name": "LayoutModel",
            "_view_count": null,
            "_view_module": "@jupyter-widgets/base",
            "_view_module_version": "1.2.0",
            "_view_name": "LayoutView",
            "align_content": null,
            "align_items": null,
            "align_self": null,
            "border": null,
            "bottom": null,
            "display": null,
            "flex": null,
            "flex_flow": null,
            "grid_area": null,
            "grid_auto_columns": null,
            "grid_auto_flow": null,
            "grid_auto_rows": null,
            "grid_column": null,
            "grid_gap": null,
            "grid_row": null,
            "grid_template_areas": null,
            "grid_template_columns": null,
            "grid_template_rows": null,
            "height": null,
            "justify_content": null,
            "justify_items": null,
            "left": null,
            "margin": null,
            "max_height": null,
            "max_width": null,
            "min_height": null,
            "min_width": null,
            "object_fit": null,
            "object_position": null,
            "order": null,
            "overflow": null,
            "overflow_x": null,
            "overflow_y": null,
            "padding": null,
            "right": null,
            "top": null,
            "visibility": null,
            "width": null
          }
        },
        "db017aa36a854c64bc083db841c953c3": {
          "model_module": "@jupyter-widgets/controls",
          "model_name": "ProgressStyleModel",
          "model_module_version": "1.5.0",
          "state": {
            "_model_module": "@jupyter-widgets/controls",
            "_model_module_version": "1.5.0",
            "_model_name": "ProgressStyleModel",
            "_view_count": null,
            "_view_module": "@jupyter-widgets/base",
            "_view_module_version": "1.2.0",
            "_view_name": "StyleView",
            "bar_color": null,
            "description_width": ""
          }
        },
        "8013a3d0e7b04f539f51eeda57bc625d": {
          "model_module": "@jupyter-widgets/base",
          "model_name": "LayoutModel",
          "model_module_version": "1.2.0",
          "state": {
            "_model_module": "@jupyter-widgets/base",
            "_model_module_version": "1.2.0",
            "_model_name": "LayoutModel",
            "_view_count": null,
            "_view_module": "@jupyter-widgets/base",
            "_view_module_version": "1.2.0",
            "_view_name": "LayoutView",
            "align_content": null,
            "align_items": null,
            "align_self": null,
            "border": null,
            "bottom": null,
            "display": null,
            "flex": null,
            "flex_flow": null,
            "grid_area": null,
            "grid_auto_columns": null,
            "grid_auto_flow": null,
            "grid_auto_rows": null,
            "grid_column": null,
            "grid_gap": null,
            "grid_row": null,
            "grid_template_areas": null,
            "grid_template_columns": null,
            "grid_template_rows": null,
            "height": null,
            "justify_content": null,
            "justify_items": null,
            "left": null,
            "margin": null,
            "max_height": null,
            "max_width": null,
            "min_height": null,
            "min_width": null,
            "object_fit": null,
            "object_position": null,
            "order": null,
            "overflow": null,
            "overflow_x": null,
            "overflow_y": null,
            "padding": null,
            "right": null,
            "top": null,
            "visibility": null,
            "width": null
          }
        },
        "4656b14afc7849d1a7762e2f14e96218": {
          "model_module": "@jupyter-widgets/controls",
          "model_name": "DescriptionStyleModel",
          "model_module_version": "1.5.0",
          "state": {
            "_model_module": "@jupyter-widgets/controls",
            "_model_module_version": "1.5.0",
            "_model_name": "DescriptionStyleModel",
            "_view_count": null,
            "_view_module": "@jupyter-widgets/base",
            "_view_module_version": "1.2.0",
            "_view_name": "StyleView",
            "description_width": ""
          }
        },
        "809c5026c28f434e968feccfa41218c3": {
          "model_module": "@jupyter-widgets/controls",
          "model_name": "HBoxModel",
          "model_module_version": "1.5.0",
          "state": {
            "_dom_classes": [],
            "_model_module": "@jupyter-widgets/controls",
            "_model_module_version": "1.5.0",
            "_model_name": "HBoxModel",
            "_view_count": null,
            "_view_module": "@jupyter-widgets/controls",
            "_view_module_version": "1.5.0",
            "_view_name": "HBoxView",
            "box_style": "",
            "children": [
              "IPY_MODEL_1f3c222db42a427fae049d786cf397ba",
              "IPY_MODEL_fa4f0f39c55b40daa5f04ae331d1413f",
              "IPY_MODEL_8183e4aab65d47f1b55c1bdcff31cfc0"
            ],
            "layout": "IPY_MODEL_ca5bf43fad674d0f957bf1d8a08d7c1d"
          }
        },
        "1f3c222db42a427fae049d786cf397ba": {
          "model_module": "@jupyter-widgets/controls",
          "model_name": "HTMLModel",
          "model_module_version": "1.5.0",
          "state": {
            "_dom_classes": [],
            "_model_module": "@jupyter-widgets/controls",
            "_model_module_version": "1.5.0",
            "_model_name": "HTMLModel",
            "_view_count": null,
            "_view_module": "@jupyter-widgets/controls",
            "_view_module_version": "1.5.0",
            "_view_name": "HTMLView",
            "description": "",
            "description_tooltip": null,
            "layout": "IPY_MODEL_285f121bb6e24c8dbcbaedd0160cc9a9",
            "placeholder": "​",
            "style": "IPY_MODEL_aa1bf5f771134b49a4a0ef772b8bc1e7",
            "value": "Downloading: 100%"
          }
        },
        "fa4f0f39c55b40daa5f04ae331d1413f": {
          "model_module": "@jupyter-widgets/controls",
          "model_name": "FloatProgressModel",
          "model_module_version": "1.5.0",
          "state": {
            "_dom_classes": [],
            "_model_module": "@jupyter-widgets/controls",
            "_model_module_version": "1.5.0",
            "_model_name": "FloatProgressModel",
            "_view_count": null,
            "_view_module": "@jupyter-widgets/controls",
            "_view_module_version": "1.5.0",
            "_view_name": "ProgressView",
            "bar_style": "success",
            "description": "",
            "description_tooltip": null,
            "layout": "IPY_MODEL_89699cc2b3504f74a0a01f2304b6d4e6",
            "max": 1912529,
            "min": 0,
            "orientation": "horizontal",
            "style": "IPY_MODEL_066f59de1ef644ce98746e4b77df6b1b",
            "value": 1912529
          }
        },
        "8183e4aab65d47f1b55c1bdcff31cfc0": {
          "model_module": "@jupyter-widgets/controls",
          "model_name": "HTMLModel",
          "model_module_version": "1.5.0",
          "state": {
            "_dom_classes": [],
            "_model_module": "@jupyter-widgets/controls",
            "_model_module_version": "1.5.0",
            "_model_name": "HTMLModel",
            "_view_count": null,
            "_view_module": "@jupyter-widgets/controls",
            "_view_module_version": "1.5.0",
            "_view_name": "HTMLView",
            "description": "",
            "description_tooltip": null,
            "layout": "IPY_MODEL_c5b9d9c39c2e4eb6b1263e111ff95071",
            "placeholder": "​",
            "style": "IPY_MODEL_235addfc48ce4a13ae2ac2ac7c873356",
            "value": " 1.91M/1.91M [00:00&lt;00:00, 5.65MB/s]"
          }
        },
        "ca5bf43fad674d0f957bf1d8a08d7c1d": {
          "model_module": "@jupyter-widgets/base",
          "model_name": "LayoutModel",
          "model_module_version": "1.2.0",
          "state": {
            "_model_module": "@jupyter-widgets/base",
            "_model_module_version": "1.2.0",
            "_model_name": "LayoutModel",
            "_view_count": null,
            "_view_module": "@jupyter-widgets/base",
            "_view_module_version": "1.2.0",
            "_view_name": "LayoutView",
            "align_content": null,
            "align_items": null,
            "align_self": null,
            "border": null,
            "bottom": null,
            "display": null,
            "flex": null,
            "flex_flow": null,
            "grid_area": null,
            "grid_auto_columns": null,
            "grid_auto_flow": null,
            "grid_auto_rows": null,
            "grid_column": null,
            "grid_gap": null,
            "grid_row": null,
            "grid_template_areas": null,
            "grid_template_columns": null,
            "grid_template_rows": null,
            "height": null,
            "justify_content": null,
            "justify_items": null,
            "left": null,
            "margin": null,
            "max_height": null,
            "max_width": null,
            "min_height": null,
            "min_width": null,
            "object_fit": null,
            "object_position": null,
            "order": null,
            "overflow": null,
            "overflow_x": null,
            "overflow_y": null,
            "padding": null,
            "right": null,
            "top": null,
            "visibility": null,
            "width": null
          }
        },
        "285f121bb6e24c8dbcbaedd0160cc9a9": {
          "model_module": "@jupyter-widgets/base",
          "model_name": "LayoutModel",
          "model_module_version": "1.2.0",
          "state": {
            "_model_module": "@jupyter-widgets/base",
            "_model_module_version": "1.2.0",
            "_model_name": "LayoutModel",
            "_view_count": null,
            "_view_module": "@jupyter-widgets/base",
            "_view_module_version": "1.2.0",
            "_view_name": "LayoutView",
            "align_content": null,
            "align_items": null,
            "align_self": null,
            "border": null,
            "bottom": null,
            "display": null,
            "flex": null,
            "flex_flow": null,
            "grid_area": null,
            "grid_auto_columns": null,
            "grid_auto_flow": null,
            "grid_auto_rows": null,
            "grid_column": null,
            "grid_gap": null,
            "grid_row": null,
            "grid_template_areas": null,
            "grid_template_columns": null,
            "grid_template_rows": null,
            "height": null,
            "justify_content": null,
            "justify_items": null,
            "left": null,
            "margin": null,
            "max_height": null,
            "max_width": null,
            "min_height": null,
            "min_width": null,
            "object_fit": null,
            "object_position": null,
            "order": null,
            "overflow": null,
            "overflow_x": null,
            "overflow_y": null,
            "padding": null,
            "right": null,
            "top": null,
            "visibility": null,
            "width": null
          }
        },
        "aa1bf5f771134b49a4a0ef772b8bc1e7": {
          "model_module": "@jupyter-widgets/controls",
          "model_name": "DescriptionStyleModel",
          "model_module_version": "1.5.0",
          "state": {
            "_model_module": "@jupyter-widgets/controls",
            "_model_module_version": "1.5.0",
            "_model_name": "DescriptionStyleModel",
            "_view_count": null,
            "_view_module": "@jupyter-widgets/base",
            "_view_module_version": "1.2.0",
            "_view_name": "StyleView",
            "description_width": ""
          }
        },
        "89699cc2b3504f74a0a01f2304b6d4e6": {
          "model_module": "@jupyter-widgets/base",
          "model_name": "LayoutModel",
          "model_module_version": "1.2.0",
          "state": {
            "_model_module": "@jupyter-widgets/base",
            "_model_module_version": "1.2.0",
            "_model_name": "LayoutModel",
            "_view_count": null,
            "_view_module": "@jupyter-widgets/base",
            "_view_module_version": "1.2.0",
            "_view_name": "LayoutView",
            "align_content": null,
            "align_items": null,
            "align_self": null,
            "border": null,
            "bottom": null,
            "display": null,
            "flex": null,
            "flex_flow": null,
            "grid_area": null,
            "grid_auto_columns": null,
            "grid_auto_flow": null,
            "grid_auto_rows": null,
            "grid_column": null,
            "grid_gap": null,
            "grid_row": null,
            "grid_template_areas": null,
            "grid_template_columns": null,
            "grid_template_rows": null,
            "height": null,
            "justify_content": null,
            "justify_items": null,
            "left": null,
            "margin": null,
            "max_height": null,
            "max_width": null,
            "min_height": null,
            "min_width": null,
            "object_fit": null,
            "object_position": null,
            "order": null,
            "overflow": null,
            "overflow_x": null,
            "overflow_y": null,
            "padding": null,
            "right": null,
            "top": null,
            "visibility": null,
            "width": null
          }
        },
        "066f59de1ef644ce98746e4b77df6b1b": {
          "model_module": "@jupyter-widgets/controls",
          "model_name": "ProgressStyleModel",
          "model_module_version": "1.5.0",
          "state": {
            "_model_module": "@jupyter-widgets/controls",
            "_model_module_version": "1.5.0",
            "_model_name": "ProgressStyleModel",
            "_view_count": null,
            "_view_module": "@jupyter-widgets/base",
            "_view_module_version": "1.2.0",
            "_view_name": "StyleView",
            "bar_color": null,
            "description_width": ""
          }
        },
        "c5b9d9c39c2e4eb6b1263e111ff95071": {
          "model_module": "@jupyter-widgets/base",
          "model_name": "LayoutModel",
          "model_module_version": "1.2.0",
          "state": {
            "_model_module": "@jupyter-widgets/base",
            "_model_module_version": "1.2.0",
            "_model_name": "LayoutModel",
            "_view_count": null,
            "_view_module": "@jupyter-widgets/base",
            "_view_module_version": "1.2.0",
            "_view_name": "LayoutView",
            "align_content": null,
            "align_items": null,
            "align_self": null,
            "border": null,
            "bottom": null,
            "display": null,
            "flex": null,
            "flex_flow": null,
            "grid_area": null,
            "grid_auto_columns": null,
            "grid_auto_flow": null,
            "grid_auto_rows": null,
            "grid_column": null,
            "grid_gap": null,
            "grid_row": null,
            "grid_template_areas": null,
            "grid_template_columns": null,
            "grid_template_rows": null,
            "height": null,
            "justify_content": null,
            "justify_items": null,
            "left": null,
            "margin": null,
            "max_height": null,
            "max_width": null,
            "min_height": null,
            "min_width": null,
            "object_fit": null,
            "object_position": null,
            "order": null,
            "overflow": null,
            "overflow_x": null,
            "overflow_y": null,
            "padding": null,
            "right": null,
            "top": null,
            "visibility": null,
            "width": null
          }
        },
        "235addfc48ce4a13ae2ac2ac7c873356": {
          "model_module": "@jupyter-widgets/controls",
          "model_name": "DescriptionStyleModel",
          "model_module_version": "1.5.0",
          "state": {
            "_model_module": "@jupyter-widgets/controls",
            "_model_module_version": "1.5.0",
            "_model_name": "DescriptionStyleModel",
            "_view_count": null,
            "_view_module": "@jupyter-widgets/base",
            "_view_module_version": "1.2.0",
            "_view_name": "StyleView",
            "description_width": ""
          }
        },
        "76f60614f7ce44c2899cd1ae4a163442": {
          "model_module": "@jupyter-widgets/controls",
          "model_name": "HBoxModel",
          "model_module_version": "1.5.0",
          "state": {
            "_dom_classes": [],
            "_model_module": "@jupyter-widgets/controls",
            "_model_module_version": "1.5.0",
            "_model_name": "HBoxModel",
            "_view_count": null,
            "_view_module": "@jupyter-widgets/controls",
            "_view_module_version": "1.5.0",
            "_view_name": "HBoxView",
            "box_style": "",
            "children": [
              "IPY_MODEL_9f431f6586e84d2698855a7a87e9e8a7",
              "IPY_MODEL_0d75e286c9e4411db97d5a0bb1bcb6eb",
              "IPY_MODEL_56bbc9ff3939424aa2b148dfb123ecb1"
            ],
            "layout": "IPY_MODEL_ef32962830cd410dab16287ee97ae10a"
          }
        },
        "9f431f6586e84d2698855a7a87e9e8a7": {
          "model_module": "@jupyter-widgets/controls",
          "model_name": "HTMLModel",
          "model_module_version": "1.5.0",
          "state": {
            "_dom_classes": [],
            "_model_module": "@jupyter-widgets/controls",
            "_model_module_version": "1.5.0",
            "_model_name": "HTMLModel",
            "_view_count": null,
            "_view_module": "@jupyter-widgets/controls",
            "_view_module_version": "1.5.0",
            "_view_name": "HTMLView",
            "description": "",
            "description_tooltip": null,
            "layout": "IPY_MODEL_500e757d409f4e48b6acd099fa2404b2",
            "placeholder": "​",
            "style": "IPY_MODEL_ee264a335f5949fab453eee107d39ce0",
            "value": "Downloading: 100%"
          }
        },
        "0d75e286c9e4411db97d5a0bb1bcb6eb": {
          "model_module": "@jupyter-widgets/controls",
          "model_name": "FloatProgressModel",
          "model_module_version": "1.5.0",
          "state": {
            "_dom_classes": [],
            "_model_module": "@jupyter-widgets/controls",
            "_model_module_version": "1.5.0",
            "_model_name": "FloatProgressModel",
            "_view_count": null,
            "_view_module": "@jupyter-widgets/controls",
            "_view_module_version": "1.5.0",
            "_view_name": "ProgressView",
            "bar_style": "success",
            "description": "",
            "description_tooltip": null,
            "layout": "IPY_MODEL_054cd3c016084dbe9f2529c5d2180627",
            "max": 65,
            "min": 0,
            "orientation": "horizontal",
            "style": "IPY_MODEL_af3be138395946d0ad263840130532b2",
            "value": 65
          }
        },
        "56bbc9ff3939424aa2b148dfb123ecb1": {
          "model_module": "@jupyter-widgets/controls",
          "model_name": "HTMLModel",
          "model_module_version": "1.5.0",
          "state": {
            "_dom_classes": [],
            "_model_module": "@jupyter-widgets/controls",
            "_model_module_version": "1.5.0",
            "_model_name": "HTMLModel",
            "_view_count": null,
            "_view_module": "@jupyter-widgets/controls",
            "_view_module_version": "1.5.0",
            "_view_name": "HTMLView",
            "description": "",
            "description_tooltip": null,
            "layout": "IPY_MODEL_b62fde7651a1410c85e24387a613a389",
            "placeholder": "​",
            "style": "IPY_MODEL_fae18e645d204f60bac67f86a89bdc95",
            "value": " 65.0/65.0 [00:00&lt;00:00, 523B/s]"
          }
        },
        "ef32962830cd410dab16287ee97ae10a": {
          "model_module": "@jupyter-widgets/base",
          "model_name": "LayoutModel",
          "model_module_version": "1.2.0",
          "state": {
            "_model_module": "@jupyter-widgets/base",
            "_model_module_version": "1.2.0",
            "_model_name": "LayoutModel",
            "_view_count": null,
            "_view_module": "@jupyter-widgets/base",
            "_view_module_version": "1.2.0",
            "_view_name": "LayoutView",
            "align_content": null,
            "align_items": null,
            "align_self": null,
            "border": null,
            "bottom": null,
            "display": null,
            "flex": null,
            "flex_flow": null,
            "grid_area": null,
            "grid_auto_columns": null,
            "grid_auto_flow": null,
            "grid_auto_rows": null,
            "grid_column": null,
            "grid_gap": null,
            "grid_row": null,
            "grid_template_areas": null,
            "grid_template_columns": null,
            "grid_template_rows": null,
            "height": null,
            "justify_content": null,
            "justify_items": null,
            "left": null,
            "margin": null,
            "max_height": null,
            "max_width": null,
            "min_height": null,
            "min_width": null,
            "object_fit": null,
            "object_position": null,
            "order": null,
            "overflow": null,
            "overflow_x": null,
            "overflow_y": null,
            "padding": null,
            "right": null,
            "top": null,
            "visibility": null,
            "width": null
          }
        },
        "500e757d409f4e48b6acd099fa2404b2": {
          "model_module": "@jupyter-widgets/base",
          "model_name": "LayoutModel",
          "model_module_version": "1.2.0",
          "state": {
            "_model_module": "@jupyter-widgets/base",
            "_model_module_version": "1.2.0",
            "_model_name": "LayoutModel",
            "_view_count": null,
            "_view_module": "@jupyter-widgets/base",
            "_view_module_version": "1.2.0",
            "_view_name": "LayoutView",
            "align_content": null,
            "align_items": null,
            "align_self": null,
            "border": null,
            "bottom": null,
            "display": null,
            "flex": null,
            "flex_flow": null,
            "grid_area": null,
            "grid_auto_columns": null,
            "grid_auto_flow": null,
            "grid_auto_rows": null,
            "grid_column": null,
            "grid_gap": null,
            "grid_row": null,
            "grid_template_areas": null,
            "grid_template_columns": null,
            "grid_template_rows": null,
            "height": null,
            "justify_content": null,
            "justify_items": null,
            "left": null,
            "margin": null,
            "max_height": null,
            "max_width": null,
            "min_height": null,
            "min_width": null,
            "object_fit": null,
            "object_position": null,
            "order": null,
            "overflow": null,
            "overflow_x": null,
            "overflow_y": null,
            "padding": null,
            "right": null,
            "top": null,
            "visibility": null,
            "width": null
          }
        },
        "ee264a335f5949fab453eee107d39ce0": {
          "model_module": "@jupyter-widgets/controls",
          "model_name": "DescriptionStyleModel",
          "model_module_version": "1.5.0",
          "state": {
            "_model_module": "@jupyter-widgets/controls",
            "_model_module_version": "1.5.0",
            "_model_name": "DescriptionStyleModel",
            "_view_count": null,
            "_view_module": "@jupyter-widgets/base",
            "_view_module_version": "1.2.0",
            "_view_name": "StyleView",
            "description_width": ""
          }
        },
        "054cd3c016084dbe9f2529c5d2180627": {
          "model_module": "@jupyter-widgets/base",
          "model_name": "LayoutModel",
          "model_module_version": "1.2.0",
          "state": {
            "_model_module": "@jupyter-widgets/base",
            "_model_module_version": "1.2.0",
            "_model_name": "LayoutModel",
            "_view_count": null,
            "_view_module": "@jupyter-widgets/base",
            "_view_module_version": "1.2.0",
            "_view_name": "LayoutView",
            "align_content": null,
            "align_items": null,
            "align_self": null,
            "border": null,
            "bottom": null,
            "display": null,
            "flex": null,
            "flex_flow": null,
            "grid_area": null,
            "grid_auto_columns": null,
            "grid_auto_flow": null,
            "grid_auto_rows": null,
            "grid_column": null,
            "grid_gap": null,
            "grid_row": null,
            "grid_template_areas": null,
            "grid_template_columns": null,
            "grid_template_rows": null,
            "height": null,
            "justify_content": null,
            "justify_items": null,
            "left": null,
            "margin": null,
            "max_height": null,
            "max_width": null,
            "min_height": null,
            "min_width": null,
            "object_fit": null,
            "object_position": null,
            "order": null,
            "overflow": null,
            "overflow_x": null,
            "overflow_y": null,
            "padding": null,
            "right": null,
            "top": null,
            "visibility": null,
            "width": null
          }
        },
        "af3be138395946d0ad263840130532b2": {
          "model_module": "@jupyter-widgets/controls",
          "model_name": "ProgressStyleModel",
          "model_module_version": "1.5.0",
          "state": {
            "_model_module": "@jupyter-widgets/controls",
            "_model_module_version": "1.5.0",
            "_model_name": "ProgressStyleModel",
            "_view_count": null,
            "_view_module": "@jupyter-widgets/base",
            "_view_module_version": "1.2.0",
            "_view_name": "StyleView",
            "bar_color": null,
            "description_width": ""
          }
        },
        "b62fde7651a1410c85e24387a613a389": {
          "model_module": "@jupyter-widgets/base",
          "model_name": "LayoutModel",
          "model_module_version": "1.2.0",
          "state": {
            "_model_module": "@jupyter-widgets/base",
            "_model_module_version": "1.2.0",
            "_model_name": "LayoutModel",
            "_view_count": null,
            "_view_module": "@jupyter-widgets/base",
            "_view_module_version": "1.2.0",
            "_view_name": "LayoutView",
            "align_content": null,
            "align_items": null,
            "align_self": null,
            "border": null,
            "bottom": null,
            "display": null,
            "flex": null,
            "flex_flow": null,
            "grid_area": null,
            "grid_auto_columns": null,
            "grid_auto_flow": null,
            "grid_auto_rows": null,
            "grid_column": null,
            "grid_gap": null,
            "grid_row": null,
            "grid_template_areas": null,
            "grid_template_columns": null,
            "grid_template_rows": null,
            "height": null,
            "justify_content": null,
            "justify_items": null,
            "left": null,
            "margin": null,
            "max_height": null,
            "max_width": null,
            "min_height": null,
            "min_width": null,
            "object_fit": null,
            "object_position": null,
            "order": null,
            "overflow": null,
            "overflow_x": null,
            "overflow_y": null,
            "padding": null,
            "right": null,
            "top": null,
            "visibility": null,
            "width": null
          }
        },
        "fae18e645d204f60bac67f86a89bdc95": {
          "model_module": "@jupyter-widgets/controls",
          "model_name": "DescriptionStyleModel",
          "model_module_version": "1.5.0",
          "state": {
            "_model_module": "@jupyter-widgets/controls",
            "_model_module_version": "1.5.0",
            "_model_name": "DescriptionStyleModel",
            "_view_count": null,
            "_view_module": "@jupyter-widgets/base",
            "_view_module_version": "1.2.0",
            "_view_name": "StyleView",
            "description_width": ""
          }
        },
        "af8c84c062834c7c86d7bbbbbcc9e775": {
          "model_module": "@jupyter-widgets/controls",
          "model_name": "HBoxModel",
          "model_module_version": "1.5.0",
          "state": {
            "_dom_classes": [],
            "_model_module": "@jupyter-widgets/controls",
            "_model_module_version": "1.5.0",
            "_model_name": "HBoxModel",
            "_view_count": null,
            "_view_module": "@jupyter-widgets/controls",
            "_view_module_version": "1.5.0",
            "_view_name": "HBoxView",
            "box_style": "",
            "children": [
              "IPY_MODEL_dbf0d5ffbf4141228dfcc4d997a44652",
              "IPY_MODEL_f1c4da89be324f198d35c40cdcaf378d",
              "IPY_MODEL_d3d7cf32ee664ed0b1494e242b08b519"
            ],
            "layout": "IPY_MODEL_688967d3f8a14f1b8852d23568bcb6f6"
          }
        },
        "dbf0d5ffbf4141228dfcc4d997a44652": {
          "model_module": "@jupyter-widgets/controls",
          "model_name": "HTMLModel",
          "model_module_version": "1.5.0",
          "state": {
            "_dom_classes": [],
            "_model_module": "@jupyter-widgets/controls",
            "_model_module_version": "1.5.0",
            "_model_name": "HTMLModel",
            "_view_count": null,
            "_view_module": "@jupyter-widgets/controls",
            "_view_module_version": "1.5.0",
            "_view_name": "HTMLView",
            "description": "",
            "description_tooltip": null,
            "layout": "IPY_MODEL_cb54f282258a4ef3854dd6be3954ae3b",
            "placeholder": "​",
            "style": "IPY_MODEL_6b74f5d9420840188ecb24701800643e",
            "value": "Downloading: 100%"
          }
        },
        "f1c4da89be324f198d35c40cdcaf378d": {
          "model_module": "@jupyter-widgets/controls",
          "model_name": "FloatProgressModel",
          "model_module_version": "1.5.0",
          "state": {
            "_dom_classes": [],
            "_model_module": "@jupyter-widgets/controls",
            "_model_module_version": "1.5.0",
            "_model_name": "FloatProgressModel",
            "_view_count": null,
            "_view_module": "@jupyter-widgets/controls",
            "_view_module_version": "1.5.0",
            "_view_name": "ProgressView",
            "bar_style": "success",
            "description": "",
            "description_tooltip": null,
            "layout": "IPY_MODEL_cf262a2f4fe34983be22fb909d3748d9",
            "max": 87,
            "min": 0,
            "orientation": "horizontal",
            "style": "IPY_MODEL_842f203478a84eceb8738f3683d82d6a",
            "value": 87
          }
        },
        "d3d7cf32ee664ed0b1494e242b08b519": {
          "model_module": "@jupyter-widgets/controls",
          "model_name": "HTMLModel",
          "model_module_version": "1.5.0",
          "state": {
            "_dom_classes": [],
            "_model_module": "@jupyter-widgets/controls",
            "_model_module_version": "1.5.0",
            "_model_name": "HTMLModel",
            "_view_count": null,
            "_view_module": "@jupyter-widgets/controls",
            "_view_module_version": "1.5.0",
            "_view_name": "HTMLView",
            "description": "",
            "description_tooltip": null,
            "layout": "IPY_MODEL_97510d8f54b64a89a346b58d6a7b6606",
            "placeholder": "​",
            "style": "IPY_MODEL_f6d2bed5c94b4547b37d0dab656b1e5d",
            "value": " 87.0/87.0 [00:00&lt;00:00, 865B/s]"
          }
        },
        "688967d3f8a14f1b8852d23568bcb6f6": {
          "model_module": "@jupyter-widgets/base",
          "model_name": "LayoutModel",
          "model_module_version": "1.2.0",
          "state": {
            "_model_module": "@jupyter-widgets/base",
            "_model_module_version": "1.2.0",
            "_model_name": "LayoutModel",
            "_view_count": null,
            "_view_module": "@jupyter-widgets/base",
            "_view_module_version": "1.2.0",
            "_view_name": "LayoutView",
            "align_content": null,
            "align_items": null,
            "align_self": null,
            "border": null,
            "bottom": null,
            "display": null,
            "flex": null,
            "flex_flow": null,
            "grid_area": null,
            "grid_auto_columns": null,
            "grid_auto_flow": null,
            "grid_auto_rows": null,
            "grid_column": null,
            "grid_gap": null,
            "grid_row": null,
            "grid_template_areas": null,
            "grid_template_columns": null,
            "grid_template_rows": null,
            "height": null,
            "justify_content": null,
            "justify_items": null,
            "left": null,
            "margin": null,
            "max_height": null,
            "max_width": null,
            "min_height": null,
            "min_width": null,
            "object_fit": null,
            "object_position": null,
            "order": null,
            "overflow": null,
            "overflow_x": null,
            "overflow_y": null,
            "padding": null,
            "right": null,
            "top": null,
            "visibility": null,
            "width": null
          }
        },
        "cb54f282258a4ef3854dd6be3954ae3b": {
          "model_module": "@jupyter-widgets/base",
          "model_name": "LayoutModel",
          "model_module_version": "1.2.0",
          "state": {
            "_model_module": "@jupyter-widgets/base",
            "_model_module_version": "1.2.0",
            "_model_name": "LayoutModel",
            "_view_count": null,
            "_view_module": "@jupyter-widgets/base",
            "_view_module_version": "1.2.0",
            "_view_name": "LayoutView",
            "align_content": null,
            "align_items": null,
            "align_self": null,
            "border": null,
            "bottom": null,
            "display": null,
            "flex": null,
            "flex_flow": null,
            "grid_area": null,
            "grid_auto_columns": null,
            "grid_auto_flow": null,
            "grid_auto_rows": null,
            "grid_column": null,
            "grid_gap": null,
            "grid_row": null,
            "grid_template_areas": null,
            "grid_template_columns": null,
            "grid_template_rows": null,
            "height": null,
            "justify_content": null,
            "justify_items": null,
            "left": null,
            "margin": null,
            "max_height": null,
            "max_width": null,
            "min_height": null,
            "min_width": null,
            "object_fit": null,
            "object_position": null,
            "order": null,
            "overflow": null,
            "overflow_x": null,
            "overflow_y": null,
            "padding": null,
            "right": null,
            "top": null,
            "visibility": null,
            "width": null
          }
        },
        "6b74f5d9420840188ecb24701800643e": {
          "model_module": "@jupyter-widgets/controls",
          "model_name": "DescriptionStyleModel",
          "model_module_version": "1.5.0",
          "state": {
            "_model_module": "@jupyter-widgets/controls",
            "_model_module_version": "1.5.0",
            "_model_name": "DescriptionStyleModel",
            "_view_count": null,
            "_view_module": "@jupyter-widgets/base",
            "_view_module_version": "1.2.0",
            "_view_name": "StyleView",
            "description_width": ""
          }
        },
        "cf262a2f4fe34983be22fb909d3748d9": {
          "model_module": "@jupyter-widgets/base",
          "model_name": "LayoutModel",
          "model_module_version": "1.2.0",
          "state": {
            "_model_module": "@jupyter-widgets/base",
            "_model_module_version": "1.2.0",
            "_model_name": "LayoutModel",
            "_view_count": null,
            "_view_module": "@jupyter-widgets/base",
            "_view_module_version": "1.2.0",
            "_view_name": "LayoutView",
            "align_content": null,
            "align_items": null,
            "align_self": null,
            "border": null,
            "bottom": null,
            "display": null,
            "flex": null,
            "flex_flow": null,
            "grid_area": null,
            "grid_auto_columns": null,
            "grid_auto_flow": null,
            "grid_auto_rows": null,
            "grid_column": null,
            "grid_gap": null,
            "grid_row": null,
            "grid_template_areas": null,
            "grid_template_columns": null,
            "grid_template_rows": null,
            "height": null,
            "justify_content": null,
            "justify_items": null,
            "left": null,
            "margin": null,
            "max_height": null,
            "max_width": null,
            "min_height": null,
            "min_width": null,
            "object_fit": null,
            "object_position": null,
            "order": null,
            "overflow": null,
            "overflow_x": null,
            "overflow_y": null,
            "padding": null,
            "right": null,
            "top": null,
            "visibility": null,
            "width": null
          }
        },
        "842f203478a84eceb8738f3683d82d6a": {
          "model_module": "@jupyter-widgets/controls",
          "model_name": "ProgressStyleModel",
          "model_module_version": "1.5.0",
          "state": {
            "_model_module": "@jupyter-widgets/controls",
            "_model_module_version": "1.5.0",
            "_model_name": "ProgressStyleModel",
            "_view_count": null,
            "_view_module": "@jupyter-widgets/base",
            "_view_module_version": "1.2.0",
            "_view_name": "StyleView",
            "bar_color": null,
            "description_width": ""
          }
        },
        "97510d8f54b64a89a346b58d6a7b6606": {
          "model_module": "@jupyter-widgets/base",
          "model_name": "LayoutModel",
          "model_module_version": "1.2.0",
          "state": {
            "_model_module": "@jupyter-widgets/base",
            "_model_module_version": "1.2.0",
            "_model_name": "LayoutModel",
            "_view_count": null,
            "_view_module": "@jupyter-widgets/base",
            "_view_module_version": "1.2.0",
            "_view_name": "LayoutView",
            "align_content": null,
            "align_items": null,
            "align_self": null,
            "border": null,
            "bottom": null,
            "display": null,
            "flex": null,
            "flex_flow": null,
            "grid_area": null,
            "grid_auto_columns": null,
            "grid_auto_flow": null,
            "grid_auto_rows": null,
            "grid_column": null,
            "grid_gap": null,
            "grid_row": null,
            "grid_template_areas": null,
            "grid_template_columns": null,
            "grid_template_rows": null,
            "height": null,
            "justify_content": null,
            "justify_items": null,
            "left": null,
            "margin": null,
            "max_height": null,
            "max_width": null,
            "min_height": null,
            "min_width": null,
            "object_fit": null,
            "object_position": null,
            "order": null,
            "overflow": null,
            "overflow_x": null,
            "overflow_y": null,
            "padding": null,
            "right": null,
            "top": null,
            "visibility": null,
            "width": null
          }
        },
        "f6d2bed5c94b4547b37d0dab656b1e5d": {
          "model_module": "@jupyter-widgets/controls",
          "model_name": "DescriptionStyleModel",
          "model_module_version": "1.5.0",
          "state": {
            "_model_module": "@jupyter-widgets/controls",
            "_model_module_version": "1.5.0",
            "_model_name": "DescriptionStyleModel",
            "_view_count": null,
            "_view_module": "@jupyter-widgets/base",
            "_view_module_version": "1.2.0",
            "_view_name": "StyleView",
            "description_width": ""
          }
        },
        "897668dd7d7a42b7a5eaea8c8181bae7": {
          "model_module": "@jupyter-widgets/controls",
          "model_name": "HBoxModel",
          "model_module_version": "1.5.0",
          "state": {
            "_dom_classes": [],
            "_model_module": "@jupyter-widgets/controls",
            "_model_module_version": "1.5.0",
            "_model_name": "HBoxModel",
            "_view_count": null,
            "_view_module": "@jupyter-widgets/controls",
            "_view_module_version": "1.5.0",
            "_view_name": "HBoxView",
            "box_style": "",
            "children": [
              "IPY_MODEL_3eb68622eb6b4518acbfd1a0f33aeb68",
              "IPY_MODEL_a60bd8294e484dc58faa07b955a79811",
              "IPY_MODEL_91119df292854e60892908d2dab9525b"
            ],
            "layout": "IPY_MODEL_b22d5e0f224b411ab4ec45cf7bd0466d"
          }
        },
        "3eb68622eb6b4518acbfd1a0f33aeb68": {
          "model_module": "@jupyter-widgets/controls",
          "model_name": "HTMLModel",
          "model_module_version": "1.5.0",
          "state": {
            "_dom_classes": [],
            "_model_module": "@jupyter-widgets/controls",
            "_model_module_version": "1.5.0",
            "_model_name": "HTMLModel",
            "_view_count": null,
            "_view_module": "@jupyter-widgets/controls",
            "_view_module_version": "1.5.0",
            "_view_name": "HTMLView",
            "description": "",
            "description_tooltip": null,
            "layout": "IPY_MODEL_2002e8a6d7ff47a7b5f3353f80cebd61",
            "placeholder": "​",
            "style": "IPY_MODEL_3bb8eecd7cd04419aebc34a4ae08eb2f",
            "value": "Downloading: 100%"
          }
        },
        "a60bd8294e484dc58faa07b955a79811": {
          "model_module": "@jupyter-widgets/controls",
          "model_name": "FloatProgressModel",
          "model_module_version": "1.5.0",
          "state": {
            "_dom_classes": [],
            "_model_module": "@jupyter-widgets/controls",
            "_model_module_version": "1.5.0",
            "_model_name": "FloatProgressModel",
            "_view_count": null,
            "_view_module": "@jupyter-widgets/controls",
            "_view_module_version": "1.5.0",
            "_view_name": "ProgressView",
            "bar_style": "success",
            "description": "",
            "description_tooltip": null,
            "layout": "IPY_MODEL_37c42ec261ab44cfa2007b6b5cb01ddc",
            "max": 1119,
            "min": 0,
            "orientation": "horizontal",
            "style": "IPY_MODEL_db2a2ce73e5e4d538e0d7e91cf5bcfb4",
            "value": 1119
          }
        },
        "91119df292854e60892908d2dab9525b": {
          "model_module": "@jupyter-widgets/controls",
          "model_name": "HTMLModel",
          "model_module_version": "1.5.0",
          "state": {
            "_dom_classes": [],
            "_model_module": "@jupyter-widgets/controls",
            "_model_module_version": "1.5.0",
            "_model_name": "HTMLModel",
            "_view_count": null,
            "_view_module": "@jupyter-widgets/controls",
            "_view_module_version": "1.5.0",
            "_view_name": "HTMLView",
            "description": "",
            "description_tooltip": null,
            "layout": "IPY_MODEL_d3171ecd3bae4a139a6678fe453a49ae",
            "placeholder": "​",
            "style": "IPY_MODEL_2ed0a45fc5174ae48f994432b37de629",
            "value": " 1.12k/1.12k [00:00&lt;00:00, 19.1kB/s]"
          }
        },
        "b22d5e0f224b411ab4ec45cf7bd0466d": {
          "model_module": "@jupyter-widgets/base",
          "model_name": "LayoutModel",
          "model_module_version": "1.2.0",
          "state": {
            "_model_module": "@jupyter-widgets/base",
            "_model_module_version": "1.2.0",
            "_model_name": "LayoutModel",
            "_view_count": null,
            "_view_module": "@jupyter-widgets/base",
            "_view_module_version": "1.2.0",
            "_view_name": "LayoutView",
            "align_content": null,
            "align_items": null,
            "align_self": null,
            "border": null,
            "bottom": null,
            "display": null,
            "flex": null,
            "flex_flow": null,
            "grid_area": null,
            "grid_auto_columns": null,
            "grid_auto_flow": null,
            "grid_auto_rows": null,
            "grid_column": null,
            "grid_gap": null,
            "grid_row": null,
            "grid_template_areas": null,
            "grid_template_columns": null,
            "grid_template_rows": null,
            "height": null,
            "justify_content": null,
            "justify_items": null,
            "left": null,
            "margin": null,
            "max_height": null,
            "max_width": null,
            "min_height": null,
            "min_width": null,
            "object_fit": null,
            "object_position": null,
            "order": null,
            "overflow": null,
            "overflow_x": null,
            "overflow_y": null,
            "padding": null,
            "right": null,
            "top": null,
            "visibility": null,
            "width": null
          }
        },
        "2002e8a6d7ff47a7b5f3353f80cebd61": {
          "model_module": "@jupyter-widgets/base",
          "model_name": "LayoutModel",
          "model_module_version": "1.2.0",
          "state": {
            "_model_module": "@jupyter-widgets/base",
            "_model_module_version": "1.2.0",
            "_model_name": "LayoutModel",
            "_view_count": null,
            "_view_module": "@jupyter-widgets/base",
            "_view_module_version": "1.2.0",
            "_view_name": "LayoutView",
            "align_content": null,
            "align_items": null,
            "align_self": null,
            "border": null,
            "bottom": null,
            "display": null,
            "flex": null,
            "flex_flow": null,
            "grid_area": null,
            "grid_auto_columns": null,
            "grid_auto_flow": null,
            "grid_auto_rows": null,
            "grid_column": null,
            "grid_gap": null,
            "grid_row": null,
            "grid_template_areas": null,
            "grid_template_columns": null,
            "grid_template_rows": null,
            "height": null,
            "justify_content": null,
            "justify_items": null,
            "left": null,
            "margin": null,
            "max_height": null,
            "max_width": null,
            "min_height": null,
            "min_width": null,
            "object_fit": null,
            "object_position": null,
            "order": null,
            "overflow": null,
            "overflow_x": null,
            "overflow_y": null,
            "padding": null,
            "right": null,
            "top": null,
            "visibility": null,
            "width": null
          }
        },
        "3bb8eecd7cd04419aebc34a4ae08eb2f": {
          "model_module": "@jupyter-widgets/controls",
          "model_name": "DescriptionStyleModel",
          "model_module_version": "1.5.0",
          "state": {
            "_model_module": "@jupyter-widgets/controls",
            "_model_module_version": "1.5.0",
            "_model_name": "DescriptionStyleModel",
            "_view_count": null,
            "_view_module": "@jupyter-widgets/base",
            "_view_module_version": "1.2.0",
            "_view_name": "StyleView",
            "description_width": ""
          }
        },
        "37c42ec261ab44cfa2007b6b5cb01ddc": {
          "model_module": "@jupyter-widgets/base",
          "model_name": "LayoutModel",
          "model_module_version": "1.2.0",
          "state": {
            "_model_module": "@jupyter-widgets/base",
            "_model_module_version": "1.2.0",
            "_model_name": "LayoutModel",
            "_view_count": null,
            "_view_module": "@jupyter-widgets/base",
            "_view_module_version": "1.2.0",
            "_view_name": "LayoutView",
            "align_content": null,
            "align_items": null,
            "align_self": null,
            "border": null,
            "bottom": null,
            "display": null,
            "flex": null,
            "flex_flow": null,
            "grid_area": null,
            "grid_auto_columns": null,
            "grid_auto_flow": null,
            "grid_auto_rows": null,
            "grid_column": null,
            "grid_gap": null,
            "grid_row": null,
            "grid_template_areas": null,
            "grid_template_columns": null,
            "grid_template_rows": null,
            "height": null,
            "justify_content": null,
            "justify_items": null,
            "left": null,
            "margin": null,
            "max_height": null,
            "max_width": null,
            "min_height": null,
            "min_width": null,
            "object_fit": null,
            "object_position": null,
            "order": null,
            "overflow": null,
            "overflow_x": null,
            "overflow_y": null,
            "padding": null,
            "right": null,
            "top": null,
            "visibility": null,
            "width": null
          }
        },
        "db2a2ce73e5e4d538e0d7e91cf5bcfb4": {
          "model_module": "@jupyter-widgets/controls",
          "model_name": "ProgressStyleModel",
          "model_module_version": "1.5.0",
          "state": {
            "_model_module": "@jupyter-widgets/controls",
            "_model_module_version": "1.5.0",
            "_model_name": "ProgressStyleModel",
            "_view_count": null,
            "_view_module": "@jupyter-widgets/base",
            "_view_module_version": "1.2.0",
            "_view_name": "StyleView",
            "bar_color": null,
            "description_width": ""
          }
        },
        "d3171ecd3bae4a139a6678fe453a49ae": {
          "model_module": "@jupyter-widgets/base",
          "model_name": "LayoutModel",
          "model_module_version": "1.2.0",
          "state": {
            "_model_module": "@jupyter-widgets/base",
            "_model_module_version": "1.2.0",
            "_model_name": "LayoutModel",
            "_view_count": null,
            "_view_module": "@jupyter-widgets/base",
            "_view_module_version": "1.2.0",
            "_view_name": "LayoutView",
            "align_content": null,
            "align_items": null,
            "align_self": null,
            "border": null,
            "bottom": null,
            "display": null,
            "flex": null,
            "flex_flow": null,
            "grid_area": null,
            "grid_auto_columns": null,
            "grid_auto_flow": null,
            "grid_auto_rows": null,
            "grid_column": null,
            "grid_gap": null,
            "grid_row": null,
            "grid_template_areas": null,
            "grid_template_columns": null,
            "grid_template_rows": null,
            "height": null,
            "justify_content": null,
            "justify_items": null,
            "left": null,
            "margin": null,
            "max_height": null,
            "max_width": null,
            "min_height": null,
            "min_width": null,
            "object_fit": null,
            "object_position": null,
            "order": null,
            "overflow": null,
            "overflow_x": null,
            "overflow_y": null,
            "padding": null,
            "right": null,
            "top": null,
            "visibility": null,
            "width": null
          }
        },
        "2ed0a45fc5174ae48f994432b37de629": {
          "model_module": "@jupyter-widgets/controls",
          "model_name": "DescriptionStyleModel",
          "model_module_version": "1.5.0",
          "state": {
            "_model_module": "@jupyter-widgets/controls",
            "_model_module_version": "1.5.0",
            "_model_name": "DescriptionStyleModel",
            "_view_count": null,
            "_view_module": "@jupyter-widgets/base",
            "_view_module_version": "1.2.0",
            "_view_name": "StyleView",
            "description_width": ""
          }
        },
        "b9469f3bb1294cdf8cf1cddbf3f9521e": {
          "model_module": "@jupyter-widgets/controls",
          "model_name": "HBoxModel",
          "model_module_version": "1.5.0",
          "state": {
            "_dom_classes": [],
            "_model_module": "@jupyter-widgets/controls",
            "_model_module_version": "1.5.0",
            "_model_name": "HBoxModel",
            "_view_count": null,
            "_view_module": "@jupyter-widgets/controls",
            "_view_module_version": "1.5.0",
            "_view_name": "HBoxView",
            "box_style": "",
            "children": [
              "IPY_MODEL_4bbfe79ff28f4a97b29b3ab5e823e287",
              "IPY_MODEL_241dc5c8001f45688c8fcfbd17b760db",
              "IPY_MODEL_4f622ad9bf9f496cbd6183bf324c14fe"
            ],
            "layout": "IPY_MODEL_f03ad4a31361473590215a14cbf95c11"
          }
        },
        "4bbfe79ff28f4a97b29b3ab5e823e287": {
          "model_module": "@jupyter-widgets/controls",
          "model_name": "HTMLModel",
          "model_module_version": "1.5.0",
          "state": {
            "_dom_classes": [],
            "_model_module": "@jupyter-widgets/controls",
            "_model_module_version": "1.5.0",
            "_model_name": "HTMLModel",
            "_view_count": null,
            "_view_module": "@jupyter-widgets/controls",
            "_view_module_version": "1.5.0",
            "_view_name": "HTMLView",
            "description": "",
            "description_tooltip": null,
            "layout": "IPY_MODEL_6cf7d1e532104043a5a7afac069cee13",
            "placeholder": "​",
            "style": "IPY_MODEL_ef0a1c5d94aa4a5ca25a4f484eaeb2ab",
            "value": "Downloading: 100%"
          }
        },
        "241dc5c8001f45688c8fcfbd17b760db": {
          "model_module": "@jupyter-widgets/controls",
          "model_name": "FloatProgressModel",
          "model_module_version": "1.5.0",
          "state": {
            "_dom_classes": [],
            "_model_module": "@jupyter-widgets/controls",
            "_model_module_version": "1.5.0",
            "_model_name": "FloatProgressModel",
            "_view_count": null,
            "_view_module": "@jupyter-widgets/controls",
            "_view_module_version": "1.5.0",
            "_view_name": "ProgressView",
            "bar_style": "success",
            "description": "",
            "description_tooltip": null,
            "layout": "IPY_MODEL_bb98a5ccbd5149358f1228e2b3f40300",
            "max": 2275329241,
            "min": 0,
            "orientation": "horizontal",
            "style": "IPY_MODEL_f173fb37d4e14d4795c7eef542b2368b",
            "value": 2275329241
          }
        },
        "4f622ad9bf9f496cbd6183bf324c14fe": {
          "model_module": "@jupyter-widgets/controls",
          "model_name": "HTMLModel",
          "model_module_version": "1.5.0",
          "state": {
            "_dom_classes": [],
            "_model_module": "@jupyter-widgets/controls",
            "_model_module_version": "1.5.0",
            "_model_name": "HTMLModel",
            "_view_count": null,
            "_view_module": "@jupyter-widgets/controls",
            "_view_module_version": "1.5.0",
            "_view_name": "HTMLView",
            "description": "",
            "description_tooltip": null,
            "layout": "IPY_MODEL_666270c585d04f30ac0b56c8bc1afd6e",
            "placeholder": "​",
            "style": "IPY_MODEL_d662abac2fd74e82a0512a0fd105cdad",
            "value": " 2.28G/2.28G [01:04&lt;00:00, 52.3MB/s]"
          }
        },
        "f03ad4a31361473590215a14cbf95c11": {
          "model_module": "@jupyter-widgets/base",
          "model_name": "LayoutModel",
          "model_module_version": "1.2.0",
          "state": {
            "_model_module": "@jupyter-widgets/base",
            "_model_module_version": "1.2.0",
            "_model_name": "LayoutModel",
            "_view_count": null,
            "_view_module": "@jupyter-widgets/base",
            "_view_module_version": "1.2.0",
            "_view_name": "LayoutView",
            "align_content": null,
            "align_items": null,
            "align_self": null,
            "border": null,
            "bottom": null,
            "display": null,
            "flex": null,
            "flex_flow": null,
            "grid_area": null,
            "grid_auto_columns": null,
            "grid_auto_flow": null,
            "grid_auto_rows": null,
            "grid_column": null,
            "grid_gap": null,
            "grid_row": null,
            "grid_template_areas": null,
            "grid_template_columns": null,
            "grid_template_rows": null,
            "height": null,
            "justify_content": null,
            "justify_items": null,
            "left": null,
            "margin": null,
            "max_height": null,
            "max_width": null,
            "min_height": null,
            "min_width": null,
            "object_fit": null,
            "object_position": null,
            "order": null,
            "overflow": null,
            "overflow_x": null,
            "overflow_y": null,
            "padding": null,
            "right": null,
            "top": null,
            "visibility": null,
            "width": null
          }
        },
        "6cf7d1e532104043a5a7afac069cee13": {
          "model_module": "@jupyter-widgets/base",
          "model_name": "LayoutModel",
          "model_module_version": "1.2.0",
          "state": {
            "_model_module": "@jupyter-widgets/base",
            "_model_module_version": "1.2.0",
            "_model_name": "LayoutModel",
            "_view_count": null,
            "_view_module": "@jupyter-widgets/base",
            "_view_module_version": "1.2.0",
            "_view_name": "LayoutView",
            "align_content": null,
            "align_items": null,
            "align_self": null,
            "border": null,
            "bottom": null,
            "display": null,
            "flex": null,
            "flex_flow": null,
            "grid_area": null,
            "grid_auto_columns": null,
            "grid_auto_flow": null,
            "grid_auto_rows": null,
            "grid_column": null,
            "grid_gap": null,
            "grid_row": null,
            "grid_template_areas": null,
            "grid_template_columns": null,
            "grid_template_rows": null,
            "height": null,
            "justify_content": null,
            "justify_items": null,
            "left": null,
            "margin": null,
            "max_height": null,
            "max_width": null,
            "min_height": null,
            "min_width": null,
            "object_fit": null,
            "object_position": null,
            "order": null,
            "overflow": null,
            "overflow_x": null,
            "overflow_y": null,
            "padding": null,
            "right": null,
            "top": null,
            "visibility": null,
            "width": null
          }
        },
        "ef0a1c5d94aa4a5ca25a4f484eaeb2ab": {
          "model_module": "@jupyter-widgets/controls",
          "model_name": "DescriptionStyleModel",
          "model_module_version": "1.5.0",
          "state": {
            "_model_module": "@jupyter-widgets/controls",
            "_model_module_version": "1.5.0",
            "_model_name": "DescriptionStyleModel",
            "_view_count": null,
            "_view_module": "@jupyter-widgets/base",
            "_view_module_version": "1.2.0",
            "_view_name": "StyleView",
            "description_width": ""
          }
        },
        "bb98a5ccbd5149358f1228e2b3f40300": {
          "model_module": "@jupyter-widgets/base",
          "model_name": "LayoutModel",
          "model_module_version": "1.2.0",
          "state": {
            "_model_module": "@jupyter-widgets/base",
            "_model_module_version": "1.2.0",
            "_model_name": "LayoutModel",
            "_view_count": null,
            "_view_module": "@jupyter-widgets/base",
            "_view_module_version": "1.2.0",
            "_view_name": "LayoutView",
            "align_content": null,
            "align_items": null,
            "align_self": null,
            "border": null,
            "bottom": null,
            "display": null,
            "flex": null,
            "flex_flow": null,
            "grid_area": null,
            "grid_auto_columns": null,
            "grid_auto_flow": null,
            "grid_auto_rows": null,
            "grid_column": null,
            "grid_gap": null,
            "grid_row": null,
            "grid_template_areas": null,
            "grid_template_columns": null,
            "grid_template_rows": null,
            "height": null,
            "justify_content": null,
            "justify_items": null,
            "left": null,
            "margin": null,
            "max_height": null,
            "max_width": null,
            "min_height": null,
            "min_width": null,
            "object_fit": null,
            "object_position": null,
            "order": null,
            "overflow": null,
            "overflow_x": null,
            "overflow_y": null,
            "padding": null,
            "right": null,
            "top": null,
            "visibility": null,
            "width": null
          }
        },
        "f173fb37d4e14d4795c7eef542b2368b": {
          "model_module": "@jupyter-widgets/controls",
          "model_name": "ProgressStyleModel",
          "model_module_version": "1.5.0",
          "state": {
            "_model_module": "@jupyter-widgets/controls",
            "_model_module_version": "1.5.0",
            "_model_name": "ProgressStyleModel",
            "_view_count": null,
            "_view_module": "@jupyter-widgets/base",
            "_view_module_version": "1.2.0",
            "_view_name": "StyleView",
            "bar_color": null,
            "description_width": ""
          }
        },
        "666270c585d04f30ac0b56c8bc1afd6e": {
          "model_module": "@jupyter-widgets/base",
          "model_name": "LayoutModel",
          "model_module_version": "1.2.0",
          "state": {
            "_model_module": "@jupyter-widgets/base",
            "_model_module_version": "1.2.0",
            "_model_name": "LayoutModel",
            "_view_count": null,
            "_view_module": "@jupyter-widgets/base",
            "_view_module_version": "1.2.0",
            "_view_name": "LayoutView",
            "align_content": null,
            "align_items": null,
            "align_self": null,
            "border": null,
            "bottom": null,
            "display": null,
            "flex": null,
            "flex_flow": null,
            "grid_area": null,
            "grid_auto_columns": null,
            "grid_auto_flow": null,
            "grid_auto_rows": null,
            "grid_column": null,
            "grid_gap": null,
            "grid_row": null,
            "grid_template_areas": null,
            "grid_template_columns": null,
            "grid_template_rows": null,
            "height": null,
            "justify_content": null,
            "justify_items": null,
            "left": null,
            "margin": null,
            "max_height": null,
            "max_width": null,
            "min_height": null,
            "min_width": null,
            "object_fit": null,
            "object_position": null,
            "order": null,
            "overflow": null,
            "overflow_x": null,
            "overflow_y": null,
            "padding": null,
            "right": null,
            "top": null,
            "visibility": null,
            "width": null
          }
        },
        "d662abac2fd74e82a0512a0fd105cdad": {
          "model_module": "@jupyter-widgets/controls",
          "model_name": "DescriptionStyleModel",
          "model_module_version": "1.5.0",
          "state": {
            "_model_module": "@jupyter-widgets/controls",
            "_model_module_version": "1.5.0",
            "_model_name": "DescriptionStyleModel",
            "_view_count": null,
            "_view_module": "@jupyter-widgets/base",
            "_view_module_version": "1.2.0",
            "_view_name": "StyleView",
            "description_width": ""
          }
        }
      }
    }
  },
  "cells": [
    {
      "cell_type": "markdown",
      "source": [
        "Start by copying this into your Google Drive!!"
      ],
      "metadata": {
        "id": "3VgDWmVan1SO"
      }
    },
    {
      "cell_type": "markdown",
      "source": [
        "![maastricht-university-logo.jpeg](data:image/jpeg;base64,/9j/4AAQSkZJRgABAQAAAQABAAD/2wBDAAkGBhQQEBUUERQVEhIVGBwUFBgXGBgfFhwVFxsaGRscGB0YGyceHxkjHhgYHy8gJScpLSwtGCAxNTAqNSYsLCn/2wBDAQkKCg4MDhoPDxosHR8kKSwpKiwsLCwsKSwsLCwsLCwsKiwpLCwpLCwsLCwsKSwsLCwsLCwpLCwsLCwpLCwsKSz/wgARCACgATsDASIAAhEBAxEB/8QAGwABAAIDAQEAAAAAAAAAAAAAAAUGAwQHAgH/xAAXAQEBAQEAAAAAAAAAAAAAAAAAAQID/9oADAMBAAIQAxAAAAG8AAAAAAAAAAAAAAAAAAAAAAAAAAAAAAAAAAAAAAAAA+febzes214950AAPJ6U642Ff3CUEoAABG+kkApWJSyTEpR7rZ7IyWTaG+AAcu1Nqa78oW0adPl7J65Le+ep8Z0jZKu2c96nS/vTEfYo/wCFngbTVs6suhE2MrttpEunv3UbwVZM7dZ4f17l2ZWs7oxxF/OeyUbcU1av8mqi+hQE/nQZoHLpOMy9uXvTvE5nVZsulTM24yPHOxH2nXHTljud9d09TDRunx8UvdtuGqpGdC8lPkp3NEHVbxvlejrtGENKSWVahITWVOZ3KR81Sega+7m83np3aspd4iZaUJQNPcRaZ6bAa/bnaNWay51VOp0W9S/Y+Qo2bdMerpknuVSVJZX5iIKy06e0k2GPylmGDqxNbTllUVkSRhvGKpXFhodnU0V5zZdg1VkQAAAYqvbVnLtbrNc3mk9Z5h0+PtGvNLlsOng06z1S5Vq5l/UvDLD2as9HiqQGla9TS+YpuWB+W6nliqPUYeXzF1uyWSVNvNML1QejViXzJ0bq6fRjYAAAAADBnFSy2hZ8gLAjU1JYV+wBX5jYGpWrgqExz4+Va1CDzSw1I2dRBZt6jamzedTblCUAAAAAAAAAAAAAAAAAAAAAAAAAAAAAAAAAAAAAAAAD/8QALhAAAQQBAwIFBAEFAQAAAAAAAgEDBAUABhITETMQICIjMiEwMTQVFiRAUHBC/9oACAEBAAEFAv8AkXX/AFE6QQPxL5FwDRfORdEa1B1XLC14lr5vKP2J05GkgyuQPC4sCbyukK434XE0wcH8ZOnI0kGVyB5bXvOxSDGeRtIl6i4JdfLYn0a2/Svf3tzHORzTp5ZWXDn8+WQJ6OpY23EX9QFkWUjgzLzatfaE4drYb8gW/GllYcWPag6JazNiQnt7cy8QVgXKuHfd16/6ZW2vLlpYci19tsTy23evPhK/UyNLJvK605fJen7TcbrGgTdrVVF6hQue5LeAMmXQmOnvlLlttrYWwujp74L1ZdhWouZqBPRSJ7OovxSwhUNRZHc2xKOMhHxpl93YsNAbo+7qFPTSp7Plte8NiBhYWCGkavNzItEKYI9Mkzwb8dRHlS17Dre1a2Ptagel+968smzBW9PfKUX9xZWKGOnvi9bNLleG57UA+3V2iAGofxS9nUWRGd8WBM4Tj3Amd93f/NH3dQp6Ku0EB8tr3o1SZ5FpwDwkzhbyXdkWJ+U8HogngB0RyvAlz+PDq/GE8ZgAGMwxDJEIDwYAIjMcQwqltcZYEMMEVEqW8ejCeNNIKPxRPG20FHoIHjNeAK9CA16Y1BAVcbQkGqbRfKkQd2SZgt5LvCLK+rR0a+u5CmRuNxPCTPFvGnUJJEhASNLFxPF67ET+1YWSNZElI4LtgAr9ucLnR9skXDc4hmpxBeB6k8NQ/Ks7N52dPfAbQFI7xtFYfQ0fFjmk2Atqy6hJIswbUnkRFvW8jyRNH7IAL+TDfKng3ke3AytkbyO6AMy30J5izA8j2oGrzyAkWeLn2XGkJJNAmTxcx+WZ4coixPDUPyrOzednT3wcb3Oz6oAa06v0mfs3sfq3QyfTHTmfv3/U0cfZRudHbzvV1Sg5IX3obbKrqLK5lCjzGUF6PAAFkjwvXsn00sfa39pUyTRgWP1pgqeGoW8qrAeO6nio0TXRuP8As2/Z07kz9kw6p1VstPx/pft+5EBgxjts7r3uh+JUdpzA9LuosqOzZL0kNSRLNQR/o2Kukif4DzKGh6eTGaAExEwKdEclR94wK9Gsdp0JzJdOLhR2dgyYouIunUyDVI0syoRwkTJFEhFDqBbWfXo7kWPsGdUo6sCr4ltSTh0/H+v+lkouxa99zIsdGx/5L//EACARAAICAQQDAQAAAAAAAAAAAAABESFBAhAwMSBQURL/2gAIAQMBAT8B9TPjJPNBMC1TuqF2MwJ2SZMmRWZMC3uT8/SkJyMakgggggjaBKNooXg9RAh8U8D0mk1dE0fDIjsyPoaJofQxXfDHGq9X/8QAIREAAwACAgIDAQEAAAAAAAAAAAERAiEQMRIgQUJQMHH/2gAIAQIBAT8B/J8fVqE9ZxPe9E8h4zhdmWx9QX+E2NaGtH1IpSaHFo1DrIy751DynRHkZKCcFlBZFR5bLqFhdQuoXQ2mUeW6P0WKKzLpGKrJsaIPicQm9iVJ7JwWRmY9k2fLPqNyD1s+BbyFkSMXbMXvZlpT+Pk+LxROFE4Uot7Y3X+X/8QANxAAAQMBBgIIBQMEAwAAAAAAAQACESESIjFBUXEQgQMgYZGhscHwMDJygtEjUuETQmJwQFDx/9oACAEBAAY/Av8AZTy0x/4F+pTtGCpX4AuxPbwAic1MRWPgyRM0VqI4tDc80HHHjDXQI4yRMq1EdZ/vIIWhE4K22Q093cofdOuSp1X7LwTT37hOI9gJw5oUmV8g8VoRiFZDZzVWDxVoKGi15Ky5sUlWYiy7+EGWZrrqhSZQhtYk6JssD51QMR2KGi1rog2yF9o9VDBPaVBEOVmIsn+EGWc9dT1n+8l0XvIJnLhdP4UWSDr/AG9Tcj8onR1r0XSDu50XSH/GyPfctwpfHZryRbZx1hO2Uu+bxUWeadv6KoqDnmowdom/V6IblN3VogEnVM5+in/EozWyFgvtHqojKqGxTd/RDn59Z/vIIN6YGmYQa0QwKgpqcFfvHwVFU10z4sG5QBznxRGlEBzPND6iPMKuEUVjohU0wTtkbdRarsrPRimJTt/REOE5YIWcJnYIfUrJnGnNM3Q5+ZTOforOoKqOwhBoBqvtHquSGxTd0GEGZ8+s/wB5BYWRqfwv3Ht4XjyzV26PFc+N4SoGCktBPCbInHmrwlXWq62FebKiyIOKuiF8vmrohQahfL5q8JUNoFeEwoFArzQVLWgFS5oJ4S1oBUGoU2fPrF0XjnwvH8q5dHirTiZJ94pwcYsqzlSON44qRgVLsFLepZg0oT8MUklWgoJrp8T9Mj15K/M9vDoB2yffNdIc3Op4fymO14s2KZsjuE76vRWZrtoszsFLahVm1OGUqHeSBGBUONdlJoO1Z9ylplWTjsrGJV410zVkTJQ/qT2QrTfkVoYSD3QjZmgnBQDXZScAruXwYIkK4Y7Dgv1Z7NPBQ4ygHGQMOLNimbI7hO+r0RAzcR4okYjNP5L7x6Kf2+Sc0/215Lc2jsEG5ATzUGpzMGZUZELkE1xm1j2J1v8AdXZT0cSO9M5poOH8qyMJHopaIWxtDZNAzvclObq/j4l24fBVEjUcWnkgCQCKVVlpmtVP7jK+8+qcn8l949FCcN2Iu1oOSnUeSFGTmrlm0NFyHC9EjtqhYM3oB1TOab7zR3B8ldcCg/kU1v28h/wYdUKjirxLvLhbk4yi3VGCTKtycZ7uFqSEGjJQ5fMe5SCScFaJI4F1rEzgp+Y9qEmIQbjCmYKmZyTp9nJF+lB/0zrOMU3V/wAT+EGj/U3/xAArEAEAAQMCBQMEAwEBAAAAAAABEQAhMUFRYXGBobGRwfAQINHhMFDxcED/2gAIAQEAAT8h/wCRH9QVmpOTuFWQT+BMlCygOEx98w7E+lQpiQTonp9I1nSV4jbTnU9i2JnQff8AhJokgEZida34KRM4fqnBLlROIsUIMKTgwxJ9ZwILBGb7lOzl9DaJIIjnrUFkLaZwx93eFBSUbhfXRqH3EklO8vaocfg8ygEoR1Ptm3Getvep3aT6omt5Yj0DS3sEp6f7612f1W9q3znF4LR+ajzB8bU6Q8g1OH4pboQSXedjhQL5ge5RLDhHI7UTzxZVy2N6gAvSvpG/OnazIvOYnZSCDc4m0UhYZozHtVhS8izhxaMAU2NCRwd6tmmYYNKdThZTH7UlAmWRbRQqJkEFpM8jagTEibNkprDLvMzE7KWLOE+FHH7u8PCuwaH9KtMW5q5lZQDIv6tOX2RR2Xp+lb/+iAXaaaauA8/+TXM5zolpFHf9SH80EXxrJoGzsgcDoxwa7d5atImQQTH8VEKGREkkcq+HwVdZFIYBm560nlvNeTXyG6jwf6V3bxUpapZMAxafpywMkHOUpsIAQcSue1XJhJhi9Kos2Z0cqXmvmuFep/Kjw6+T7u8KGunHgW0uVxT1yxjpXtGP26Vd1wsenWhEAAwGKsBbBf0UfSxxPQI962EKeSfamf1K6NTdlOpdSj7URck9GsVIDDbZBrza7f5oxTBY5LdorHpvxFjhz1r5/BUo0FQzxanh0Hfc+KmXQu6iVDuWhinfPFd/WzrRAyI5yxSIonPW9yiRLrsaVmoHw5V81wq6aF/UawkgRi79/d3RRf8A4XGVXZOPj0MUFFYHQXXSrPz/AMwU5C3YefqeE2WJoyCBYOFNFjLQVxe3a6poWDjialoBSF1jm00pNsxV1Jb6+pTU6A3560YhluxSUplu3/KhIE8CnQiZHFFZDPP8qjI44moUAYDjUPHpTx/yjAwYCmpQ319StiEOvSa0QFLtWEVxkAUoETI1HBkuX/L7jxeoru1tsfQKSNjVyKsg43zBUJ9AXLxvBZzQpAtUjMpqcKt5UKTmGNuM/U2DGRZccqB3wk5VJ6MMLnlTpZBhsl+v2KZQsDPLYof4oErEOBRMEG0ORKi9vCF2XEx/Iy2Os+TFWGHrvXWmtDWHVIe9Yvw3k/xSxsEPRE8/V8huV2GvgN6+RwVHavS6iZTfpUcniWKCtJ89a4Z8gZuI9qPKikkJ8Urc3Cp7LJsnPKpDWZmyjsX8cKgSHceO1TpccJzirEqrFiw8WuyhehqDgkta9PLZvMM8Sh0gb4ZzCuuaUTTxrwJW6UyEri7BQd0sSjF9acvGSn0a6pEzz/hji2kpl5vM6NTvR0uRZQZbIihRZLhbONCpOUELW00Pq+Q3K7DXwG9fI4KbLvXFUrFtuzvOlWTSV6j+KyU7Fyp6rPs9KvRs82e/mlmceyXgp0uo80x6HmiieHwxtSxG6HpcfPrShfLNDLXGskx3q/FScdYNo6RRYuGsJtcrDm8KBOUMnVS0IjxwSXmlUokN3HWmVPdF/wAlT469yY89qif0f6ef4zSG5V86T2/ih2UNQzrqfU3Dv1MJ4qG97FFtEmgZGhhgCnnbDlAHisNDtzyVhze6slMmWEh61uXCcnXsNRP1dLLv4pQaDh4yn2pIihYwI61icSdwYrP8s1i5FKssZQA5/utuQBoU/wArDm8K7d8qmLg6YKLwjE2dKmFp6Tjv5pjbB4fqmoyDBb/wLSkp7ZmyDTM8Ax2VBixWbacbRefzQOKGorRYcxpO3OpIJhG0Yfj6OU1CYjTW9DhAiojSZNx4NT7RcRSRAMoiORU/JAQRpzqIjapWRZWa1kkcOjkFXEXMRrzoDFGpzdn3q5aOGMO1G4bTQUTdkHw3qR2PVOfb1/pmbi9C1IBKDUoOizWEg13dX/k3/9oADAMBAAIAAwAAABDzzzzzzzzzzzzzzzzzzzzzzzzzzzzzzzzzzzzzzzzxvTzzjjjzzzzPz3zX7bzyiRrz0KKyQs9I7wTtbTzytQe65iMzIeasgWFKPbzw+Gfy5NLezfHbP5fPLzzzw1L/ALBPtBfqOUiiwr888888c8ef/fvdtddvj+888888888888888888s88888888888888888888888/8QAIBEAAwACAgMAAwAAAAAAAAAAAAERITEQIEFQUTBhgf/aAAgBAwEBPxD1M2dUj0RZ1vjiqzhOuGujR1jbURwbiMxof0b9ido0BU8kfmNvBCeQzyM1Bts1OdkMnQ3w5KoRQdQqs1gmtGzeRtaiZosmxmAllsWgRpZ50O0sECxsaKjeKJ1UqYn9KNpFKhvGBwiovVpPYzwyvJsGgawg1FglqE8F8FsJJMERkxEfwXGB6/Cj4RMitJCIaTItDVIpCKQeFEhInq//xAAiEQEBAQEBAAIBBAMAAAAAAAABABEhMRBBIDBQUWFxkaH/2gAIAQIBAT8Q/aV5p+K+reb+Os34UG/CYDBvCTOfJjFjWz9fB0Qzz6btD6iJ9pBnNj6zITg3+5T6QG08WPg7cDewGEjx85hskZCXHbNti2G793IE8gaZPCCOQekw8j+LqJ2dAWlMXT59jd9v+3ktSDBjwsFCUewOYWMJ8LHy1GMC3Nqx9/FPEf2WOZecL/eHEhVbaF/UOv5Tw5LpZKsYZ8v83g+1wfouGbClrMlX2UmS+LW7J4tbsIduml2P2v8A/8QAKRABAQACAQMDBAMBAQEBAAAAAREAITFBUWFxgZEQIKGxMMHwUPFgcP/aAAgBAQABPxD/APIjbEYxjw9nz/yN4BYb6Umn95C6Xkr+T8h5MI75JFHhPvJPhl6C/wBYNvV3wgsmy98uEYdtYs6ls+HnOdhn2AGw5B0/h9QZojZWiD3xyeluglbDb9dQD6gA2a619sO1YQShA9GX6vRacmm3Y9DGVdqF9YfTUIylsHZWiHnGX03oB+UOZfuWXcxZ6vA0ETSc470xKbobFslh8mb4jUbT57vmnnBG4wgieE+2YsYPUz+cPF958D4bl+bP/RbS++azsjpqo8OGjtJ+xf6ZoSQkyc10t/pi4SriovosY9pwMjIohy9goNWsEEewhEABFasNQHM0HjC1Il4A8qdf3luz1wHTAVDrpvJ2sOl2HB3wwGhKWvVBEtvLgWJW6H3Xi9+mXJFC4heixkhKrq2HQxK8BeuDqFFh0MeS/jJ2BolAUBo7dspx9MKWggqHToPOFmiloBeE30OTLIOUPziMBxIBACgXbVee2A5gSh0FKURSj3xwwDA11ARO/LhWG7qHk6nHl0/gJoIh3/sv0oyeV36zq+SPnLHhgWh3jby+fsFusn3V+HijFYP/ADPZ7ZqY2Hxuw9fkc12bR8nkt9IvdD8Y5xiQUZQS3RUx0urg06QrYPN1iy4kaABqbN9LXahvIPvdqNwp2U5649Hj+cfTuOICTYlCcPpMPkWKR4bZafTTDjDFAF2QLi5EL1w7/oVO5NALSAhUVeuu2CPoxq+XHZEflwS4CDWBDpQU8t6YQ82IIHmMpkE9v2YGUrtC3KPJuB0A+mAiAC2gYOZC86F+7FyosEhZuIdhE0nGOnlQ5Agg6B32vabTFh96HhS+w5BZ4kPlfczxhcjQAA8BihWw2msNODywxU+nq34JiCRQDv8A24yhV84JD7gPvkiSefXD6CHtlaYfOxPlMmFIj2DTu73S+mchphuzsOC7KdVx/wCnrxEoD10jj1Nk6hOuDWaNGF0EUKKp0C3PwuA2soQrVHZuc3FRVRzFQL0TzXEBNL0Rvyhh5e9EUId1Iiv4x/QdD8TFdM92B+QY2kDphVaXqXXUXxipYLWCFgCq6z/a744voYMiF2XQiL76xjGqgVvKqSMe33fMM9el5ycquginyPeHnIrgaSQnZI3utfOAENHTLY0/oAb92GXDtrgv3/RXziqFEVVVjau3OB6fQsMUrQ7hvAzFi4BwGbO1oNUA3vsGQ4xX0V3k7nN3h0kr1B8JE9nNwcbi1pKKD4wsEUrZzHeKgKQ3J7UGeMJ+loeDSlqPnHQBDgsl+MasI6IVa0I5zqnRCK+XlfXDQjAVHkw/KIlQE4gxhYCaitLpmFbWeAUr8qudQu1caWesfGC30+AVuvdzprvRJO6CmDADuopNkppTWaYwQNiw58uB4NSTxxh8qEAbHk5wi6QFHBwiFEBNiDHP3GhUHoAOThBxPp4CU36Bt/WVnd7FH59mvkx8+AERoqQo6uDGvVqS98iRvuYawAzXUQFgcdDOB6fRpSGNwgeDOTGMiPEq8OzFbjRIiqGgvOJDvTBAyAeE+xUwWsGgpyab9HKFOH+LeiaCAQFV8smIeRUKCJrTxz2wgM4RGOgMtOe/8k/LOtr1KH1PcxuNdrT5BLHkXFC5dthA9Fr3P0400d0KA35PfCStkfP4Q/jOB6fZBp/o9v0JQgh8ABUiQFvEBGMWPtVKeTBZ8B6iciOwdnHolDzEBhI2tx65q0aQQY7HT+zItlSRnkeHxjk0BgAVKiXWQvkfAHi3h3xkSS7H+yM9s6DjZ5EDteHCJqEAHTsE5xS6Z3EFSkpGhZigTRQGHeHB5Zg20DTUK2OtDlyOQs6FIOnWntkZJQqOsB2WsX9EFRAbN9WsSAsaD1pTb4xK01ADFAiWCzw5K8qgV5mg5d4iiAygJD3R+P4WSpyJPz1xNfyHMdl+yPGQqBW6MWJtDTvWKRKgIQ1o6Ke+bHFw6xyBda25wPT7MNP9Ht+hOqor7RXwFXwOEXNQldADoa6DWNsaEPIH8D4+jUsrf7/qTAEIVs878Avsw2e8HaCL2Pfx5tYOjFXoa9eAww9RDa5oPAa11zYZ0Frujv2eWXBqL8VgpH0wjcJtDZXbvXGBAWBptB4THc45yC6U3AHbbwpsz/a7Ml27RKD8jemRHIaXaCrd185sQpXtWRJ0wWUC8m8HiPt4bO7Y6gfm1i2Gy/WQft7v41QiaRBH1HLLPYNT5fHuOcRmHm4xsHY6k85wPT6WT1u9vyCvjN2igAhaNGkocNxufE7TdpqrNeuORSpval70+/13Bf6vb6WgNri8COIzq1aKwR6gPXI2j+xh6qZj3UdCwHwr3zQUBOUlCnW74cAiqJIo2qaOZPpb/ndjJQrNyOm25eAmaZjrpBTWkaro85/tdn0L75UXqbPhzoARNThUODeQJt/k0+gmE+6odwr6n4DAIIADsGj+VPqRXlj+ETYjsTjEjZagvF0/OEQJu4j5Nk8Wd7ggAAQAgBwB2wiHNM37jRZthNkBhSI6uumAi6TInag/8Y4bZpu0GyzT6EgMBlRKjmQ9srqnK8s5WdVr75yp1BncBsf31x3sZLPUn6y3XLRuHQc0Nq4yTJWZXZbvIHKA+CY6hAVlWD44w9XStK1qQfLXeCG/RKsBuHthPxQhVNprsw5qxgIHUPUrsys2YQAo0m7rJYpH62mnkh9nIw0V9JZ6APd/xiq7OUGloqA2buL8eJfpKIWL09zN5Y7XK7Tytfx/x5/9/wD/2Q==)\n",
        "#Faculty of Science and Engineering - Department of Advanced Computer Sciences\n",
        "# Course Advanced Natural Language Processing (ANLP) - Tutorial Abstracting and GPT-3"
      ],
      "metadata": {
        "id": "8S4ipRELHrMV"
      }
    },
    {
      "cell_type": "markdown",
      "source": [
        "By Jan Scholtes\n",
        "\n",
        "Welcome to the tutorial on abstracting and GPT-3. In this notebook we will visit a few traditional abstracting methods in Python. \n",
        "\n",
        "Next, we will switch to the hosted GPT-3 environment where you first have to register, after which you can run a few experiments on OpenAI's environment. The results can then be copied into this Colab Page. As GPT-3 is a closely controled (OpenAI hosted) environment, it is not possible to run it with all features form withing the Colab environment. \n",
        "\n",
        "GPT-3 very large to run (requires enormous resources) and OpenAI wishes to control who uses it to avoid abuse.  \n"
      ],
      "metadata": {
        "id": "DKxfL5Fx5gqc"
      }
    },
    {
      "cell_type": "markdown",
      "source": [
        "# Extractive Summarization\n",
        "\n",
        "Extractive text summarization ‘extracts’ notable information from the large corpora of text provided and organizes them into clear and concise summaries.\n",
        "\n",
        "In Extractive Summarization, we identify essential phrases or sentences from the original text and extract only these phrases from the text. These extracted sentences would be the summary.\n",
        "\n",
        "Extractive text summarization is the most common method used by automatic text summarizers.\n",
        "\n",
        "Hereunder is a tutorial form colab: (https://colab.research.google.com/github/dipanjanS/nlp_workshop_odsc19/blob/master/Module05%20-%20NLP%20Applications/Project06%20-%20Text%20Summarization.ipynb)\n",
        "\n"
      ],
      "metadata": {
        "id": "bv98NGtL6arL"
      }
    },
    {
      "cell_type": "code",
      "source": [
        "import nltk\n",
        "nltk.download('punkt')\n",
        "nltk.download('stopwords')\n",
        "\n"
      ],
      "metadata": {
        "id": "8DJrXUjR7xXD",
        "colab": {
          "base_uri": "https://localhost:8080/"
        },
        "outputId": "92cc8647-d30e-4060-fcb2-9b835717c217"
      },
      "execution_count": null,
      "outputs": [
        {
          "output_type": "stream",
          "name": "stderr",
          "text": [
            "[nltk_data] Downloading package punkt to /root/nltk_data...\n",
            "[nltk_data]   Unzipping tokenizers/punkt.zip.\n",
            "[nltk_data] Downloading package stopwords to /root/nltk_data...\n",
            "[nltk_data]   Unzipping corpora/stopwords.zip.\n"
          ]
        },
        {
          "output_type": "execute_result",
          "data": {
            "text/plain": [
              "True"
            ]
          },
          "metadata": {},
          "execution_count": 2
        }
      ]
    },
    {
      "cell_type": "markdown",
      "source": [
        "Now let's load a text to summarize:"
      ],
      "metadata": {
        "id": "C3zrGMQ3_a2L"
      }
    },
    {
      "cell_type": "code",
      "source": [
        "DOCUMENT = \"\"\"\n",
        "The Elder Scrolls V: Skyrim is an action role-playing video game developed by Bethesda Game Studios \n",
        "and published by Bethesda Softworks. It is the fifth main installment in The Elder Scrolls series, \n",
        "following The Elder Scrolls IV: Oblivion.\n",
        "The game's main story revolves around the player character's quest to defeat Alduin the World-Eater, \n",
        "a dragon who is prophesied to destroy the world. The game is set 200 years after the events of Oblivion \n",
        "and takes place in the fictional province of Skyrim. Over the course of the game, the player completes \n",
        "quests and develops the character by improving skills. The game continues the open-world tradition of \n",
        "its predecessors by allowing the player to travel anywhere in the game world at any time, and to ignore \n",
        "or postpone the main storyline indefinitely.\n",
        "The team opted for a unique and more diverse open world than Oblivion's Imperial Province of Cyrodiil, \n",
        "which game director and executive producer Todd Howard considered less interesting by comparison. \n",
        "The game was released to critical acclaim, with reviewers particularly mentioning the character advancement \n",
        "and setting, and is considered to be one of the greatest video games of all time.\n",
        "\n",
        "\n",
        "The Elder Scrolls V: Skyrim is an action role-playing game, playable from either a first or \n",
        "third-person perspective. The player may freely roam over the land of Skyrim which is an open world \n",
        "environment consisting of wilderness expanses, dungeons, cities, towns, fortresses, and villages. \n",
        "Players may navigate the game world more quickly by riding horses or by utilizing a fast-travel system \n",
        "which allows them to warp to previously discovered locations. The game's main quest can be completed or \n",
        "ignored at the player's preference after the first stage of the quest is finished. However, some quests \n",
        "rely on the main storyline being at least partially completed. Non-player characters (NPCs) populate the \n",
        "world and can be interacted with in a number of ways: the player may engage them in conversation, \n",
        "marry an eligible NPC, kill them or engage in a nonlethal \"brawl\". The player may \n",
        "choose to join factions which are organized groups of NPCs — for example, the Dark Brotherhood, a band \n",
        "of assassins. Each of the factions has an associated quest path to progress through. Each city and town \n",
        "in the game world has jobs that the player can engage in, such as farming.\n",
        "\n",
        "Players have the option to develop their character. At the beginning of the game, players create \n",
        "their character by selecting their sex and choosing between one of several races including humans, \n",
        "orcs, elves, and anthropomorphic cat or lizard-like creatures and then customizing their character's \n",
        "appearance. Over the course of the game, players improve their character's skills which are numerical \n",
        "representations of their ability in certain areas. There are eighteen skills divided evenly among the \n",
        "three schools of combat, magic, and stealth. When players have trained skills enough to meet the \n",
        "required experience, their character levels up. Health is depleted primarily when the player \n",
        "takes damage and the loss of all health results in death. Magicka is depleted by the use of spells, \n",
        "certain poisons and by being struck by lightning-based attacks. Stamina determines the player's \n",
        "effectiveness in combat and is depleted by sprinting, performing heavy \"power attacks\" \n",
        "and being struck by frost-based attacks. Skyrim is the first entry in The Elder Scrolls to \n",
        "include dragons in the game's wilderness. Like other creatures, dragons are generated randomly in \n",
        "the world and will engage in combat with NPCs, creatures and the player. Some dragons may attack \n",
        "cities and towns when in their proximity. The player character can absorb the souls of dragons \n",
        "in order to use powerful spells called \"dragon shouts\" or \"Thu'um\". A regeneration \n",
        "period limits the player's use of shouts in gameplay.\n",
        "\n",
        "Skyrim is set around 200 years after the events of The Elder Scrolls IV: Oblivion, although it is \n",
        "not a direct sequel. The game takes place in Skyrim, a province of the Empire on the continent of \n",
        "Tamriel, amid a civil war between two factions: the Stormcloaks, led by Ulfric Stormcloak, and the \n",
        "Imperial Legion, led by General Tullius. The player character is a Dragonborn, a mortal born with \n",
        "the soul and power of a dragon. Alduin, a large black dragon who returns to the land after being \n",
        "lost in time, serves as the game's primary antagonist. Alduin is the first dragon created by Akatosh, \n",
        "one of the series' gods, and is prophesied to destroy and consume the world.\n",
        "\"\"\""
      ],
      "metadata": {
        "id": "OD38M2Fj_dcL"
      },
      "execution_count": null,
      "outputs": []
    },
    {
      "cell_type": "code",
      "source": [
        "import re\n",
        "\n",
        "DOCUMENT = re.sub(r'\\n|\\r', ' ', DOCUMENT)\n",
        "DOCUMENT = re.sub(r' +', ' ', DOCUMENT)\n",
        "DOCUMENT = DOCUMENT.strip()"
      ],
      "metadata": {
        "id": "MwvT8X7N_g1k"
      },
      "execution_count": null,
      "outputs": []
    },
    {
      "cell_type": "markdown",
      "source": [
        "Gensim is a popular summarizer based on TextRank (https://aclanthology.org/W04-3252/)"
      ],
      "metadata": {
        "id": "_thGuSqg_n_k"
      }
    },
    {
      "cell_type": "code",
      "source": [
        "from gensim.summarization import summarize\n",
        "\n",
        "print(summarize(DOCUMENT, ratio=0.2, split=False))"
      ],
      "metadata": {
        "id": "DxgvXN3K_1B7",
        "colab": {
          "base_uri": "https://localhost:8080/"
        },
        "outputId": "53e433bd-3a5a-470e-8b50-bc05a6fcece2"
      },
      "execution_count": null,
      "outputs": [
        {
          "output_type": "stream",
          "name": "stdout",
          "text": [
            "The game's main story revolves around the player character's quest to defeat Alduin the World-Eater, a dragon who is prophesied to destroy the world.\n",
            "Over the course of the game, the player completes quests and develops the character by improving skills.\n",
            "The game continues the open-world tradition of its predecessors by allowing the player to travel anywhere in the game world at any time, and to ignore or postpone the main storyline indefinitely.\n",
            "The player may freely roam over the land of Skyrim which is an open world environment consisting of wilderness expanses, dungeons, cities, towns, fortresses, and villages.\n",
            "Each city and town in the game world has jobs that the player can engage in, such as farming.\n",
            "Over the course of the game, players improve their character's skills which are numerical representations of their ability in certain areas.\n",
            "Like other creatures, dragons are generated randomly in the world and will engage in combat with NPCs, creatures and the player.\n"
          ]
        }
      ]
    },
    {
      "cell_type": "code",
      "source": [
        "sentences = nltk.sent_tokenize(DOCUMENT)\n",
        "len(sentences)"
      ],
      "metadata": {
        "id": "zcfnpYvG_8i7",
        "colab": {
          "base_uri": "https://localhost:8080/"
        },
        "outputId": "c2943862-1b98-4468-d040-44242d74d076"
      },
      "execution_count": null,
      "outputs": [
        {
          "output_type": "execute_result",
          "data": {
            "text/plain": [
              "35"
            ]
          },
          "metadata": {},
          "execution_count": 6
        }
      ]
    },
    {
      "cell_type": "markdown",
      "source": [
        "TextRank uses the following process:\n",
        "\n",
        "![image.png](data:image/png;base64,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)"
      ],
      "metadata": {
        "id": "t_9GDY-9AN1z"
      }
    },
    {
      "cell_type": "markdown",
      "source": [
        "Tokenize and extract sentences from the document to be summarized.\n",
        "\n",
        "Decide on the number of sentences, k, that we want in the final summary\n",
        "\n",
        "Build a document-term feature matrix using weights like TF-IDF or Bag of Words.\n",
        "Compute a document similarity matrix by multiplying the matrix by its transpose.\n",
        "\n",
        "Use these documents (sentences in our case) as the vertices and the similarities between each pair of documents as the weight or score coefficient we talked about earlier and feed them to the PageRank algorithm.\n",
        "\n",
        "Get the score for each sentence.\n",
        "\n",
        "Rank the sentences based on score and return the top k sentences."
      ],
      "metadata": {
        "id": "dfMxt9_TAWMT"
      }
    },
    {
      "cell_type": "markdown",
      "source": [
        "Here under you can try these steps one by one: "
      ],
      "metadata": {
        "id": "A9r2WWfRAnTj"
      }
    },
    {
      "cell_type": "markdown",
      "source": [
        "##Basic Text Processing"
      ],
      "metadata": {
        "id": "2eoXdmtLAtKD"
      }
    },
    {
      "cell_type": "code",
      "source": [
        "import numpy as np\n",
        "\n",
        "stop_words = nltk.corpus.stopwords.words('english')\n",
        "\n",
        "def normalize_document(doc):\n",
        "    # lower case and remove special characters\\whitespaces\n",
        "    doc = re.sub(r'[^a-zA-Z\\s]', '', doc, re.I|re.A)\n",
        "    doc = doc.lower()\n",
        "    doc = doc.strip()\n",
        "    # tokenize document\n",
        "    tokens = nltk.word_tokenize(doc)\n",
        "    # filter stopwords out of document\n",
        "    filtered_tokens = [token for token in tokens if token not in stop_words]\n",
        "    # re-create document from filtered tokens\n",
        "    doc = ' '.join(filtered_tokens)\n",
        "    return doc\n",
        "\n",
        "normalize_corpus = np.vectorize(normalize_document)\n",
        "\n",
        "norm_sentences = normalize_corpus(sentences)\n",
        "norm_sentences[:3]"
      ],
      "metadata": {
        "id": "M8cv2ipGAvaO",
        "colab": {
          "base_uri": "https://localhost:8080/"
        },
        "outputId": "8d1ab727-61c3-4c1e-f5d9-f7e88a7221c9"
      },
      "execution_count": null,
      "outputs": [
        {
          "output_type": "execute_result",
          "data": {
            "text/plain": [
              "array(['elder scrolls v skyrim action roleplaying video game developed bethesda game studios published bethesda softworks',\n",
              "       'fifth main installment elder scrolls series following elder scrolls iv oblivion',\n",
              "       'games main story revolves around player characters quest defeat alduin worldeater dragon prophesied destroy world'],\n",
              "      dtype='<U183')"
            ]
          },
          "metadata": {},
          "execution_count": 7
        }
      ]
    },
    {
      "cell_type": "markdown",
      "source": [
        "## Text Representation with Feature Engineering\n",
        "\n",
        "We will be vectorizing our normalized sentences using the TF-IDF feature engineering scheme. We keep things simple and don’t filter out any words based on document frequency. But feel free to try that out and maybe even leverage n-grams as features."
      ],
      "metadata": {
        "id": "akBlxfKvAyuj"
      }
    },
    {
      "cell_type": "code",
      "source": [
        "from sklearn.feature_extraction.text import TfidfVectorizer\n",
        "import pandas as pd\n",
        "\n",
        "tv = TfidfVectorizer(min_df=0., max_df=1., use_idf=True)\n",
        "dt_matrix = tv.fit_transform(norm_sentences)\n",
        "dt_matrix = dt_matrix.toarray()\n",
        "\n",
        "vocab = tv.get_feature_names()\n",
        "td_matrix = dt_matrix.T\n",
        "print(td_matrix.shape)\n",
        "pd.DataFrame(np.round(td_matrix, 2), index=vocab).head(10)"
      ],
      "metadata": {
        "id": "x6VLcxaCA02j",
        "colab": {
          "base_uri": "https://localhost:8080/",
          "height": 464
        },
        "outputId": "3350f642-d708-44d4-ce7f-8d0e9129eb8f"
      },
      "execution_count": null,
      "outputs": [
        {
          "output_type": "stream",
          "name": "stdout",
          "text": [
            "(270, 35)\n"
          ]
        },
        {
          "output_type": "stream",
          "name": "stderr",
          "text": [
            "/usr/local/lib/python3.7/dist-packages/sklearn/utils/deprecation.py:87: FutureWarning: Function get_feature_names is deprecated; get_feature_names is deprecated in 1.0 and will be removed in 1.2. Please use get_feature_names_out instead.\n",
            "  warnings.warn(msg, category=FutureWarning)\n"
          ]
        },
        {
          "output_type": "execute_result",
          "data": {
            "text/plain": [
              "               0    1     2    3    4     5    6     7     8    9   ...   25  \\\n",
              "ability      0.00  0.0  0.00  0.0  0.0  0.00  0.0  0.00  0.00  0.0  ...  0.0   \n",
              "absorb       0.00  0.0  0.00  0.0  0.0  0.00  0.0  0.00  0.00  0.0  ...  0.0   \n",
              "acclaim      0.00  0.0  0.00  0.0  0.0  0.00  0.0  0.28  0.00  0.0  ...  0.0   \n",
              "action       0.25  0.0  0.00  0.0  0.0  0.00  0.0  0.00  0.32  0.0  ...  0.0   \n",
              "advancement  0.00  0.0  0.00  0.0  0.0  0.00  0.0  0.28  0.00  0.0  ...  0.0   \n",
              "akatosh      0.00  0.0  0.00  0.0  0.0  0.00  0.0  0.00  0.00  0.0  ...  0.0   \n",
              "alduin       0.00  0.0  0.25  0.0  0.0  0.00  0.0  0.00  0.00  0.0  ...  0.0   \n",
              "allowing     0.00  0.0  0.00  0.0  0.0  0.27  0.0  0.00  0.00  0.0  ...  0.0   \n",
              "allows       0.00  0.0  0.00  0.0  0.0  0.00  0.0  0.00  0.00  0.0  ...  0.0   \n",
              "although     0.00  0.0  0.00  0.0  0.0  0.00  0.0  0.00  0.00  0.0  ...  0.0   \n",
              "\n",
              "              26   27    28   29    30   31   32    33    34  \n",
              "ability      0.0  0.0  0.00  0.0  0.00  0.0  0.0  0.00  0.00  \n",
              "absorb       0.0  0.0  0.31  0.0  0.00  0.0  0.0  0.00  0.00  \n",
              "acclaim      0.0  0.0  0.00  0.0  0.00  0.0  0.0  0.00  0.00  \n",
              "action       0.0  0.0  0.00  0.0  0.00  0.0  0.0  0.00  0.00  \n",
              "advancement  0.0  0.0  0.00  0.0  0.00  0.0  0.0  0.00  0.00  \n",
              "akatosh      0.0  0.0  0.00  0.0  0.00  0.0  0.0  0.00  0.33  \n",
              "alduin       0.0  0.0  0.00  0.0  0.00  0.0  0.0  0.26  0.27  \n",
              "allowing     0.0  0.0  0.00  0.0  0.00  0.0  0.0  0.00  0.00  \n",
              "allows       0.0  0.0  0.00  0.0  0.00  0.0  0.0  0.00  0.00  \n",
              "although     0.0  0.0  0.00  0.0  0.33  0.0  0.0  0.00  0.00  \n",
              "\n",
              "[10 rows x 35 columns]"
            ],
            "text/html": [
              "\n",
              "  <div id=\"df-23844951-66c4-4149-bc63-99ba04ca5297\">\n",
              "    <div class=\"colab-df-container\">\n",
              "      <div>\n",
              "<style scoped>\n",
              "    .dataframe tbody tr th:only-of-type {\n",
              "        vertical-align: middle;\n",
              "    }\n",
              "\n",
              "    .dataframe tbody tr th {\n",
              "        vertical-align: top;\n",
              "    }\n",
              "\n",
              "    .dataframe thead th {\n",
              "        text-align: right;\n",
              "    }\n",
              "</style>\n",
              "<table border=\"1\" class=\"dataframe\">\n",
              "  <thead>\n",
              "    <tr style=\"text-align: right;\">\n",
              "      <th></th>\n",
              "      <th>0</th>\n",
              "      <th>1</th>\n",
              "      <th>2</th>\n",
              "      <th>3</th>\n",
              "      <th>4</th>\n",
              "      <th>5</th>\n",
              "      <th>6</th>\n",
              "      <th>7</th>\n",
              "      <th>8</th>\n",
              "      <th>9</th>\n",
              "      <th>...</th>\n",
              "      <th>25</th>\n",
              "      <th>26</th>\n",
              "      <th>27</th>\n",
              "      <th>28</th>\n",
              "      <th>29</th>\n",
              "      <th>30</th>\n",
              "      <th>31</th>\n",
              "      <th>32</th>\n",
              "      <th>33</th>\n",
              "      <th>34</th>\n",
              "    </tr>\n",
              "  </thead>\n",
              "  <tbody>\n",
              "    <tr>\n",
              "      <th>ability</th>\n",
              "      <td>0.00</td>\n",
              "      <td>0.0</td>\n",
              "      <td>0.00</td>\n",
              "      <td>0.0</td>\n",
              "      <td>0.0</td>\n",
              "      <td>0.00</td>\n",
              "      <td>0.0</td>\n",
              "      <td>0.00</td>\n",
              "      <td>0.00</td>\n",
              "      <td>0.0</td>\n",
              "      <td>...</td>\n",
              "      <td>0.0</td>\n",
              "      <td>0.0</td>\n",
              "      <td>0.0</td>\n",
              "      <td>0.00</td>\n",
              "      <td>0.0</td>\n",
              "      <td>0.00</td>\n",
              "      <td>0.0</td>\n",
              "      <td>0.0</td>\n",
              "      <td>0.00</td>\n",
              "      <td>0.00</td>\n",
              "    </tr>\n",
              "    <tr>\n",
              "      <th>absorb</th>\n",
              "      <td>0.00</td>\n",
              "      <td>0.0</td>\n",
              "      <td>0.00</td>\n",
              "      <td>0.0</td>\n",
              "      <td>0.0</td>\n",
              "      <td>0.00</td>\n",
              "      <td>0.0</td>\n",
              "      <td>0.00</td>\n",
              "      <td>0.00</td>\n",
              "      <td>0.0</td>\n",
              "      <td>...</td>\n",
              "      <td>0.0</td>\n",
              "      <td>0.0</td>\n",
              "      <td>0.0</td>\n",
              "      <td>0.31</td>\n",
              "      <td>0.0</td>\n",
              "      <td>0.00</td>\n",
              "      <td>0.0</td>\n",
              "      <td>0.0</td>\n",
              "      <td>0.00</td>\n",
              "      <td>0.00</td>\n",
              "    </tr>\n",
              "    <tr>\n",
              "      <th>acclaim</th>\n",
              "      <td>0.00</td>\n",
              "      <td>0.0</td>\n",
              "      <td>0.00</td>\n",
              "      <td>0.0</td>\n",
              "      <td>0.0</td>\n",
              "      <td>0.00</td>\n",
              "      <td>0.0</td>\n",
              "      <td>0.28</td>\n",
              "      <td>0.00</td>\n",
              "      <td>0.0</td>\n",
              "      <td>...</td>\n",
              "      <td>0.0</td>\n",
              "      <td>0.0</td>\n",
              "      <td>0.0</td>\n",
              "      <td>0.00</td>\n",
              "      <td>0.0</td>\n",
              "      <td>0.00</td>\n",
              "      <td>0.0</td>\n",
              "      <td>0.0</td>\n",
              "      <td>0.00</td>\n",
              "      <td>0.00</td>\n",
              "    </tr>\n",
              "    <tr>\n",
              "      <th>action</th>\n",
              "      <td>0.25</td>\n",
              "      <td>0.0</td>\n",
              "      <td>0.00</td>\n",
              "      <td>0.0</td>\n",
              "      <td>0.0</td>\n",
              "      <td>0.00</td>\n",
              "      <td>0.0</td>\n",
              "      <td>0.00</td>\n",
              "      <td>0.32</td>\n",
              "      <td>0.0</td>\n",
              "      <td>...</td>\n",
              "      <td>0.0</td>\n",
              "      <td>0.0</td>\n",
              "      <td>0.0</td>\n",
              "      <td>0.00</td>\n",
              "      <td>0.0</td>\n",
              "      <td>0.00</td>\n",
              "      <td>0.0</td>\n",
              "      <td>0.0</td>\n",
              "      <td>0.00</td>\n",
              "      <td>0.00</td>\n",
              "    </tr>\n",
              "    <tr>\n",
              "      <th>advancement</th>\n",
              "      <td>0.00</td>\n",
              "      <td>0.0</td>\n",
              "      <td>0.00</td>\n",
              "      <td>0.0</td>\n",
              "      <td>0.0</td>\n",
              "      <td>0.00</td>\n",
              "      <td>0.0</td>\n",
              "      <td>0.28</td>\n",
              "      <td>0.00</td>\n",
              "      <td>0.0</td>\n",
              "      <td>...</td>\n",
              "      <td>0.0</td>\n",
              "      <td>0.0</td>\n",
              "      <td>0.0</td>\n",
              "      <td>0.00</td>\n",
              "      <td>0.0</td>\n",
              "      <td>0.00</td>\n",
              "      <td>0.0</td>\n",
              "      <td>0.0</td>\n",
              "      <td>0.00</td>\n",
              "      <td>0.00</td>\n",
              "    </tr>\n",
              "    <tr>\n",
              "      <th>akatosh</th>\n",
              "      <td>0.00</td>\n",
              "      <td>0.0</td>\n",
              "      <td>0.00</td>\n",
              "      <td>0.0</td>\n",
              "      <td>0.0</td>\n",
              "      <td>0.00</td>\n",
              "      <td>0.0</td>\n",
              "      <td>0.00</td>\n",
              "      <td>0.00</td>\n",
              "      <td>0.0</td>\n",
              "      <td>...</td>\n",
              "      <td>0.0</td>\n",
              "      <td>0.0</td>\n",
              "      <td>0.0</td>\n",
              "      <td>0.00</td>\n",
              "      <td>0.0</td>\n",
              "      <td>0.00</td>\n",
              "      <td>0.0</td>\n",
              "      <td>0.0</td>\n",
              "      <td>0.00</td>\n",
              "      <td>0.33</td>\n",
              "    </tr>\n",
              "    <tr>\n",
              "      <th>alduin</th>\n",
              "      <td>0.00</td>\n",
              "      <td>0.0</td>\n",
              "      <td>0.25</td>\n",
              "      <td>0.0</td>\n",
              "      <td>0.0</td>\n",
              "      <td>0.00</td>\n",
              "      <td>0.0</td>\n",
              "      <td>0.00</td>\n",
              "      <td>0.00</td>\n",
              "      <td>0.0</td>\n",
              "      <td>...</td>\n",
              "      <td>0.0</td>\n",
              "      <td>0.0</td>\n",
              "      <td>0.0</td>\n",
              "      <td>0.00</td>\n",
              "      <td>0.0</td>\n",
              "      <td>0.00</td>\n",
              "      <td>0.0</td>\n",
              "      <td>0.0</td>\n",
              "      <td>0.26</td>\n",
              "      <td>0.27</td>\n",
              "    </tr>\n",
              "    <tr>\n",
              "      <th>allowing</th>\n",
              "      <td>0.00</td>\n",
              "      <td>0.0</td>\n",
              "      <td>0.00</td>\n",
              "      <td>0.0</td>\n",
              "      <td>0.0</td>\n",
              "      <td>0.27</td>\n",
              "      <td>0.0</td>\n",
              "      <td>0.00</td>\n",
              "      <td>0.00</td>\n",
              "      <td>0.0</td>\n",
              "      <td>...</td>\n",
              "      <td>0.0</td>\n",
              "      <td>0.0</td>\n",
              "      <td>0.0</td>\n",
              "      <td>0.00</td>\n",
              "      <td>0.0</td>\n",
              "      <td>0.00</td>\n",
              "      <td>0.0</td>\n",
              "      <td>0.0</td>\n",
              "      <td>0.00</td>\n",
              "      <td>0.00</td>\n",
              "    </tr>\n",
              "    <tr>\n",
              "      <th>allows</th>\n",
              "      <td>0.00</td>\n",
              "      <td>0.0</td>\n",
              "      <td>0.00</td>\n",
              "      <td>0.0</td>\n",
              "      <td>0.0</td>\n",
              "      <td>0.00</td>\n",
              "      <td>0.0</td>\n",
              "      <td>0.00</td>\n",
              "      <td>0.00</td>\n",
              "      <td>0.0</td>\n",
              "      <td>...</td>\n",
              "      <td>0.0</td>\n",
              "      <td>0.0</td>\n",
              "      <td>0.0</td>\n",
              "      <td>0.00</td>\n",
              "      <td>0.0</td>\n",
              "      <td>0.00</td>\n",
              "      <td>0.0</td>\n",
              "      <td>0.0</td>\n",
              "      <td>0.00</td>\n",
              "      <td>0.00</td>\n",
              "    </tr>\n",
              "    <tr>\n",
              "      <th>although</th>\n",
              "      <td>0.00</td>\n",
              "      <td>0.0</td>\n",
              "      <td>0.00</td>\n",
              "      <td>0.0</td>\n",
              "      <td>0.0</td>\n",
              "      <td>0.00</td>\n",
              "      <td>0.0</td>\n",
              "      <td>0.00</td>\n",
              "      <td>0.00</td>\n",
              "      <td>0.0</td>\n",
              "      <td>...</td>\n",
              "      <td>0.0</td>\n",
              "      <td>0.0</td>\n",
              "      <td>0.0</td>\n",
              "      <td>0.00</td>\n",
              "      <td>0.0</td>\n",
              "      <td>0.33</td>\n",
              "      <td>0.0</td>\n",
              "      <td>0.0</td>\n",
              "      <td>0.00</td>\n",
              "      <td>0.00</td>\n",
              "    </tr>\n",
              "  </tbody>\n",
              "</table>\n",
              "<p>10 rows × 35 columns</p>\n",
              "</div>\n",
              "      <button class=\"colab-df-convert\" onclick=\"convertToInteractive('df-23844951-66c4-4149-bc63-99ba04ca5297')\"\n",
              "              title=\"Convert this dataframe to an interactive table.\"\n",
              "              style=\"display:none;\">\n",
              "        \n",
              "  <svg xmlns=\"http://www.w3.org/2000/svg\" height=\"24px\"viewBox=\"0 0 24 24\"\n",
              "       width=\"24px\">\n",
              "    <path d=\"M0 0h24v24H0V0z\" fill=\"none\"/>\n",
              "    <path d=\"M18.56 5.44l.94 2.06.94-2.06 2.06-.94-2.06-.94-.94-2.06-.94 2.06-2.06.94zm-11 1L8.5 8.5l.94-2.06 2.06-.94-2.06-.94L8.5 2.5l-.94 2.06-2.06.94zm10 10l.94 2.06.94-2.06 2.06-.94-2.06-.94-.94-2.06-.94 2.06-2.06.94z\"/><path d=\"M17.41 7.96l-1.37-1.37c-.4-.4-.92-.59-1.43-.59-.52 0-1.04.2-1.43.59L10.3 9.45l-7.72 7.72c-.78.78-.78 2.05 0 2.83L4 21.41c.39.39.9.59 1.41.59.51 0 1.02-.2 1.41-.59l7.78-7.78 2.81-2.81c.8-.78.8-2.07 0-2.86zM5.41 20L4 18.59l7.72-7.72 1.47 1.35L5.41 20z\"/>\n",
              "  </svg>\n",
              "      </button>\n",
              "      \n",
              "  <style>\n",
              "    .colab-df-container {\n",
              "      display:flex;\n",
              "      flex-wrap:wrap;\n",
              "      gap: 12px;\n",
              "    }\n",
              "\n",
              "    .colab-df-convert {\n",
              "      background-color: #E8F0FE;\n",
              "      border: none;\n",
              "      border-radius: 50%;\n",
              "      cursor: pointer;\n",
              "      display: none;\n",
              "      fill: #1967D2;\n",
              "      height: 32px;\n",
              "      padding: 0 0 0 0;\n",
              "      width: 32px;\n",
              "    }\n",
              "\n",
              "    .colab-df-convert:hover {\n",
              "      background-color: #E2EBFA;\n",
              "      box-shadow: 0px 1px 2px rgba(60, 64, 67, 0.3), 0px 1px 3px 1px rgba(60, 64, 67, 0.15);\n",
              "      fill: #174EA6;\n",
              "    }\n",
              "\n",
              "    [theme=dark] .colab-df-convert {\n",
              "      background-color: #3B4455;\n",
              "      fill: #D2E3FC;\n",
              "    }\n",
              "\n",
              "    [theme=dark] .colab-df-convert:hover {\n",
              "      background-color: #434B5C;\n",
              "      box-shadow: 0px 1px 3px 1px rgba(0, 0, 0, 0.15);\n",
              "      filter: drop-shadow(0px 1px 2px rgba(0, 0, 0, 0.3));\n",
              "      fill: #FFFFFF;\n",
              "    }\n",
              "  </style>\n",
              "\n",
              "      <script>\n",
              "        const buttonEl =\n",
              "          document.querySelector('#df-23844951-66c4-4149-bc63-99ba04ca5297 button.colab-df-convert');\n",
              "        buttonEl.style.display =\n",
              "          google.colab.kernel.accessAllowed ? 'block' : 'none';\n",
              "\n",
              "        async function convertToInteractive(key) {\n",
              "          const element = document.querySelector('#df-23844951-66c4-4149-bc63-99ba04ca5297');\n",
              "          const dataTable =\n",
              "            await google.colab.kernel.invokeFunction('convertToInteractive',\n",
              "                                                     [key], {});\n",
              "          if (!dataTable) return;\n",
              "\n",
              "          const docLinkHtml = 'Like what you see? Visit the ' +\n",
              "            '<a target=\"_blank\" href=https://colab.research.google.com/notebooks/data_table.ipynb>data table notebook</a>'\n",
              "            + ' to learn more about interactive tables.';\n",
              "          element.innerHTML = '';\n",
              "          dataTable['output_type'] = 'display_data';\n",
              "          await google.colab.output.renderOutput(dataTable, element);\n",
              "          const docLink = document.createElement('div');\n",
              "          docLink.innerHTML = docLinkHtml;\n",
              "          element.appendChild(docLink);\n",
              "        }\n",
              "      </script>\n",
              "    </div>\n",
              "  </div>\n",
              "  "
            ]
          },
          "metadata": {},
          "execution_count": 8
        }
      ]
    },
    {
      "cell_type": "markdown",
      "source": [
        "## Latent Semantic Analysis\n",
        "Here, we summarize our game description by utilizing document sentences. The terms in each sentence of the document have been extracted to form the term-document matrix, which we observed in the previous cell.\n",
        "\n",
        "We apply low-rank Singular Value Decomposition to this matrix. The core principle behind Latent Semantic Analysis (LSA) is that in any document, there exists a latent structure among terms that are related contextually and hence should also be correlated in the same singular space.\n",
        "\n",
        "The main idea in our implementation is to use SVD (recall M = USVT) so that U and V are the orthogonal matrices and S is the diagonal matrix, which can also be represented as a vector of the singular values.\n",
        "\n",
        "The original matrix can be represented as a term-document matrix where the rows are terms and each column is a document, i.e., a sentence from our document in this case. The values can be any type of weighting like Bag of Words model-based frequencies, TF-IDFs, or binary occurrences.\n",
        "\n",
        "![image.png](data:image/png;base64,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)\n",
        "\n"
      ],
      "metadata": {
        "id": "vsgPeCWbA5iK"
      }
    },
    {
      "cell_type": "code",
      "source": [
        "from scipy.sparse.linalg import svds\n",
        "    \n",
        "def low_rank_svd(matrix, singular_count=2):\n",
        "    u, s, vt = svds(matrix, k=singular_count)\n",
        "    return u, s, vt"
      ],
      "metadata": {
        "id": "QqIEOltuBDRr"
      },
      "execution_count": null,
      "outputs": []
    },
    {
      "cell_type": "code",
      "source": [
        "num_sentences = 8\n",
        "num_topics = 3\n",
        "\n",
        "u, s, vt = low_rank_svd(td_matrix, singular_count=num_topics)  \n",
        "print(u.shape, s.shape, vt.shape)\n",
        "term_topic_mat, singular_values, topic_document_mat = u, s, vt"
      ],
      "metadata": {
        "id": "2m4gZN7iBFu7",
        "colab": {
          "base_uri": "https://localhost:8080/"
        },
        "outputId": "60f70a42-0166-45d7-8523-41dacec5371f"
      },
      "execution_count": null,
      "outputs": [
        {
          "output_type": "stream",
          "name": "stdout",
          "text": [
            "(270, 3) (3,) (3, 35)\n"
          ]
        }
      ]
    },
    {
      "cell_type": "code",
      "source": [
        "# remove singular values below threshold                                         \n",
        "sv_threshold = 0.5\n",
        "min_sigma_value = max(singular_values) * sv_threshold\n",
        "singular_values[singular_values < min_sigma_value] = 0"
      ],
      "metadata": {
        "id": "kM6b9HTwBSU7"
      },
      "execution_count": null,
      "outputs": []
    },
    {
      "cell_type": "code",
      "source": [
        "salience_scores = np.sqrt(np.dot(np.square(singular_values), \n",
        "                                 np.square(topic_document_mat)))\n",
        "salience_scores"
      ],
      "metadata": {
        "id": "JPupQMNtBUnj",
        "colab": {
          "base_uri": "https://localhost:8080/"
        },
        "outputId": "4d5db3be-057a-4436-ad97-b1c5ac31eb35"
      },
      "execution_count": null,
      "outputs": [
        {
          "output_type": "execute_result",
          "data": {
            "text/plain": [
              "array([0.53291263, 0.61639562, 0.60427539, 0.52307109, 0.50141128,\n",
              "       0.32352969, 0.1506046 , 0.25383436, 0.60567083, 0.35902104,\n",
              "       0.22562997, 0.34608934, 0.15781555, 0.40522541, 0.24505982,\n",
              "       0.19874104, 0.39317895, 0.45392878, 0.31638528, 0.47353378,\n",
              "       0.18348908, 0.45731421, 0.13929749, 0.38932101, 0.36829067,\n",
              "       0.57822992, 0.40853736, 0.26260062, 0.38904585, 0.32776714,\n",
              "       0.67662776, 0.21866561, 0.34687796, 0.3234621 , 0.46107093])"
            ]
          },
          "metadata": {},
          "execution_count": 12
        }
      ]
    },
    {
      "cell_type": "code",
      "source": [
        "top_sentence_indices = (-salience_scores).argsort()[:num_sentences]\n",
        "top_sentence_indices.sort()"
      ],
      "metadata": {
        "id": "KoFooD3tBWak"
      },
      "execution_count": null,
      "outputs": []
    },
    {
      "cell_type": "code",
      "source": [
        "print('\\n'.join(np.array(sentences)[top_sentence_indices]))"
      ],
      "metadata": {
        "id": "EC40YgfhBYhz",
        "colab": {
          "base_uri": "https://localhost:8080/"
        },
        "outputId": "f95b6f1d-1aae-426c-ff78-9605825dfc20"
      },
      "execution_count": null,
      "outputs": [
        {
          "output_type": "stream",
          "name": "stdout",
          "text": [
            "The Elder Scrolls V: Skyrim is an action role-playing video game developed by Bethesda Game Studios and published by Bethesda Softworks.\n",
            "It is the fifth main installment in The Elder Scrolls series, following The Elder Scrolls IV: Oblivion.\n",
            "The game's main story revolves around the player character's quest to defeat Alduin the World-Eater, a dragon who is prophesied to destroy the world.\n",
            "The game is set 200 years after the events of Oblivion and takes place in the fictional province of Skyrim.\n",
            "Over the course of the game, the player completes quests and develops the character by improving skills.\n",
            "The Elder Scrolls V: Skyrim is an action role-playing game, playable from either a first or third-person perspective.\n",
            "Skyrim is the first entry in The Elder Scrolls to include dragons in the game's wilderness.\n",
            "Skyrim is set around 200 years after the events of The Elder Scrolls IV: Oblivion, although it is not a direct sequel.\n"
          ]
        }
      ]
    },
    {
      "cell_type": "markdown",
      "source": [
        "## Build Similarity Matrix"
      ],
      "metadata": {
        "id": "DQAPees7BhW0"
      }
    },
    {
      "cell_type": "code",
      "source": [
        "similarity_matrix = np.matmul(dt_matrix, dt_matrix.T)\n",
        "print(similarity_matrix.shape)\n",
        "np.round(similarity_matrix, 3)"
      ],
      "metadata": {
        "id": "4EK9zbpkBlSD",
        "colab": {
          "base_uri": "https://localhost:8080/"
        },
        "outputId": "b38281f2-1918-4186-8d54-3ce49c54990f"
      },
      "execution_count": null,
      "outputs": [
        {
          "output_type": "stream",
          "name": "stdout",
          "text": [
            "(35, 35)\n"
          ]
        },
        {
          "output_type": "execute_result",
          "data": {
            "text/plain": [
              "array([[1.   , 0.182, 0.   , ..., 0.   , 0.   , 0.   ],\n",
              "       [0.182, 1.   , 0.05 , ..., 0.   , 0.   , 0.084],\n",
              "       [0.   , 0.05 , 1.   , ..., 0.101, 0.165, 0.319],\n",
              "       ...,\n",
              "       [0.   , 0.   , 0.101, ..., 1.   , 0.066, 0.069],\n",
              "       [0.   , 0.   , 0.165, ..., 0.066, 1.   , 0.123],\n",
              "       [0.   , 0.084, 0.319, ..., 0.069, 0.123, 1.   ]])"
            ]
          },
          "metadata": {},
          "execution_count": 15
        }
      ]
    },
    {
      "cell_type": "markdown",
      "source": [
        "## Build Similarity Graph\n"
      ],
      "metadata": {
        "id": "2jhttxHjBodj"
      }
    },
    {
      "cell_type": "code",
      "source": [
        "import networkx\n",
        "\n",
        "similarity_graph = networkx.from_numpy_array(similarity_matrix)\n",
        "similarity_graph"
      ],
      "metadata": {
        "id": "Dsmso520ByBD",
        "colab": {
          "base_uri": "https://localhost:8080/"
        },
        "outputId": "639d6730-32e6-4760-9533-03bc0d9dd5a9"
      },
      "execution_count": null,
      "outputs": [
        {
          "output_type": "execute_result",
          "data": {
            "text/plain": [
              "<networkx.classes.graph.Graph at 0x7fe62d7ca650>"
            ]
          },
          "metadata": {},
          "execution_count": 16
        }
      ]
    },
    {
      "cell_type": "code",
      "source": [
        "import matplotlib.pyplot as plt\n",
        "%matplotlib inline\n",
        "\n",
        "plt.figure(figsize=(12, 6))\n",
        "networkx.draw_networkx(similarity_graph, node_color='lime')"
      ],
      "metadata": {
        "id": "pVcj4z4vB11T",
        "colab": {
          "base_uri": "https://localhost:8080/",
          "height": 357
        },
        "outputId": "b6adb164-c13f-476c-e806-e78f7f1ca261"
      },
      "execution_count": null,
      "outputs": [
        {
          "output_type": "display_data",
          "data": {
            "text/plain": [
              "<Figure size 864x432 with 1 Axes>"
            ],
            "image/png": "[encoded data removed]"
          },
          "metadata": {}
        }
      ]
    },
    {
      "cell_type": "markdown",
      "source": [
        "## Now Find the most important Sentences"
      ],
      "metadata": {
        "id": "99NUzOWHB4YO"
      }
    },
    {
      "cell_type": "code",
      "source": [
        "scores = networkx.pagerank(similarity_graph)\n",
        "ranked_sentences = sorted(((score, index) for index, score \n",
        "                                            in scores.items()), \n",
        "                          reverse=True)\n",
        "ranked_sentences[:10]"
      ],
      "metadata": {
        "id": "oTRX-8ukB7zM",
        "colab": {
          "base_uri": "https://localhost:8080/"
        },
        "outputId": "ae85bd0b-688a-436d-ae7f-ffe90a1d0b2d"
      },
      "execution_count": null,
      "outputs": [
        {
          "output_type": "execute_result",
          "data": {
            "text/plain": [
              "[(0.037297049797214744, 2),\n",
              " (0.034908435475375886, 25),\n",
              " (0.03460086870923607, 4),\n",
              " (0.03240744530656925, 8),\n",
              " (0.03218748996523769, 28),\n",
              " (0.031836734268801445, 11),\n",
              " (0.031566658693076226, 26),\n",
              " (0.03150616293402057, 3),\n",
              " (0.031376143577383796, 5),\n",
              " (0.031123481531894214, 16)]"
            ]
          },
          "metadata": {},
          "execution_count": 18
        }
      ]
    },
    {
      "cell_type": "code",
      "source": [
        "top_sentence_indices = [ranked_sentences[index][1] \n",
        "                        for index in range(num_sentences)]\n",
        "top_sentence_indices.sort()"
      ],
      "metadata": {
        "id": "nkg7WVIDB-ci"
      },
      "execution_count": null,
      "outputs": []
    },
    {
      "cell_type": "code",
      "source": [
        "print('\\n'.join(np.array(sentences)[top_sentence_indices]))"
      ],
      "metadata": {
        "id": "zl1y5mlRCAS7",
        "colab": {
          "base_uri": "https://localhost:8080/"
        },
        "outputId": "1ae6a35b-4cc9-4c7b-ae5a-b40a561f928e"
      },
      "execution_count": null,
      "outputs": [
        {
          "output_type": "stream",
          "name": "stdout",
          "text": [
            "The game's main story revolves around the player character's quest to defeat Alduin the World-Eater, a dragon who is prophesied to destroy the world.\n",
            "The game is set 200 years after the events of Oblivion and takes place in the fictional province of Skyrim.\n",
            "Over the course of the game, the player completes quests and develops the character by improving skills.\n",
            "The Elder Scrolls V: Skyrim is an action role-playing game, playable from either a first or third-person perspective.\n",
            "The game's main quest can be completed or ignored at the player's preference after the first stage of the quest is finished.\n",
            "Skyrim is the first entry in The Elder Scrolls to include dragons in the game's wilderness.\n",
            "Like other creatures, dragons are generated randomly in the world and will engage in combat with NPCs, creatures and the player.\n",
            "The player character can absorb the souls of dragons in order to use powerful spells called \"dragon shouts\" or \"Thu'um\".\n"
          ]
        }
      ]
    },
    {
      "cell_type": "markdown",
      "source": [
        "And \"voila\": the same summary as above!"
      ],
      "metadata": {
        "id": "dFH1Mq-lBZwb"
      }
    },
    {
      "cell_type": "markdown",
      "source": [
        "## Exercise 1:\n",
        "\n",
        "a) What are the limitations of Extractive Summarization that you experience?\n",
        "\n",
        "b) How could you address these?"
      ],
      "metadata": {
        "id": "qufVPVFi9v3y"
      }
    },
    {
      "cell_type": "markdown",
      "source": [
        "ANSWER HERE\n",
        "a)Extractive Summarization does not present the meaning of the document.It just takes the most important sentences and combine them.As a result a lot of information is lost. We observe that Extractive Summarization is unable to predict the summary clearly and repeating the same words.('game')\n",
        "\n",
        "b) BERT can be used to boost the performance of extractive summarization and fine-tuning it with summarization Layers.We can assume extractive summarization as the task of binary classification assigning a label to each sentence whether the sentence should be included in the summary or not.\n",
        "After obtaining the sentence vectors from BERT,\n",
        "we build several summarization-specific layers\n",
        "stacked on top of the BERT outputs, to capture\n",
        "document-level features for extracting summaries."
      ],
      "metadata": {
        "id": "vd1Nj0fmWzGg"
      }
    },
    {
      "cell_type": "markdown",
      "source": [
        "# Abstractive Summarization\n",
        "\n",
        "Abstractive text summarization generates real sentences from the entirety of the text provided. It rewrites large amounts of text by creating acceptable representations, which is further processed and summarized by natural language processing.\n",
        "\n",
        "This method uses a statitical or large (deep learning) language model to generate such sentences. \n",
        "\n",
        "It generates new sentences from the original text in the abstractive summarization approach. So, sentences generated through this abstractive summarization might not even be present in the original text."
      ],
      "metadata": {
        "id": "ZBcbIZ216vNy"
      }
    },
    {
      "cell_type": "markdown",
      "source": [
        "Here is a short tutorial based on a script from HugginFace. "
      ],
      "metadata": {
        "id": "cl_GEc0SDpwG"
      }
    },
    {
      "cell_type": "markdown",
      "metadata": {
        "id": "TpgaHGs3slM9"
      },
      "source": [
        "Let's start with installing PyTorch"
      ]
    },
    {
      "cell_type": "code",
      "metadata": {
        "id": "Gz1_zgEPq60w",
        "colab": {
          "base_uri": "https://localhost:8080/"
        },
        "outputId": "885da160-7e8c-4365-8ade-d53dee319ac1"
      },
      "source": [
        "!pip3 install torch==1.8.2+cu102 torchvision==0.9.2+cu102 torchaudio==0.8.2 -f https://download.pytorch.org/whl/lts/1.8/torch_lts.html"
      ],
      "execution_count": null,
      "outputs": [
        {
          "output_type": "stream",
          "name": "stdout",
          "text": [
            "Looking in indexes: https://pypi.org/simple, https://us-python.pkg.dev/colab-wheels/public/simple/\n",
            "Looking in links: https://download.pytorch.org/whl/lts/1.8/torch_lts.html\n",
            "Collecting torch==1.8.2+cu102\n",
            "  Downloading https://download.pytorch.org/whl/lts/1.8/cu102/torch-1.8.2%2Bcu102-cp37-cp37m-linux_x86_64.whl (804.1 MB)\n",
            "\u001b[K     |████████████████████████████████| 804.1 MB 8.5 kB/s \n",
            "\u001b[?25hCollecting torchvision==0.9.2+cu102\n",
            "  Downloading https://download.pytorch.org/whl/lts/1.8/cu102/torchvision-0.9.2%2Bcu102-cp37-cp37m-linux_x86_64.whl (17.3 MB)\n",
            "\u001b[K     |████████████████████████████████| 17.3 MB 251 kB/s \n",
            "\u001b[?25hCollecting torchaudio==0.8.2\n",
            "  Downloading https://download.pytorch.org/whl/lts/1.8/torchaudio-0.8.2-cp37-cp37m-linux_x86_64.whl (1.9 MB)\n",
            "\u001b[K     |████████████████████████████████| 1.9 MB 56.7 MB/s \n",
            "\u001b[?25hRequirement already satisfied: typing-extensions in /usr/local/lib/python3.7/dist-packages (from torch==1.8.2+cu102) (4.1.1)\n",
            "Requirement already satisfied: numpy in /usr/local/lib/python3.7/dist-packages (from torch==1.8.2+cu102) (1.21.6)\n",
            "Requirement already satisfied: pillow>=4.1.1 in /usr/local/lib/python3.7/dist-packages (from torchvision==0.9.2+cu102) (7.1.2)\n",
            "Installing collected packages: torch, torchvision, torchaudio\n",
            "  Attempting uninstall: torch\n",
            "    Found existing installation: torch 1.12.1+cu113\n",
            "    Uninstalling torch-1.12.1+cu113:\n",
            "      Successfully uninstalled torch-1.12.1+cu113\n",
            "  Attempting uninstall: torchvision\n",
            "    Found existing installation: torchvision 0.13.1+cu113\n",
            "    Uninstalling torchvision-0.13.1+cu113:\n",
            "      Successfully uninstalled torchvision-0.13.1+cu113\n",
            "  Attempting uninstall: torchaudio\n",
            "    Found existing installation: torchaudio 0.12.1+cu113\n",
            "    Uninstalling torchaudio-0.12.1+cu113:\n",
            "      Successfully uninstalled torchaudio-0.12.1+cu113\n",
            "\u001b[31mERROR: pip's dependency resolver does not currently take into account all the packages that are installed. This behaviour is the source of the following dependency conflicts.\n",
            "torchtext 0.13.1 requires torch==1.12.1, but you have torch 1.8.2+cu102 which is incompatible.\u001b[0m\n",
            "Successfully installed torch-1.8.2+cu102 torchaudio-0.8.2 torchvision-0.9.2+cu102\n"
          ]
        }
      ]
    },
    {
      "cell_type": "markdown",
      "metadata": {
        "id": "vDZpKzjRspxA"
      },
      "source": [
        "Our next dependency is HuggingFace transformers"
      ]
    },
    {
      "cell_type": "code",
      "metadata": {
        "id": "bG1sA-SFsuYP",
        "colab": {
          "base_uri": "https://localhost:8080/"
        },
        "outputId": "92099733-7405-41ee-d069-abfc2a14d79f"
      },
      "source": [
        "!pip3 install transformers"
      ],
      "execution_count": null,
      "outputs": [
        {
          "output_type": "stream",
          "name": "stdout",
          "text": [
            "Looking in indexes: https://pypi.org/simple, https://us-python.pkg.dev/colab-wheels/public/simple/\n",
            "Collecting transformers\n",
            "  Downloading transformers-4.24.0-py3-none-any.whl (5.5 MB)\n",
            "\u001b[K     |████████████████████████████████| 5.5 MB 7.2 MB/s \n",
            "\u001b[?25hRequirement already satisfied: filelock in /usr/local/lib/python3.7/dist-packages (from transformers) (3.8.0)\n",
            "Requirement already satisfied: pyyaml>=5.1 in /usr/local/lib/python3.7/dist-packages (from transformers) (6.0)\n",
            "Requirement already satisfied: numpy>=1.17 in /usr/local/lib/python3.7/dist-packages (from transformers) (1.21.6)\n",
            "Requirement already satisfied: requests in /usr/local/lib/python3.7/dist-packages (from transformers) (2.23.0)\n",
            "Collecting tokenizers!=0.11.3,<0.14,>=0.11.1\n",
            "  Downloading tokenizers-0.13.2-cp37-cp37m-manylinux_2_17_x86_64.manylinux2014_x86_64.whl (7.6 MB)\n",
            "\u001b[K     |████████████████████████████████| 7.6 MB 52.5 MB/s \n",
            "\u001b[?25hRequirement already satisfied: importlib-metadata in /usr/local/lib/python3.7/dist-packages (from transformers) (4.13.0)\n",
            "Collecting huggingface-hub<1.0,>=0.10.0\n",
            "  Downloading huggingface_hub-0.11.0-py3-none-any.whl (182 kB)\n",
            "\u001b[K     |████████████████████████████████| 182 kB 46.1 MB/s \n",
            "\u001b[?25hRequirement already satisfied: tqdm>=4.27 in /usr/local/lib/python3.7/dist-packages (from transformers) (4.64.1)\n",
            "Requirement already satisfied: regex!=2019.12.17 in /usr/local/lib/python3.7/dist-packages (from transformers) (2022.6.2)\n",
            "Requirement already satisfied: packaging>=20.0 in /usr/local/lib/python3.7/dist-packages (from transformers) (21.3)\n",
            "Requirement already satisfied: typing-extensions>=3.7.4.3 in /usr/local/lib/python3.7/dist-packages (from huggingface-hub<1.0,>=0.10.0->transformers) (4.1.1)\n",
            "Requirement already satisfied: pyparsing!=3.0.5,>=2.0.2 in /usr/local/lib/python3.7/dist-packages (from packaging>=20.0->transformers) (3.0.9)\n",
            "Requirement already satisfied: zipp>=0.5 in /usr/local/lib/python3.7/dist-packages (from importlib-metadata->transformers) (3.10.0)\n",
            "Requirement already satisfied: certifi>=2017.4.17 in /usr/local/lib/python3.7/dist-packages (from requests->transformers) (2022.9.24)\n",
            "Requirement already satisfied: urllib3!=1.25.0,!=1.25.1,<1.26,>=1.21.1 in /usr/local/lib/python3.7/dist-packages (from requests->transformers) (1.24.3)\n",
            "Requirement already satisfied: chardet<4,>=3.0.2 in /usr/local/lib/python3.7/dist-packages (from requests->transformers) (3.0.4)\n",
            "Requirement already satisfied: idna<3,>=2.5 in /usr/local/lib/python3.7/dist-packages (from requests->transformers) (2.10)\n",
            "Installing collected packages: tokenizers, huggingface-hub, transformers\n",
            "Successfully installed huggingface-hub-0.11.0 tokenizers-0.13.2 transformers-4.24.0\n"
          ]
        }
      ]
    },
    {
      "cell_type": "code",
      "metadata": {
        "id": "4DIofQXEv-pr",
        "colab": {
          "base_uri": "https://localhost:8080/"
        },
        "outputId": "e6556f6a-fe3a-4f64-f980-19d2166829b0"
      },
      "source": [
        "!pip3 install sentencepiece"
      ],
      "execution_count": null,
      "outputs": [
        {
          "output_type": "stream",
          "name": "stdout",
          "text": [
            "Looking in indexes: https://pypi.org/simple, https://us-python.pkg.dev/colab-wheels/public/simple/\n",
            "Collecting sentencepiece\n",
            "  Downloading sentencepiece-0.1.97-cp37-cp37m-manylinux_2_17_x86_64.manylinux2014_x86_64.whl (1.3 MB)\n",
            "\u001b[K     |████████████████████████████████| 1.3 MB 7.1 MB/s \n",
            "\u001b[?25hInstalling collected packages: sentencepiece\n",
            "Successfully installed sentencepiece-0.1.97\n"
          ]
        }
      ]
    },
    {
      "cell_type": "markdown",
      "metadata": {
        "id": "i9OjvLgzt0jD"
      },
      "source": [
        "**Importing and configuring the Pegasus model**"
      ]
    },
    {
      "cell_type": "code",
      "metadata": {
        "id": "7Eur_UFUt2bh"
      },
      "source": [
        "from transformers import PegasusForConditionalGeneration, PegasusTokenizer"
      ],
      "execution_count": null,
      "outputs": []
    },
    {
      "cell_type": "code",
      "metadata": {
        "id": "g6ZeCd_svj6E",
        "colab": {
          "base_uri": "https://localhost:8080/",
          "height": 145,
          "referenced_widgets": [
            "15bfdeaeea804f7da4d07cf70bee0066",
            "5edd29056fe3482bbdec69e36a89130c",
            "bcd564a60fd8426bb2be009e78a8cd2b",
            "9d09cce98c4a4c0ba41cc516becfe5f0",
            "b13f2dd2294d436693e0d5b7ee4b0955",
            "0e93c551a8d84eef9d4331a0037ed937",
            "f152bf971e244b31b2e54ee58e620be5",
            "230113c32f694ca28fd180e42510abda",
            "fdb7bbd8b3b44a34a05d1067641704f5",
            "ec0be40079084b4fb7cf15bca7fa6ae4",
            "20e16f2c6e554a8aa4651da0a8646dd0",
            "8832109d14d14ccaad8fef76ab7f4122",
            "bd07e8f86ba54fbc8f0f5352d5d2fe73",
            "847195d8698e49bbba2d673cbfcae5ed",
            "a3e282ef0273409d8da14cf297e5912f",
            "ce8a364c6ecb4f968582a2376fa50a5d",
            "90842c96b9474838bfb8b2a0360e7713",
            "06d6f8653306468299cf0eb4262286b0",
            "ff7f64236f8d4f5896fd4717640dcd8c",
            "cb7678c7196d4f38aaae78ee3e5b818a",
            "a563be2ef55e4d90a960330e4831c559",
            "05541d7d9edb4dc9912eed7ba5354b7b",
            "e173b263bd904cf986de3600885fcf5f",
            "9ecd143e32c24c4588fc8499c125cb2a",
            "669e5a86d228424d8a47ceb57b9e3a8e",
            "dddc2c004c2046b2b46d2fe838bd3a0f",
            "71a5700b13254242a28e32d04e426320",
            "97fa7315d388407d8c38e6f927fe66e7",
            "ad2a0458fcf94fc49228e82bd091cd03",
            "f9233a92a9454262952d072450f29023",
            "63d11b0714ab4fb5b97e1573522fc068",
            "dc87b2bbe5ee487dabdf6fd8c02ffb78",
            "57f3e4a00d4045c88cf864fa0847bddd",
            "46da3167732e41029d22c454f7259cbf",
            "e067698d7ff34b65b2eea9ab079ecffa",
            "22f1ee001ac24bf8869b3da742907e8b",
            "2bdac38e1ca44deb8fb53370aee17a61",
            "460600fc553e498da0da15b3fceeacc0",
            "afb2a5fff94540a3a1ee468f76a141c5",
            "491720ec90aa446ab4ee1ff17830eca6",
            "849d2065728040889f9ef4d4d68bdeed",
            "ba16a088caa94125a325cee7fe7c9333",
            "229870020ef34e79b40cccc0a3073361",
            "12c200f25fcc4a7882166ed9626a6f31"
          ]
        },
        "outputId": "097ff227-b78b-4642-844a-9e31732564d6"
      },
      "source": [
        "tokenizer_model = PegasusTokenizer.from_pretrained(\"google/pegasus-xsum\")"
      ],
      "execution_count": null,
      "outputs": [
        {
          "output_type": "display_data",
          "data": {
            "text/plain": [
              "Downloading:   0%|          | 0.00/1.91M [00:00<?, ?B/s]"
            ],
            "application/vnd.jupyter.widget-view+json": {
              "version_major": 2,
              "version_minor": 0,
              "model_id": "15bfdeaeea804f7da4d07cf70bee0066"
            }
          },
          "metadata": {}
        },
        {
          "output_type": "display_data",
          "data": {
            "text/plain": [
              "Downloading:   0%|          | 0.00/65.0 [00:00<?, ?B/s]"
            ],
            "application/vnd.jupyter.widget-view+json": {
              "version_major": 2,
              "version_minor": 0,
              "model_id": "8832109d14d14ccaad8fef76ab7f4122"
            }
          },
          "metadata": {}
        },
        {
          "output_type": "display_data",
          "data": {
            "text/plain": [
              "Downloading:   0%|          | 0.00/87.0 [00:00<?, ?B/s]"
            ],
            "application/vnd.jupyter.widget-view+json": {
              "version_major": 2,
              "version_minor": 0,
              "model_id": "e173b263bd904cf986de3600885fcf5f"
            }
          },
          "metadata": {}
        },
        {
          "output_type": "display_data",
          "data": {
            "text/plain": [
              "Downloading:   0%|          | 0.00/1.39k [00:00<?, ?B/s]"
            ],
            "application/vnd.jupyter.widget-view+json": {
              "version_major": 2,
              "version_minor": 0,
              "model_id": "46da3167732e41029d22c454f7259cbf"
            }
          },
          "metadata": {}
        }
      ]
    },
    {
      "cell_type": "code",
      "metadata": {
        "id": "cLDu-R1L0vL2",
        "colab": {
          "base_uri": "https://localhost:8080/",
          "height": 49,
          "referenced_widgets": [
            "ffcf9d83f08746038356ee2d0c0bedae",
            "6ebcff9b49e643b89810af449504e740",
            "5098042e07ee4129ba8023a3b048adde",
            "2de7cfc0fe7947cba3f8e3e1ae929dfe",
            "00ad96e05ed94aa1acf8fb63ced3d55c",
            "bb4554b9a37248569e8896ebab064d1f",
            "68cab29dd1b3436a8a811660c1803ef1",
            "3a564a9836c14bf39ff41a2e7494772a",
            "2ac37d41c2714b05b4975524691bcf36",
            "4c1599fc40aa40ab98fd365b4d401ecf",
            "1f97b06364ef43539d82ca38bf1def98"
          ]
        },
        "outputId": "e85db9a9-8272-4ff9-d4ff-77a9835d406c"
      },
      "source": [
        "loaded_model = PegasusForConditionalGeneration.from_pretrained(\"google/pegasus-xsum\")"
      ],
      "execution_count": null,
      "outputs": [
        {
          "output_type": "display_data",
          "data": {
            "text/plain": [
              "Downloading:   0%|          | 0.00/2.28G [00:00<?, ?B/s]"
            ],
            "application/vnd.jupyter.widget-view+json": {
              "version_major": 2,
              "version_minor": 0,
              "model_id": "ffcf9d83f08746038356ee2d0c0bedae"
            }
          },
          "metadata": {}
        }
      ]
    },
    {
      "cell_type": "markdown",
      "metadata": {
        "id": "NE-stoUN3JGJ"
      },
      "source": [
        "**Performing abstractive summarization **"
      ]
    },
    {
      "cell_type": "code",
      "metadata": {
        "id": "QsGXgLgj3Kxq"
      },
      "source": [
        "text = \"\"\"Hugging Face is a great open-source library that is doing powerful work in the Natural Language Processing (NLP) space. \n",
        "The library has a bunch of pre-trained models which you can leverage or fine-tune. \n",
        "\n",
        "The library has many models including BERT and GPT-2 models that perform various tasks, but for our purpose, we’ll be leveraging the pre-trained language pipeline. \n",
        "Rather than going ahead and training a huge language model such as GPT-2 with 1.5 billion parameters, one can leverage the ML pipeline instead.\"\"\""
      ],
      "execution_count": null,
      "outputs": []
    },
    {
      "cell_type": "code",
      "metadata": {
        "id": "BSnlUuhb6_l6"
      },
      "source": [
        "tokens = tokenizer_model(text, truncation=True, padding=\"longest\", return_tensors=\"pt\")"
      ],
      "execution_count": null,
      "outputs": []
    },
    {
      "cell_type": "code",
      "metadata": {
        "id": "K-HOQCQG8d-0",
        "colab": {
          "base_uri": "https://localhost:8080/"
        },
        "outputId": "147f299b-9d3b-4153-af50-78ef97696264"
      },
      "source": [
        "tokens"
      ],
      "execution_count": null,
      "outputs": [
        {
          "output_type": "execute_result",
          "data": {
            "text/plain": [
              "{'input_ids': tensor([[ 1176, 73940,  8515,   117,   114,   255,   428,   121,  9534,  2400,\n",
              "           120,   117,   557,  1512,   201,   115,   109,  4284,  7148, 11430,\n",
              "           143, 72237,   158,   501,   107,   139,  2400,   148,   114,  4371,\n",
              "           113,  1133,   121, 14787,  1581,   162,   119,   137,  7043,   132,\n",
              "          1226,   121, 20619,   107,   139,  2400,   148,   223,  1581,   330,\n",
              "           110, 62613,   111,  9688,   930,  5729,  1581,   120,  1798,   623,\n",
              "          2722,   108,   155,   118,   150,  1396,   108,   145,   123,   267,\n",
              "           129, 15479,   109,  1133,   121, 14787,  1261,  7684,   107,  7430,\n",
              "           197,   313,  1573,   111,   569,   114,  1124,  1261,   861,   253,\n",
              "           130,  9688,   930,  5729,   122,  5594,  1722,  5384,   108,   156,\n",
              "           137,  7043,   109, 22099,  7684,  1088,   107,     1]]), 'attention_mask': tensor([[1, 1, 1, 1, 1, 1, 1, 1, 1, 1, 1, 1, 1, 1, 1, 1, 1, 1, 1, 1, 1, 1, 1, 1,\n",
              "         1, 1, 1, 1, 1, 1, 1, 1, 1, 1, 1, 1, 1, 1, 1, 1, 1, 1, 1, 1, 1, 1, 1, 1,\n",
              "         1, 1, 1, 1, 1, 1, 1, 1, 1, 1, 1, 1, 1, 1, 1, 1, 1, 1, 1, 1, 1, 1, 1, 1,\n",
              "         1, 1, 1, 1, 1, 1, 1, 1, 1, 1, 1, 1, 1, 1, 1, 1, 1, 1, 1, 1, 1, 1, 1, 1,\n",
              "         1, 1, 1, 1, 1, 1, 1, 1, 1, 1, 1, 1]])}"
            ]
          },
          "metadata": {},
          "execution_count": 29
        }
      ]
    },
    {
      "cell_type": "code",
      "metadata": {
        "id": "D760JwCFF9CC",
        "colab": {
          "base_uri": "https://localhost:8080/"
        },
        "outputId": "f71e652e-c928-4e93-cb01-c43f5a25565a"
      },
      "source": [
        "summary = loaded_model.generate(**tokens)"
      ],
      "execution_count": null,
      "outputs": [
        {
          "output_type": "stream",
          "name": "stderr",
          "text": [
            "/usr/local/lib/python3.7/dist-packages/transformers/generation_utils.py:1364: UserWarning: Neither `max_length` nor `max_new_tokens` has been set, `max_length` will default to 64 (`self.config.max_length`). Controlling `max_length` via the config is deprecated and `max_length` will be removed from the config in v5 of Transformers -- we recommend using `max_new_tokens` to control the maximum length of the generation.\n",
            "  UserWarning,\n"
          ]
        }
      ]
    },
    {
      "cell_type": "code",
      "metadata": {
        "id": "ATG_eKp0F2vr",
        "colab": {
          "base_uri": "https://localhost:8080/"
        },
        "outputId": "2a9a89e3-6aff-4449-9bf2-646c9b7485c4"
      },
      "source": [
        "summary[0]"
      ],
      "execution_count": null,
      "outputs": [
        {
          "output_type": "execute_result",
          "data": {
            "text/plain": [
              "tensor([    0,   222,   136,   450,   108,   125,   123,   208,   313,   112,\n",
              "          403,   119,   199,   112,   207,   109,  1176, 73940,  8515,  2400,\n",
              "          112,  1976, 22099,  1581,   107,     1])"
            ]
          },
          "metadata": {},
          "execution_count": 31
        }
      ]
    },
    {
      "cell_type": "code",
      "metadata": {
        "id": "qZ9w0Mj6GFaF",
        "colab": {
          "base_uri": "https://localhost:8080/",
          "height": 36
        },
        "outputId": "272957bf-3461-4726-bf10-49cd452e620f"
      },
      "source": [
        "tokenizer_model.decode(summary[0])"
      ],
      "execution_count": null,
      "outputs": [
        {
          "output_type": "execute_result",
          "data": {
            "text/plain": [
              "'In this post, I’m going to show you how to use the Hugging Face library to train ML models.'"
            ],
            "application/vnd.google.colaboratory.intrinsic+json": {
              "type": "string"
            }
          },
          "metadata": {},
          "execution_count": 33
        }
      ]
    },
    {
      "cell_type": "code",
      "source": [],
      "metadata": {
        "colab": {
          "base_uri": "https://localhost:8080/",
          "height": 268,
          "referenced_widgets": [
            "41641b77b68047219ce098511b70e800",
            "ef36d37ae6ad47fba6b22ba6b246389f",
            "910e52b49f76407e8b080fc7568a8a4d",
            "371cb9ebb897494eb1a885f5c6ddf449",
            "40619357add8485385bb776ee5a2abc2",
            "54978fa56a994a1991e71d84bcf30ab4",
            "46afdf750f3f4d9ca2abd9194256a7cd",
            "572ed39d005846569aaaa8601a902b82",
            "5c560ed30f1f46d59d5625d31a2bdcd2",
            "532b50d2e8474e5a993390604ca9b375",
            "dd59bf2f1bcb408991eb3d8bf316b87d",
            "c6e8d27b306c4d54a8576cb244d540d3",
            "6f59b3f918ce42bb97280ddeb622e6f6",
            "03ea52956b1945f6b95d8dbefd806469",
            "77f5ad4f31254876bcec4bbbf36a62dd",
            "dce3a991a0d34b198ef88e152f89a100",
            "e087db245028454592b931bf47e41614",
            "5204c38ca4e44370b75b08526c62dfec",
            "c363afe0f6f44be799665613ba89b52e",
            "3ad7846bc632402a94c0f65933e554cf",
            "3e6b8f7b62ab492698b882bb78d7283b",
            "c1f6d9b9a0dc4de7ab45fec5a5e85d56",
            "c3fb510382034b568f347a8898e5cb6b",
            "2d7132ae10264df598632c32a4227152",
            "e53a674ac9054383951853f67c02c214",
            "31fa0aadb53040d6969a6cb36e6ad303",
            "657a6598f7c24bb19827416064aa4f88",
            "8e03dd1b79784516812763c15c79f714",
            "6a73722267b84398b8b5d2f5ce44ff1b",
            "4e7e7852e4404a658d97f699c592d40a",
            "9ae5e38e0c8b40ce81850aa70b022fd8",
            "26a8267b1d58497c9be9dca12c24fc18",
            "f52a1b7ee3c343bc92e50a73ba5251fb",
            "13be57b4290243dda5b225967aeacc8d",
            "ddfadc07566c4a62b2bfe232290d8f1a",
            "db909a78e06e46a1826bd09f5e8ed3b6",
            "4b50eee7c8d54011935ce075d2bf7fbf",
            "7ffdad5fcb3b4961a4e782c74463970b",
            "d460d761cc2c47f5a6e76b15bc4fa103",
            "d4d4ffc069044d2eb6a95623acb2f4f9",
            "7dd392be6b0741569062da2b109c9f1e",
            "2d18f4b82cd94169b4f72150f8ff1edd",
            "fa22ccbe67e04a23a42069375d1edac1",
            "bd211543a4424b5d894c06359369058a",
            "5e164c93dd8646d6bedcdf468833730b",
            "cc30b4a3957648e0a65c4aa04db631cb",
            "ddcc1646dd5947c4ba2561d667127f9d",
            "edabb6d3a5fe4eb8a30e6c1ec6d69574",
            "f751cbf3d99c4093a2beb954a7b0f53a",
            "f94df61d73904ddbb0f3cbe582deaedd",
            "386504672b7d41a49b73d742b277e93f",
            "e9e8a9765d8b4c36840b5afce9f79912",
            "db017aa36a854c64bc083db841c953c3",
            "8013a3d0e7b04f539f51eeda57bc625d",
            "4656b14afc7849d1a7762e2f14e96218"
          ]
        },
        "id": "sgfobZU0zsDb",
        "outputId": "ce189813-c562-447f-ef3b-6c846c9fcf58"
      },
      "execution_count": null,
      "outputs": [
        {
          "output_type": "display_data",
          "data": {
            "text/plain": [
              "Downloading:   0%|          | 0.00/1.91M [00:00<?, ?B/s]"
            ],
            "application/vnd.jupyter.widget-view+json": {
              "version_major": 2,
              "version_minor": 0,
              "model_id": "41641b77b68047219ce098511b70e800"
            }
          },
          "metadata": {}
        },
        {
          "output_type": "display_data",
          "data": {
            "text/plain": [
              "Downloading:   0%|          | 0.00/65.0 [00:00<?, ?B/s]"
            ],
            "application/vnd.jupyter.widget-view+json": {
              "version_major": 2,
              "version_minor": 0,
              "model_id": "c6e8d27b306c4d54a8576cb244d540d3"
            }
          },
          "metadata": {}
        },
        {
          "output_type": "display_data",
          "data": {
            "text/plain": [
              "Downloading:   0%|          | 0.00/88.0 [00:00<?, ?B/s]"
            ],
            "application/vnd.jupyter.widget-view+json": {
              "version_major": 2,
              "version_minor": 0,
              "model_id": "c3fb510382034b568f347a8898e5cb6b"
            }
          },
          "metadata": {}
        },
        {
          "output_type": "display_data",
          "data": {
            "text/plain": [
              "Downloading:   0%|          | 0.00/1.12k [00:00<?, ?B/s]"
            ],
            "application/vnd.jupyter.widget-view+json": {
              "version_major": 2,
              "version_minor": 0,
              "model_id": "13be57b4290243dda5b225967aeacc8d"
            }
          },
          "metadata": {}
        },
        {
          "output_type": "display_data",
          "data": {
            "text/plain": [
              "Downloading:   0%|          | 0.00/2.28G [00:00<?, ?B/s]"
            ],
            "application/vnd.jupyter.widget-view+json": {
              "version_major": 2,
              "version_minor": 0,
              "model_id": "5e164c93dd8646d6bedcdf468833730b"
            }
          },
          "metadata": {}
        },
        {
          "output_type": "stream",
          "name": "stderr",
          "text": [
            "/usr/local/lib/python3.7/dist-packages/transformers/generation_utils.py:1364: UserWarning: Neither `max_length` nor `max_new_tokens` has been set, `max_length` will default to 128 (`self.config.max_length`). Controlling `max_length` via the config is deprecated and `max_length` will be removed from the config in v5 of Transformers -- we recommend using `max_new_tokens` to control the maximum length of the generation.\n",
            "  UserWarning,\n"
          ]
        },
        {
          "output_type": "execute_result",
          "data": {
            "text/plain": [
              "'The library has a bunch of pre-trained models which you can leverage or fine-tune.<n>Rather than going ahead and training a huge language model such as GPT-2 with 1.5 billion parameters, one can leverage the ML pipeline instead.'"
            ],
            "application/vnd.google.colaboratory.intrinsic+json": {
              "type": "string"
            }
          },
          "metadata": {},
          "execution_count": 32
        }
      ]
    },
    {
      "cell_type": "markdown",
      "source": [
        "Or let's take the text we used for the Extractive Summarization approach: "
      ],
      "metadata": {
        "id": "Xz2-oNd6FBGI"
      }
    },
    {
      "cell_type": "code",
      "source": [
        "text = \"\"\"\"The Elder Scrolls V: Skyrim is an action role-playing video game developed by Bethesda Game Studios \n",
        "and published by Bethesda Softworks. It is the fifth main installment in The Elder Scrolls series, \n",
        "following The Elder Scrolls IV: Oblivion.\n",
        "The game's main story revolves around the player character's quest to defeat Alduin the World-Eater, \n",
        "a dragon who is prophesied to destroy the world. The game is set 200 years after the events of Oblivion \n",
        "and takes place in the fictional province of Skyrim. Over the course of the game, the player completes \n",
        "quests and develops the character by improving skills. The game continues the open-world tradition of \n",
        "its predecessors by allowing the player to travel anywhere in the game world at any time, and to ignore \n",
        "or postpone the main storyline indefinitely.\n",
        "The team opted for a unique and more diverse open world than Oblivion's Imperial Province of Cyrodiil, \n",
        "which game director and executive producer Todd Howard considered less interesting by comparison. \n",
        "The game was released to critical acclaim, with reviewers particularly mentioning the character advancement \n",
        "and setting, and is considered to be one of the greatest video games of all time.\n",
        "\n",
        "\n",
        "The Elder Scrolls V: Skyrim is an action role-playing game, playable from either a first or \n",
        "third-person perspective. The player may freely roam over the land of Skyrim which is an open world \n",
        "environment consisting of wilderness expanses, dungeons, cities, towns, fortresses, and villages. \n",
        "Players may navigate the game world more quickly by riding horses or by utilizing a fast-travel system \n",
        "which allows them to warp to previously discovered locations. The game's main quest can be completed or \n",
        "ignored at the player's preference after the first stage of the quest is finished. However, some quests \n",
        "rely on the main storyline being at least partially completed. Non-player characters (NPCs) populate the \n",
        "world and can be interacted with in a number of ways: the player may engage them in conversation, \n",
        "marry an eligible NPC, kill them or engage in a nonlethal \"brawl\". The player may \n",
        "choose to join factions which are organized groups of NPCs — for example, the Dark Brotherhood, a band \n",
        "of assassins. Each of the factions has an associated quest path to progress through. Each city and town \n",
        "in the game world has jobs that the player can engage in, such as farming.\n",
        "\n",
        "Players have the option to develop their character. At the beginning of the game, players create \n",
        "their character by selecting their sex and choosing between one of several races including humans, \n",
        "orcs, elves, and anthropomorphic cat or lizard-like creatures and then customizing their character's \n",
        "appearance. Over the course of the game, players improve their character's skills which are numerical \n",
        "representations of their ability in certain areas. There are eighteen skills divided evenly among the \n",
        "three schools of combat, magic, and stealth. When players have trained skills enough to meet the \n",
        "required experience, their character levels up. Health is depleted primarily when the player \n",
        "takes damage and the loss of all health results in death. Magicka is depleted by the use of spells, \n",
        "certain poisons and by being struck by lightning-based attacks. Stamina determines the player's \n",
        "effectiveness in combat and is depleted by sprinting, performing heavy \"power attacks\" \n",
        "and being struck by frost-based attacks. Skyrim is the first entry in The Elder Scrolls to \n",
        "include dragons in the game's wilderness. Like other creatures, dragons are generated randomly in \n",
        "the world and will engage in combat with NPCs, creatures and the player. Some dragons may attack \n",
        "cities and towns when in their proximity. The player character can absorb the souls of dragons \n",
        "in order to use powerful spells called \"dragon shouts\" or \"Thu'um\". A regeneration \n",
        "period limits the player's use of shouts in gameplay.\n",
        "\n",
        "Skyrim is set around 200 years after the events of The Elder Scrolls IV: Oblivion, although it is \n",
        "not a direct sequel. The game takes place in Skyrim, a province of the Empire on the continent of \n",
        "Tamriel, amid a civil war between two factions: the Stormcloaks, led by Ulfric Stormcloak, and the \n",
        "Imperial Legion, led by General Tullius. The player character is a Dragonborn, a mortal born with \n",
        "the soul and power of a dragon. Alduin, a large black dragon who returns to the land after being \n",
        "lost in time, serves as the game's primary antagonist. Alduin is the first dragon created by Akatosh, \n",
        "one of the series' gods, and is prophesied to destroy and consume the world.\"\"\""
      ],
      "metadata": {
        "id": "ANQG90mFFW9V"
      },
      "execution_count": null,
      "outputs": []
    },
    {
      "cell_type": "code",
      "source": [
        "tokens = tokenizer_model(text, truncation=True, padding=\"longest\", return_tensors=\"pt\")\n",
        "summary = loaded_model.generate(**tokens)"
      ],
      "metadata": {
        "id": "WM1OyhnMF4zz",
        "colab": {
          "base_uri": "https://localhost:8080/"
        },
        "outputId": "d00bfefe-0a66-4b76-b32c-c064dcd3bb7d"
      },
      "execution_count": null,
      "outputs": [
        {
          "output_type": "stream",
          "name": "stderr",
          "text": [
            "/usr/local/lib/python3.7/dist-packages/transformers/generation_utils.py:1364: UserWarning: Neither `max_length` nor `max_new_tokens` has been set, `max_length` will default to 64 (`self.config.max_length`). Controlling `max_length` via the config is deprecated and `max_length` will be removed from the config in v5 of Transformers -- we recommend using `max_new_tokens` to control the maximum length of the generation.\n",
            "  UserWarning,\n"
          ]
        }
      ]
    },
    {
      "cell_type": "code",
      "source": [
        "tokenizer_model.decode(summary[0])\n"
      ],
      "metadata": {
        "id": "fb3nHWJRGDYT",
        "colab": {
          "base_uri": "https://localhost:8080/",
          "height": 36
        },
        "outputId": "2e9b77dc-395d-4004-e6ec-5348b35106d2"
      },
      "execution_count": null,
      "outputs": [
        {
          "output_type": "execute_result",
          "data": {
            "text/plain": [
              "'The Elder Scrolls V: Skyrim is a video game developed by Bethesda Game Studios and published by Bethesda Softworks.'"
            ],
            "application/vnd.google.colaboratory.intrinsic+json": {
              "type": "string"
            }
          },
          "metadata": {},
          "execution_count": 36
        }
      ]
    },
    {
      "cell_type": "markdown",
      "source": [
        "## Exercise 2: \n",
        "\n",
        "a) How can you get a longer summary?\n",
        "\n",
        "b) What are the limitations of Abstractive Summarization that you experience?\n",
        "\n",
        "c) How could you address these? "
      ],
      "metadata": {
        "id": "21PsXlV894gg"
      }
    },
    {
      "cell_type": "markdown",
      "source": [
        "ANSWER HERE\n",
        "\n",
        "a)If we use other pegasus model for this text we can get a longer summary...code below..\n",
        "But generraly it produces short sentences.\n",
        "We could also combine abstractive with extractive summarization.Using extractive and abstractive models jointly significantly improves summarization results.\n",
        "b)Abstractive text summarization models tend to generate false information.\n",
        "Pegasus models can handle maximum 1024 input size.So they can not handle large texts.\n",
        "\n",
        "max_model_length = {\n",
        "    \"xsum\": 512,\n",
        "    \"cnn_dailymail\": 1024,\n",
        "    \"newsroom\": 512,\n",
        "    \"wikihow\": 512,\n",
        "    \"multi_news\": 1024,\n",
        "    \"reddit_tifu\": 512,\n",
        "    \"big_patent\": 1024,\n",
        "    \"arxiv\": 1024,\n",
        "    \"pubmed\": 1024,\n",
        "    \"gigaword\": 128,\n",
        "    \"aeslc\": 512,\n",
        "    \"billsum\": 1024,\n",
        "    \"large\": 1024,\n",
        "}\n",
        "\n",
        "C)To adress these limitations we can add self attention to the model.\n",
        "\n",
        "pass max_position_embeddings as a kwarg to from_pretrained\n",
        "\n",
        "=2048 uses the maximum input length\n",
        "\n",
        "Other methods that could adress the limitations of abstractive summarization:\n",
        "\n",
        "\n",
        "*   Entity-based Data Filtering\n",
        "\n",
        "*   Multi-task Learning\n",
        "\n",
        "\n",
        "*   Join Salient Entity and Summary Generation (JAENS)\n",
        "\n",
        "\n",
        "\n",
        "\n"
      ],
      "metadata": {
        "id": "JUTO3unLW1t5"
      }
    },
    {
      "cell_type": "code",
      "source": [
        "tokenizer_model2 = PegasusTokenizer.from_pretrained(\"google/pegasus-cnn_dailymail\")\n",
        "loaded_model2 = PegasusForConditionalGeneration.from_pretrained(\"google/pegasus-cnn_dailymail\")\n",
        "tokens = tokenizer_model2(text, truncation=True, padding=\"longest\", return_tensors=\"pt\")\n",
        "summary2 = loaded_model2.generate(**tokens)\n",
        "### min_lenght=100\n",
        "tokenizer_model2.decode(summary2[0])"
      ],
      "metadata": {
        "id": "-L_gHQU127sg"
      },
      "execution_count": null,
      "outputs": []
    },
    {
      "cell_type": "code",
      "source": [
        "tokenizer_model3 = PegasusTokenizer.from_pretrained(\"google/pegasus-newsroom\")\n",
        "loaded_model3 = PegasusForConditionalGeneration.from_pretrained(\"google/pegasus-newsroom\")\n",
        "tokens = tokenizer_model3(text, truncation=True, padding=\"longest\", return_tensors=\"pt\")\n",
        "summary3 = loaded_model3.generate(**tokens)\n",
        "tokenizer_model3.decode(summary3[0])"
      ],
      "metadata": {
        "colab": {
          "base_uri": "https://localhost:8080/",
          "height": 320,
          "referenced_widgets": [
            "809c5026c28f434e968feccfa41218c3",
            "1f3c222db42a427fae049d786cf397ba",
            "fa4f0f39c55b40daa5f04ae331d1413f",
            "8183e4aab65d47f1b55c1bdcff31cfc0",
            "ca5bf43fad674d0f957bf1d8a08d7c1d",
            "285f121bb6e24c8dbcbaedd0160cc9a9",
            "aa1bf5f771134b49a4a0ef772b8bc1e7",
            "89699cc2b3504f74a0a01f2304b6d4e6",
            "066f59de1ef644ce98746e4b77df6b1b",
            "c5b9d9c39c2e4eb6b1263e111ff95071",
            "235addfc48ce4a13ae2ac2ac7c873356",
            "76f60614f7ce44c2899cd1ae4a163442",
            "9f431f6586e84d2698855a7a87e9e8a7",
            "0d75e286c9e4411db97d5a0bb1bcb6eb",
            "56bbc9ff3939424aa2b148dfb123ecb1",
            "ef32962830cd410dab16287ee97ae10a",
            "500e757d409f4e48b6acd099fa2404b2",
            "ee264a335f5949fab453eee107d39ce0",
            "054cd3c016084dbe9f2529c5d2180627",
            "af3be138395946d0ad263840130532b2",
            "b62fde7651a1410c85e24387a613a389",
            "fae18e645d204f60bac67f86a89bdc95",
            "af8c84c062834c7c86d7bbbbbcc9e775",
            "dbf0d5ffbf4141228dfcc4d997a44652",
            "f1c4da89be324f198d35c40cdcaf378d",
            "d3d7cf32ee664ed0b1494e242b08b519",
            "688967d3f8a14f1b8852d23568bcb6f6",
            "cb54f282258a4ef3854dd6be3954ae3b",
            "6b74f5d9420840188ecb24701800643e",
            "cf262a2f4fe34983be22fb909d3748d9",
            "842f203478a84eceb8738f3683d82d6a",
            "97510d8f54b64a89a346b58d6a7b6606",
            "f6d2bed5c94b4547b37d0dab656b1e5d",
            "897668dd7d7a42b7a5eaea8c8181bae7",
            "3eb68622eb6b4518acbfd1a0f33aeb68",
            "a60bd8294e484dc58faa07b955a79811",
            "91119df292854e60892908d2dab9525b",
            "b22d5e0f224b411ab4ec45cf7bd0466d",
            "2002e8a6d7ff47a7b5f3353f80cebd61",
            "3bb8eecd7cd04419aebc34a4ae08eb2f",
            "37c42ec261ab44cfa2007b6b5cb01ddc",
            "db2a2ce73e5e4d538e0d7e91cf5bcfb4",
            "d3171ecd3bae4a139a6678fe453a49ae",
            "2ed0a45fc5174ae48f994432b37de629",
            "b9469f3bb1294cdf8cf1cddbf3f9521e",
            "4bbfe79ff28f4a97b29b3ab5e823e287",
            "241dc5c8001f45688c8fcfbd17b760db",
            "4f622ad9bf9f496cbd6183bf324c14fe",
            "f03ad4a31361473590215a14cbf95c11",
            "6cf7d1e532104043a5a7afac069cee13",
            "ef0a1c5d94aa4a5ca25a4f484eaeb2ab",
            "bb98a5ccbd5149358f1228e2b3f40300",
            "f173fb37d4e14d4795c7eef542b2368b",
            "666270c585d04f30ac0b56c8bc1afd6e",
            "d662abac2fd74e82a0512a0fd105cdad"
          ]
        },
        "id": "yCPzlT_T3GTY",
        "outputId": "a76b05ec-9052-4ce7-ee9a-0e4cbdd7fa13"
      },
      "execution_count": null,
      "outputs": [
        {
          "output_type": "display_data",
          "data": {
            "text/plain": [
              "Downloading:   0%|          | 0.00/1.91M [00:00<?, ?B/s]"
            ],
            "application/vnd.jupyter.widget-view+json": {
              "version_major": 2,
              "version_minor": 0,
              "model_id": "809c5026c28f434e968feccfa41218c3"
            }
          },
          "metadata": {}
        },
        {
          "output_type": "display_data",
          "data": {
            "text/plain": [
              "Downloading:   0%|          | 0.00/65.0 [00:00<?, ?B/s]"
            ],
            "application/vnd.jupyter.widget-view+json": {
              "version_major": 2,
              "version_minor": 0,
              "model_id": "76f60614f7ce44c2899cd1ae4a163442"
            }
          },
          "metadata": {}
        },
        {
          "output_type": "display_data",
          "data": {
            "text/plain": [
              "Downloading:   0%|          | 0.00/87.0 [00:00<?, ?B/s]"
            ],
            "application/vnd.jupyter.widget-view+json": {
              "version_major": 2,
              "version_minor": 0,
              "model_id": "af8c84c062834c7c86d7bbbbbcc9e775"
            }
          },
          "metadata": {}
        },
        {
          "output_type": "display_data",
          "data": {
            "text/plain": [
              "Downloading:   0%|          | 0.00/1.12k [00:00<?, ?B/s]"
            ],
            "application/vnd.jupyter.widget-view+json": {
              "version_major": 2,
              "version_minor": 0,
              "model_id": "897668dd7d7a42b7a5eaea8c8181bae7"
            }
          },
          "metadata": {}
        },
        {
          "output_type": "display_data",
          "data": {
            "text/plain": [
              "Downloading:   0%|          | 0.00/2.28G [00:00<?, ?B/s]"
            ],
            "application/vnd.jupyter.widget-view+json": {
              "version_major": 2,
              "version_minor": 0,
              "model_id": "b9469f3bb1294cdf8cf1cddbf3f9521e"
            }
          },
          "metadata": {}
        },
        {
          "output_type": "stream",
          "name": "stderr",
          "text": [
            "/usr/local/lib/python3.7/dist-packages/transformers/generation_utils.py:1364: UserWarning: Neither `max_length` nor `max_new_tokens` has been set, `max_length` will default to 128 (`self.config.max_length`). Controlling `max_length` via the config is deprecated and `max_length` will be removed from the config in v5 of Transformers -- we recommend using `max_new_tokens` to control the maximum length of the generation.\n",
            "  UserWarning,\n"
          ]
        },
        {
          "output_type": "execute_result",
          "data": {
            "text/plain": [
              "'\"The Elder Scrolls V: Skyrim is an action role-playing video game developed by Bethesda Game Studios and published by Bethesda Softworks. It is the fifth main installment in The Elder Scrolls series, following The Elder Scrolls IV: Oblivion. The game\\'s main story revolves around the player character\\'s quest to defeat Alduin the World-Eater, a dragon who is prophesied to destroy the world. The game is set 200 years after the events of Oblivion and takes place in the fictional province of Skyrim. Over the course of the game, the player completes quests and develops the character by improving skills.'"
            ],
            "application/vnd.google.colaboratory.intrinsic+json": {
              "type": "string"
            }
          },
          "metadata": {},
          "execution_count": 38
        }
      ]
    },
    {
      "cell_type": "markdown",
      "source": [
        "# GPT-3\n",
        "\n",
        "Generative Pre-trained Transformer 3 is an autoregressive language model that uses deep learning to produce human-like text. \n",
        "It is the third-generation language prediction model in the GPT-n series created by OpenAI, a San Francisco-based artificial intelligence research laboratory.\n",
        "\n",
        "GPT-3's full version has a capacity of 175 billion machine learning parameters. GPT-3, which was introduced in May 2020, and was in beta testing as of July 2020, is part of a trend in natural language processing (NLP) systems of pre-trained language representations.\n",
        "\n",
        "The quality of the text generated by GPT-3 is so high that it can be difficult to determine whether or not it was written by a human, which has both benefits and risks. Thirty-one OpenAI researchers and engineers presented the original May 28, 2020 paper introducing GPT-3. In their paper, they warned of GPT-3's potential dangers and called for research to mitigate risk.  \n",
        "\n",
        "David Chalmers, an Australian philosopher, described GPT-3 as \"one of the most interesting and important AI systems ever produced.\"\n",
        "\n",
        "Microsoft announced on September 22, 2020, that it had licensed \"exclusive\" use of GPT-3; others can still use the public API to receive output, but only Microsoft has access to GPT-3's underlying model.\n",
        "\n",
        "An April 2022 review in The New York Times described GPT-3's capabilities as being able to write original prose with fluency equivalent to that of a human.\n"
      ],
      "metadata": {
        "id": "W2xJoL4i7yGL"
      }
    },
    {
      "cell_type": "markdown",
      "source": [
        "## GPT-Playground\n",
        "\n",
        "Go to the GPT-3 Playground and create your account. Follow the instructions in slide 75 of the lecture.\n"
      ],
      "metadata": {
        "id": "F1kk30M18gW7"
      }
    },
    {
      "cell_type": "markdown",
      "source": [
        "## Exercise 3: \n",
        "\n",
        "a) Investigate the influence of the length of the prompt\n",
        "\n",
        "b) How can we use different versions of a prompt to implement zero-shot, one-shot or few-shot learning. Explain!\n",
        "\n"
      ],
      "metadata": {
        "id": "F_a1PlRL8xIe"
      }
    },
    {
      "cell_type": "markdown",
      "source": [
        "YOUR ANSWER HERE\n",
        "This model's maximum context length is 4097 tokens.As a result, as many tokens the prompt has,the less tokens can be generated as completion.\n",
        "It can generate amazingly accurate text with just few tokens.\n",
        "GPT3 performs few-shot learning remarkably well.It is less successful at zero-shot learning.GPT-3’s zero-shot performance is much worse than few-shot performance on tasks such as reading comprehension, question answering, and natural language inference. One potential reason is that, without few-shot exemplars, it is harder for models to perform well on prompts that are not similar to the format of the pretraining data.\n",
        "\n",
        "\n",
        "Zero-shot learning is about giving no example.One shot is about giving one example to .Few-shot learning uses a small set of examples from new data to learn a new task."
      ],
      "metadata": {
        "id": "cJzJF--_9HTS"
      }
    },
    {
      "cell_type": "markdown",
      "source": [
        "## Exercise 4: GPT-3 can also be used for batch classification or meta data generation. \n",
        "\n",
        "How would yo do that?"
      ],
      "metadata": {
        "id": "0yHzFTLY9P-i"
      }
    },
    {
      "cell_type": "markdown",
      "source": [
        "YOUR ANSWER HERE \n",
        "\n",
        "Batch classification in Playground:\n",
        "\n",
        "Analyze sentences in terms of the feeling.Classify these sentences as happiness,sadness,neutral:\n",
        "sentence: I am so excited that i passed the course.\n",
        "meaning:happy\n",
        "sentence:Its raining today.\n",
        "meaning:neutral\n",
        "sentence:I dont know how to manage all this situation.Its so hard for me.\n",
        "meaning:sadness\n",
        "sentence:I am so stressed with the courses.\n",
        "\n",
        "meaning:sadness <-----(this was the output)\n",
        "\n",
        "Meta data generation in Playground:\n",
        "\n",
        "Find the time the following email was sent:\n",
        "To: George\n",
        "From: Eva\n",
        "Subject: Data science\n",
        "Day and Time: 27/11/21 9:32\n",
        "Main Body: In simple terms, a data scientist's job is to analyze data for actionable insights. Specific tasks include: Identifying the data-analytics problems that offer the greatest opportunities to the organization. Determining the correct data sets and variables.\n",
        "\n",
        "\n",
        "\n",
        "\n",
        "The email was sent on 27/11/21 at 9:32.  <-----(this was the output)\n",
        "\n",
        "###\n",
        "Metadata is simply data about data. It means it is a description and context of the data.Those are some typical metadata elements:\n",
        "\n",
        "Title and description,\n",
        "Tags and categories,\n",
        "Who created and when,\n",
        "Who last modified and when,\n",
        "Who can access or update.\n",
        "\n",
        "Examples:\n",
        "-Every email has a lot of metadat such us subject,\n",
        "from,\n",
        "to,\n",
        "date and time sent\n",
        "-Every book has metadata such as a title,\n",
        "author name,\n",
        "publisher and copyright details,\n",
        "description on a back,\n",
        "table of contents,\n",
        "index,\n",
        "page numbers."
      ],
      "metadata": {
        "id": "fndxr8KT9ZZa"
      }
    },
    {
      "cell_type": "markdown",
      "source": [
        "WE encourage you to do a few more experiments with GPT-3 and amaze yourself. Please tell us about your adventreus below. "
      ],
      "metadata": {
        "id": "99PR2nY69gv7"
      }
    },
    {
      "cell_type": "markdown",
      "source": [
        "YOUR ADVENTURES WITH GPT-3\n",
        "It can generate amazingly accurate text(songs,fairytales..) with just few tokens."
      ],
      "metadata": {
        "id": "_fooO4jM9oQy"
      }
    }
  ]
}